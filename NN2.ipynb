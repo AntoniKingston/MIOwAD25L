{
 "cells": [
  {
   "cell_type": "code",
   "execution_count": 190,
   "id": "cc86701d-f272-4f2f-b8e1-15479272d04f",
   "metadata": {},
   "outputs": [],
   "source": [
    "import numpy as np\n",
    "from collections.abc import Iterable\n",
    "import numbers\n",
    "import jax.numpy as jnp\n",
    "from jax import grad\n",
    "import plotly.graph_objects as go"
   ]
  },
  {
   "cell_type": "code",
   "execution_count": 208,
   "id": "c09587f8-252b-4051-b2b7-207a9a3a9cd8",
   "metadata": {},
   "outputs": [],
   "source": [
    "class MLP_with_backpropagation():\n",
    "    def identity(x):\n",
    "        return x\n",
    "        \n",
    "    def __init__(self, shape, activations = None): #len(activations)+1=len(shape)\n",
    "        fed_values = []\n",
    "        activation_values = []\n",
    "        for layer_size in shape:\n",
    "            fed_values.append(np.array([0]*layer_size))\n",
    "            activation_values.append(np.array([0]*layer_size))\n",
    "        self.fed_values = fed_values\n",
    "        self.activation_values = activation_values\n",
    "        #first layer values are set so that indexes match\n",
    "        weights = [0]\n",
    "        biases = [0]\n",
    "        for i in range(1, len(self.fed_values)):\n",
    "            n = len(self.fed_values[i])\n",
    "            m = len(self.fed_values[i-1])\n",
    "            #initialising with random values\n",
    "            weight_matrix = np.random.normal(0,1,(n,m))\n",
    "            weights.append(weight_matrix)\n",
    "            bias_vector = np.random.normal(0,1,n)\n",
    "            biases.append(bias_vector)\n",
    "        self.weights = weights\n",
    "        self.biases = biases\n",
    "        \n",
    "        if activations:\n",
    "            self.activations = [0] + [np.vectorize(activation) for activation in activations]\n",
    "            self.activations_sv = [0] + [activation for activation in activations]\n",
    "        else:\n",
    "            self.activations = [0] + [np.vectorize(MLP_with_backpropagation.identity)] * (len(shape) - 1)\n",
    "            self.activations_sv = [0] + [MLP_with_backpropagation.identity] * (len(shape) - 1)\n",
    "            \n",
    "    #2 functions below are only for technical purposes\n",
    "    def is_iterable(obj):\n",
    "        return isinstance(obj, Iterable)\n",
    "\n",
    "    def is_numeric_vector_of_given_length(supposed_vector, length):\n",
    "         if not MLP_with_backpropagation.is_iterable(supposed_vector):\n",
    "             return False\n",
    "         if len(supposed_vector) != length:\n",
    "             return False\n",
    "         for el in supposed_vector:\n",
    "             if not isinstance(el, numbers.Number):\n",
    "                 return False\n",
    "         return True\n",
    "        \n",
    "    def set_input(self, inputt):\n",
    "        if not MLP_with_backpropagation.is_numeric_vector_of_given_length(inputt, len(self.fed_values[0])):\n",
    "            print(\"Wrong input size or type, it is supposed to be a numerical list or a 1D np.array of length of 1st layer\")\n",
    "            return False\n",
    "        self.fed_values[0] = np.array(inputt)\n",
    "        self.activation_values[0] = np.array(inputt) #input is input\n",
    "        return True\n",
    "        \n",
    "    def feed_forward(self):\n",
    "        for i in range(1, len(self.fed_values)):\n",
    "            self.fed_values[i] = np.dot(self.weights[i], self.activation_values[i-1]) + self.biases[i] ##can do if statement if activation is function of layer not neuron\n",
    "            self.activation_values[i] = self.activations[i](self.fed_values[i])\n",
    "\n",
    "    def predict(self, x):\n",
    "        if not self.set_input(x):\n",
    "            return False\n",
    "        self.feed_forward()\n",
    "        return self.activation_values[-1]\n",
    "\n",
    "    def predict_multiple(self, x):\n",
    "        y = []\n",
    "        for el in x:\n",
    "            y.append(self.predict(el))\n",
    "        return np.array(y)\n",
    "        \n",
    "    #manual setting of weights and biases    \n",
    "    def set_weights(self, weights):\n",
    "        self.weights = weights\n",
    "\n",
    "    def set_biases(self, biases):\n",
    "        self.biases = biases\n",
    "\n",
    "    def squared_error(pred, expected):\n",
    "        return (pred - expected)**2\n",
    "\n",
    "    \n",
    "    #returns a pair first element is for weights second for biases\n",
    "    def derivative(self, inputt, expected):\n",
    "        self.predict(inputt)\n",
    "        dx = 10**(-6)\n",
    "        weight_grad = [0] + [np.zeros(self.weights[i].shape) for i in range(1, len(self.weights))]\n",
    "        bias_grad = [0] + [np.zeros(len(self.biases[i])) for i in range(1, len(self.biases))]\n",
    "        neuron_activation_grad = [0] + [np.zeros(len(self.activation_values[i])) for i in range(1, len(self.activation_values))]\n",
    "        neuron_fed_grad = [0] + [np.zeros(len(self.fed_values[i])) for i in range(1, len(self.fed_values))]\n",
    "        last_layer = True\n",
    "        for i in range(len(self.fed_values)-1, 0, -1):\n",
    "            #derivatives in respect to neuron activation values\n",
    "            for j in range(len(self.activation_values[i])):\n",
    "                if last_layer:\n",
    "                    x_0 = self.activation_values[i][j]\n",
    "                    y_0 = expected[j]\n",
    "                    dc_da = grad(MLP_with_backpropagation.squared_error, argnums = 0)\n",
    "                    neuron_activation_grad[i][j] = dc_da(x_0, y_0)\n",
    "                else:\n",
    "                    neuron_activation_grad[i][j] = sum([neuron_fed_grad[i+1][k] * self.weights[i+1][k][j] for k in range(len(neuron_fed_grad[i+1]))])\n",
    "                \n",
    "                da_dz = grad(self.activations_sv[i], argnums = 0)                                       \n",
    "                neuron_fed_grad[i][j] = neuron_activation_grad[i][j]*da_dz(self.fed_values[i][j])\n",
    "                bias_grad[i][j] = neuron_fed_grad[i][j]\n",
    "                \n",
    "                for k in range(len(self.weights[i][j])):\n",
    "                    weight_grad[i][j][k] = neuron_fed_grad[i][j] * self.activation_values[i-1][k]\n",
    "            last_layer = False\n",
    "        return (weight_grad, bias_grad)\n",
    "\n",
    "    def add_2_lists_of_np_arrays(l1, l2):\n",
    "        for i in range(len(l1)):\n",
    "            l1[i] += l2[i]\n",
    "        return l1\n",
    "        \n",
    "    def subtract_2_lists_of_np_arrays(l1, l2):\n",
    "        for i in range(len(l1)):\n",
    "            l1[i] -= l2[i]\n",
    "        return l1\n",
    "        \n",
    "    def create_0filled_list_of_np_arrays(lista):\n",
    "        listr = [0]\n",
    "        for i in range(1, len(lista)):\n",
    "            listr.append(np.zeros(lista[i].shape))\n",
    "        return listr\n",
    "\n",
    "    def multiply_list_elementwise(lista, factor):\n",
    "        for i in range(len(lista)):\n",
    "            lista[i] = lista[i] * factor\n",
    "        return lista\n",
    "\n",
    "    def learn(self, x, y, epochs, lr=0.01, batch_size = max(1,int(len(x)/100))):\n",
    "            for i in range(epochs):\n",
    "                idx = 0\n",
    "                while(idx + batch_size < len(x)):\n",
    "                    batchx = x[idx:idx+batch_size]\n",
    "                    batchy = y[idx:idx+batch_size]\n",
    "                    for i in range(batch_size):\n",
    "                        local_weight_gradient, local_bias_gradient = self.derivative(batchx[i], batchy[i])\n",
    "                        if i==0:\n",
    "                            avg_weight_gradient = MLP_with_backpropagation.create_0filled_list_of_np_arrays(local_weight_gradient)\n",
    "                            avg_bias_gradient = MLP_with_backpropagation.create_0filled_list_of_np_arrays(local_bias_gradient)\n",
    "                        avg_weight_gradient = MLP_with_backpropagation.add_2_lists_of_np_arrays(avg_weight_gradient, local_weight_gradient)\n",
    "                        avg_bias_gradient = MLP_with_backpropagation.add_2_lists_of_np_arrays(avg_bias_gradient, local_bias_gradient)\n",
    "                    avg_weight_gradient = MLP_with_backpropagation.multiply_list_elementwise(avg_weight_gradient, 1/batch_size)\n",
    "                    avg_bias_gradient = MLP_with_backpropagation.multiply_list_elementwise(avg_bias_gradient, 1/batch_size)\n",
    "                    self.weights = MLP_with_backpropagation.subtract_2_lists_of_np_arrays(self.weights, MLP_with_backpropagation.multiply_list_elementwise(avg_weight_gradient, lr))\n",
    "                    self.biases = MLP_with_backpropagation.subtract_2_lists_of_np_arrays(self.biases, MLP_with_backpropagation.multiply_list_elementwise(avg_bias_gradient, lr))\n",
    "                    idx += batch_size\n",
    "        \n",
    "\n",
    "    \n",
    "            \n",
    "        "
   ]
  },
  {
   "cell_type": "code",
   "execution_count": 218,
   "id": "115e183f-0cbc-4ae7-b929-0b55cd063814",
   "metadata": {},
   "outputs": [],
   "source": [
    "def MSE0_learn_MSE1(network, X_train, Y_train, X_test, Y_test):\n",
    "    max_x = max(X_train)\n",
    "    min_x = min(X_train)\n",
    "    max_y = max(Y_train)\n",
    "    min_y = min(Y_train)\n",
    "    x_scl = max_x - min_x\n",
    "    y_scl = max_y - min_y\n",
    "    X_tr_scl = X_train / x_scl\n",
    "    Y_tr_scl = Y_train / y_scl\n",
    "    X_ts_scl = X_test / x_scl\n",
    "    Y_ts_scl = Y_test / y_scl\n",
    "    pred0 = network.predict_multiple(X_ts_scl.reshape(-1,1)) * y_scl\n",
    "    MSE0 = sum((Y_test - pred0.reshape(-1))**2)\n",
    "    network.learn(X_tr_scl.reshape(-1,1), Y_tr_scl.reshape(-1,1), 50, 2)\n",
    "    pred1 = network.predict_multiple(X_ts_scl.reshape(-1,1)) * y_scl\n",
    "    MSE1 = sum((Y_test - pred1.reshape(-1))**2)\n",
    "    return MSE0, MSE1, pred0, pred1\n",
    "    \n",
    "network = MLP_with_backpropagation([1,5,1])\n",
    "train = pd.read_csv(\"data/regression/square-simple-training.csv\")\n",
    "test = pd.read_csv(\"data/regression/square-simple-test.csv\")\n",
    "\n",
    "X_train = train['x'].values\n",
    "Y_train = train['y'].values\n",
    "X_test = test['x'].values\n",
    "Y_test = test['y'].values\n",
    "max_x = max(X_train)\n",
    "min_x = min(X_train)\n",
    "max_y = max(Y_train)\n",
    "min_y = min(Y_train)\n",
    "x_scl = max_x - min_x\n",
    "y_scl = max_y - min_y\n",
    "X_tr_scl = X_train / x_scl\n",
    "Y_tr_scl = Y_train / y_scl\n",
    "X_ts_scl = X_test / x_scl\n",
    "Y_ts_scl = Y_test / y_scl\n",
    "\n",
    "MSE0, MSE1, pred0, pred1 = MSE0_learn_MSE1(network, X_train, Y_train, X_test, Y_test)\n",
    "\n",
    "\n",
    "    "
   ]
  },
  {
   "cell_type": "code",
   "execution_count": 219,
   "id": "21b540ad-8496-4522-ad64-142e6b25abcb",
   "metadata": {},
   "outputs": [
    {
     "data": {
      "text/plain": [
       "np.float64(265928750.63417447)"
      ]
     },
     "execution_count": 219,
     "metadata": {},
     "output_type": "execute_result"
    }
   ],
   "source": [
    "MSE0"
   ]
  },
  {
   "cell_type": "code",
   "execution_count": 220,
   "id": "52348486-8b7a-4963-86f0-fa7a8d2151e8",
   "metadata": {},
   "outputs": [
    {
     "data": {
      "text/plain": [
       "np.float64(nan)"
      ]
     },
     "execution_count": 220,
     "metadata": {},
     "output_type": "execute_result"
    }
   ],
   "source": [
    "MSE1"
   ]
  },
  {
   "cell_type": "code",
   "execution_count": 221,
   "id": "febe7331-927c-4232-b8b2-7dbaccad9ca8",
   "metadata": {},
   "outputs": [
    {
     "data": {
      "application/vnd.plotly.v1+json": {
       "config": {
        "plotlyServerURL": "https://plot.ly"
       },
       "data": [
        {
         "marker": {
          "color": "blue",
          "size": 10
         },
         "mode": "markers",
         "type": "scatter",
         "x": [
          -0.980436876532622,
          -1.21907436696347,
          0.124243429629132,
          1.22778856509831,
          1.06734785845038,
          1.36030655540526,
          -0.904431315604597,
          1.80652113934048,
          -0.472316555213183,
          -0.978247816441581,
          1.01782506948803,
          -0.365699166315608,
          1.22583324485458,
          -0.119456493644975,
          0.875075037707575,
          1.21538764960133,
          -0.842458345927298,
          -1.3981996338116,
          -1.02500171028078,
          0.880574623472057,
          1.7718803382013,
          0.42672929528635,
          0.606181823997758,
          -0.810519291553646,
          0.373328136978671,
          -0.871554912533611,
          0.0816027304390445,
          -0.390313268755563,
          -1.09338865359314,
          -0.848642451339401,
          1.05405533825979,
          -0.0584477507509291,
          -0.050826113903895,
          0.181085451506078,
          -0.003769370377995,
          -1.02228373952676,
          1.38637792225927,
          0.573064848897047,
          1.28038942173589,
          1.19161348999478,
          1.71319746039808,
          1.5192042196868,
          -0.390586667694151,
          -0.592587984050624,
          1.09793258178979,
          1.1157639088342,
          1.71266411908437,
          1.27616923220921,
          -1.03334633610211,
          -0.492875867406838,
          -0.818633496644907,
          1.24438283930067,
          -1.04894743394107,
          -1.04818750766572,
          -1.24711411050521,
          -1.31404680781998,
          0.3615605274681,
          -1.10692115419079,
          1.10115701903123,
          1.05960417049937,
          1.59791190468241,
          0.309888694435358,
          1.48175844748039,
          0.0497869389364496,
          -0.947419648524374,
          0.0481362359132618,
          1.88706783531234,
          0.196057753055356,
          -0.616395461955108,
          -0.591085069347173,
          0.397055793087929,
          0.774565431638621,
          -0.322533036931418,
          -1.28667588799726,
          0.079587975749746,
          1.43564261705615,
          0.511230670148507,
          -0.263273679069243,
          0.415991273825057,
          1.62451507837977,
          0.214966997038573,
          -0.899287603911944,
          0.400608479045331,
          1.86513693560846,
          -0.402106622816063,
          1.3718009183649,
          -0.425309598445892,
          -0.850912465946749,
          -1.33078628138173,
          -0.64014048455283,
          -0.271125772502273,
          -0.943421663832851,
          -0.435657011228614,
          -1.43858086329419,
          1.98793437727727,
          1.31537659431342,
          -1.19696789386217,
          1.54476644389797,
          0.441050521796569,
          -0.0251755235949531
         ],
         "y": [
          -43.4869178021461,
          3.75280809686433,
          -128.610721317459,
          5.6718284527546,
          -27.4691694155257,
          36.5390532210669,
          -56.3803595818364,
          163.716676419561,
          -109.92253645044,
          -43.8728088664552,
          -36.7628915129525,
          -117.963770778046,
          5.24004297716473,
          -128.715713151344,
          -61.0819310542978,
          2.94504249230906,
          -66.1237541839697,
          45.9465994391804,
          -35.4434344529336,
          -60.212949924734,
          152.560393961392,
          -113.611189768997,
          -96.9289236629276,
          -70.8752630217438,
          -117.456349192603,
          -61.6352830994677,
          -129.40068949464,
          -116.288999701001,
          -22.4051126974407,
          -65.1825390806187,
          -30.0070609497443,
          -129.692547438894,
          -129.767503553089,
          -127.048725332756,
          -129.998721266226,
          -35.9442360309272,
          42.983936899514,
          -100.443701106274,
          17.5457364163851,
          -2.2051561416216,
          134.154098448298,
          77.7183315002758,
          -116.269784951762,
          -98.3955533042936,
          -21.5089641259962,
          -17.9563809768731,
          133.989654631912,
          16.5747118313707,
          -33.8975814697905,
          -108.136604139516,
          -69.685527835384,
          9.36397856713967,
          -30.9738352745607,
          -31.1172653896181,
          9.97642441590773,
          25.4047111827685,
          -118.234658647929,
          -19.7253002564444,
          -20.8707897494422,
          -28.9515101674309,
          99.7990209613177,
          -121.357209735503,
          67.6047287011541,
          -129.77691346402,
          -49.2156408630957,
          -129.791461251289,
          190.492251356335,
          -126.54052217202,
          -95.8050971033034,
          -98.5556596715363,
          -115.811202745778,
          -76.0043552899429,
          -120.637519607902,
          18.9981356678189,
          -129.429917870445,
          55.4962751517039,
          -106.477888170956,
          -123.761827291841,
          -114.425613409127,
          107.514431589491,
          -125.84102711658,
          -57.2153624905283,
          -115.556156186529,
          183.086220971383,
          -115.447923749871,
          39.3653983664098,
          -113.720057092281,
          -64.8353177766781,
          29.3892914042441,
          -93.1198144032821,
          -123.384173393654,
          -49.896000778977,
          -112.918267171062,
          56.2563410212636,
          225.669477952469,
          25.7194026380815,
          -1.05410749568546,
          84.7673029573862,
          -112.492699350068,
          -129.942957371055
         ]
        },
        {
         "marker": {
          "color": "red",
          "size": 10
         },
         "mode": "markers",
         "type": "scatter",
         "x": [
          -0.980436876532622,
          -1.21907436696347,
          0.124243429629132,
          1.22778856509831,
          1.06734785845038,
          1.36030655540526,
          -0.904431315604597,
          1.80652113934048,
          -0.472316555213183,
          -0.978247816441581,
          1.01782506948803,
          -0.365699166315608,
          1.22583324485458,
          -0.119456493644975,
          0.875075037707575,
          1.21538764960133,
          -0.842458345927298,
          -1.3981996338116,
          -1.02500171028078,
          0.880574623472057,
          1.7718803382013,
          0.42672929528635,
          0.606181823997758,
          -0.810519291553646,
          0.373328136978671,
          -0.871554912533611,
          0.0816027304390445,
          -0.390313268755563,
          -1.09338865359314,
          -0.848642451339401,
          1.05405533825979,
          -0.0584477507509291,
          -0.050826113903895,
          0.181085451506078,
          -0.003769370377995,
          -1.02228373952676,
          1.38637792225927,
          0.573064848897047,
          1.28038942173589,
          1.19161348999478,
          1.71319746039808,
          1.5192042196868,
          -0.390586667694151,
          -0.592587984050624,
          1.09793258178979,
          1.1157639088342,
          1.71266411908437,
          1.27616923220921,
          -1.03334633610211,
          -0.492875867406838,
          -0.818633496644907,
          1.24438283930067,
          -1.04894743394107,
          -1.04818750766572,
          -1.24711411050521,
          -1.31404680781998,
          0.3615605274681,
          -1.10692115419079,
          1.10115701903123,
          1.05960417049937,
          1.59791190468241,
          0.309888694435358,
          1.48175844748039,
          0.0497869389364496,
          -0.947419648524374,
          0.0481362359132618,
          1.88706783531234,
          0.196057753055356,
          -0.616395461955108,
          -0.591085069347173,
          0.397055793087929,
          0.774565431638621,
          -0.322533036931418,
          -1.28667588799726,
          0.079587975749746,
          1.43564261705615,
          0.511230670148507,
          -0.263273679069243,
          0.415991273825057,
          1.62451507837977,
          0.214966997038573,
          -0.899287603911944,
          0.400608479045331,
          1.86513693560846,
          -0.402106622816063,
          1.3718009183649,
          -0.425309598445892,
          -0.850912465946749,
          -1.33078628138173,
          -0.64014048455283,
          -0.271125772502273,
          -0.943421663832851,
          -0.435657011228614,
          -1.43858086329419,
          1.98793437727727,
          1.31537659431342,
          -1.19696789386217,
          1.54476644389797,
          0.441050521796569,
          -0.0251755235949531
         ],
         "y": [
          null,
          null,
          null,
          null,
          null,
          null,
          null,
          null,
          null,
          null,
          null,
          null,
          null,
          null,
          null,
          null,
          null,
          null,
          null,
          null,
          null,
          null,
          null,
          null,
          null,
          null,
          null,
          null,
          null,
          null,
          null,
          null,
          null,
          null,
          null,
          null,
          null,
          null,
          null,
          null,
          null,
          null,
          null,
          null,
          null,
          null,
          null,
          null,
          null,
          null,
          null,
          null,
          null,
          null,
          null,
          null,
          null,
          null,
          null,
          null,
          null,
          null,
          null,
          null,
          null,
          null,
          null,
          null,
          null,
          null,
          null,
          null,
          null,
          null,
          null,
          null,
          null,
          null,
          null,
          null,
          null,
          null,
          null,
          null,
          null,
          null,
          null,
          null,
          null,
          null,
          null,
          null,
          null,
          null,
          null,
          null,
          null,
          null,
          null,
          null
         ]
        },
        {
         "marker": {
          "color": "green",
          "size": 10
         },
         "mode": "markers",
         "type": "scatter",
         "x": [
          -0.980436876532622,
          -1.21907436696347,
          0.124243429629132,
          1.22778856509831,
          1.06734785845038,
          1.36030655540526,
          -0.904431315604597,
          1.80652113934048,
          -0.472316555213183,
          -0.978247816441581,
          1.01782506948803,
          -0.365699166315608,
          1.22583324485458,
          -0.119456493644975,
          0.875075037707575,
          1.21538764960133,
          -0.842458345927298,
          -1.3981996338116,
          -1.02500171028078,
          0.880574623472057,
          1.7718803382013,
          0.42672929528635,
          0.606181823997758,
          -0.810519291553646,
          0.373328136978671,
          -0.871554912533611,
          0.0816027304390445,
          -0.390313268755563,
          -1.09338865359314,
          -0.848642451339401,
          1.05405533825979,
          -0.0584477507509291,
          -0.050826113903895,
          0.181085451506078,
          -0.003769370377995,
          -1.02228373952676,
          1.38637792225927,
          0.573064848897047,
          1.28038942173589,
          1.19161348999478,
          1.71319746039808,
          1.5192042196868,
          -0.390586667694151,
          -0.592587984050624,
          1.09793258178979,
          1.1157639088342,
          1.71266411908437,
          1.27616923220921,
          -1.03334633610211,
          -0.492875867406838,
          -0.818633496644907,
          1.24438283930067,
          -1.04894743394107,
          -1.04818750766572,
          -1.24711411050521,
          -1.31404680781998,
          0.3615605274681,
          -1.10692115419079,
          1.10115701903123,
          1.05960417049937,
          1.59791190468241,
          0.309888694435358,
          1.48175844748039,
          0.0497869389364496,
          -0.947419648524374,
          0.0481362359132618,
          1.88706783531234,
          0.196057753055356,
          -0.616395461955108,
          -0.591085069347173,
          0.397055793087929,
          0.774565431638621,
          -0.322533036931418,
          -1.28667588799726,
          0.079587975749746,
          1.43564261705615,
          0.511230670148507,
          -0.263273679069243,
          0.415991273825057,
          1.62451507837977,
          0.214966997038573,
          -0.899287603911944,
          0.400608479045331,
          1.86513693560846,
          -0.402106622816063,
          1.3718009183649,
          -0.425309598445892,
          -0.850912465946749,
          -1.33078628138173,
          -0.64014048455283,
          -0.271125772502273,
          -0.943421663832851,
          -0.435657011228614,
          -1.43858086329419,
          1.98793437727727,
          1.31537659431342,
          -1.19696789386217,
          1.54476644389797,
          0.441050521796569,
          -0.0251755235949531
         ],
         "y": [
          1517.638408599397,
          1502.361932038927,
          1588.3549702487212,
          1658.9988634818378,
          1648.7281860202738,
          1667.4820568355299,
          1522.5039356709656,
          1696.0466659425033,
          1550.1659388064936,
          1517.7785421765227,
          1645.5579644284085,
          1556.9910945667707,
          1658.8736928566457,
          1572.7544199790893,
          1636.41976275455,
          1658.2050138039183,
          1526.4711606738294,
          1490.8951548135508,
          1514.7855725385343,
          1636.7718209867737,
          1693.8291208883584,
          1607.7187266653812,
          1619.206453692796,
          1528.515752303677,
          1604.3002296734949,
          1524.6085320610787,
          1585.625308448627,
          1555.4154127311042,
          1510.4077543898973,
          1526.0752826363723,
          1647.8772599031977,
          1576.6599196100228,
          1577.1478218102845,
          1591.9937355294198,
          1580.1601784948423,
          1514.9595645480917,
          1669.1510260487312,
          1617.0864569857983,
          1662.366128834963,
          1656.6831012522962,
          1690.0725124625683,
          1677.6539558088552,
          1555.3979109862212,
          1542.4667140945162,
          1650.686079594998,
          1651.8275592893422,
          1690.0383704002172,
          1662.0959716762172,
          1514.251387903357,
          1548.8498260269853,
          1527.9963181457845,
          1660.061152732503,
          1513.2526772438366,
          1513.3013242351876,
          1500.5669563869308,
          1496.2822323906632,
          1603.5469213373385,
          1509.5414658289033,
          1650.892493263909,
          1648.2324706686682,
          1682.6924604578664,
          1600.2391278102773,
          1675.2568493845158,
          1583.588607541889,
          1519.752019955472,
          1583.4829371126682,
          1701.2028956313752,
          1592.9521935372582,
          1540.942668658423,
          1542.5629237939986,
          1605.8191652847165,
          1629.9855992103294,
          1559.754391995659,
          1498.034393018716,
          1585.4963331030908,
          1672.3047256370253,
          1613.1281167410086,
          1563.5479040282216,
          1607.031327829335,
          1684.3954735036712,
          1594.1626765253432,
          1522.8332124789167,
          1606.0465919294443,
          1699.7989801163762,
          1554.6604563470537,
          1668.2178731819617,
          1553.1751083713343,
          1525.9299667227726,
          1495.2106481436151,
          1539.4226213243392,
          1563.045249055343,
          1520.0079525808057,
          1552.5127145096178,
          1488.3101338909792,
          1707.6599085729754,
          1664.605846998412,
          1503.7770869567776,
          1679.2903320475186,
          1608.6355058382828,
          1578.789854840842
         ]
        }
       ],
       "layout": {
        "template": {
         "data": {
          "bar": [
           {
            "error_x": {
             "color": "#2a3f5f"
            },
            "error_y": {
             "color": "#2a3f5f"
            },
            "marker": {
             "line": {
              "color": "#E5ECF6",
              "width": 0.5
             },
             "pattern": {
              "fillmode": "overlay",
              "size": 10,
              "solidity": 0.2
             }
            },
            "type": "bar"
           }
          ],
          "barpolar": [
           {
            "marker": {
             "line": {
              "color": "#E5ECF6",
              "width": 0.5
             },
             "pattern": {
              "fillmode": "overlay",
              "size": 10,
              "solidity": 0.2
             }
            },
            "type": "barpolar"
           }
          ],
          "carpet": [
           {
            "aaxis": {
             "endlinecolor": "#2a3f5f",
             "gridcolor": "white",
             "linecolor": "white",
             "minorgridcolor": "white",
             "startlinecolor": "#2a3f5f"
            },
            "baxis": {
             "endlinecolor": "#2a3f5f",
             "gridcolor": "white",
             "linecolor": "white",
             "minorgridcolor": "white",
             "startlinecolor": "#2a3f5f"
            },
            "type": "carpet"
           }
          ],
          "choropleth": [
           {
            "colorbar": {
             "outlinewidth": 0,
             "ticks": ""
            },
            "type": "choropleth"
           }
          ],
          "contour": [
           {
            "colorbar": {
             "outlinewidth": 0,
             "ticks": ""
            },
            "colorscale": [
             [
              0,
              "#0d0887"
             ],
             [
              0.1111111111111111,
              "#46039f"
             ],
             [
              0.2222222222222222,
              "#7201a8"
             ],
             [
              0.3333333333333333,
              "#9c179e"
             ],
             [
              0.4444444444444444,
              "#bd3786"
             ],
             [
              0.5555555555555556,
              "#d8576b"
             ],
             [
              0.6666666666666666,
              "#ed7953"
             ],
             [
              0.7777777777777778,
              "#fb9f3a"
             ],
             [
              0.8888888888888888,
              "#fdca26"
             ],
             [
              1,
              "#f0f921"
             ]
            ],
            "type": "contour"
           }
          ],
          "contourcarpet": [
           {
            "colorbar": {
             "outlinewidth": 0,
             "ticks": ""
            },
            "type": "contourcarpet"
           }
          ],
          "heatmap": [
           {
            "colorbar": {
             "outlinewidth": 0,
             "ticks": ""
            },
            "colorscale": [
             [
              0,
              "#0d0887"
             ],
             [
              0.1111111111111111,
              "#46039f"
             ],
             [
              0.2222222222222222,
              "#7201a8"
             ],
             [
              0.3333333333333333,
              "#9c179e"
             ],
             [
              0.4444444444444444,
              "#bd3786"
             ],
             [
              0.5555555555555556,
              "#d8576b"
             ],
             [
              0.6666666666666666,
              "#ed7953"
             ],
             [
              0.7777777777777778,
              "#fb9f3a"
             ],
             [
              0.8888888888888888,
              "#fdca26"
             ],
             [
              1,
              "#f0f921"
             ]
            ],
            "type": "heatmap"
           }
          ],
          "heatmapgl": [
           {
            "colorbar": {
             "outlinewidth": 0,
             "ticks": ""
            },
            "colorscale": [
             [
              0,
              "#0d0887"
             ],
             [
              0.1111111111111111,
              "#46039f"
             ],
             [
              0.2222222222222222,
              "#7201a8"
             ],
             [
              0.3333333333333333,
              "#9c179e"
             ],
             [
              0.4444444444444444,
              "#bd3786"
             ],
             [
              0.5555555555555556,
              "#d8576b"
             ],
             [
              0.6666666666666666,
              "#ed7953"
             ],
             [
              0.7777777777777778,
              "#fb9f3a"
             ],
             [
              0.8888888888888888,
              "#fdca26"
             ],
             [
              1,
              "#f0f921"
             ]
            ],
            "type": "heatmapgl"
           }
          ],
          "histogram": [
           {
            "marker": {
             "pattern": {
              "fillmode": "overlay",
              "size": 10,
              "solidity": 0.2
             }
            },
            "type": "histogram"
           }
          ],
          "histogram2d": [
           {
            "colorbar": {
             "outlinewidth": 0,
             "ticks": ""
            },
            "colorscale": [
             [
              0,
              "#0d0887"
             ],
             [
              0.1111111111111111,
              "#46039f"
             ],
             [
              0.2222222222222222,
              "#7201a8"
             ],
             [
              0.3333333333333333,
              "#9c179e"
             ],
             [
              0.4444444444444444,
              "#bd3786"
             ],
             [
              0.5555555555555556,
              "#d8576b"
             ],
             [
              0.6666666666666666,
              "#ed7953"
             ],
             [
              0.7777777777777778,
              "#fb9f3a"
             ],
             [
              0.8888888888888888,
              "#fdca26"
             ],
             [
              1,
              "#f0f921"
             ]
            ],
            "type": "histogram2d"
           }
          ],
          "histogram2dcontour": [
           {
            "colorbar": {
             "outlinewidth": 0,
             "ticks": ""
            },
            "colorscale": [
             [
              0,
              "#0d0887"
             ],
             [
              0.1111111111111111,
              "#46039f"
             ],
             [
              0.2222222222222222,
              "#7201a8"
             ],
             [
              0.3333333333333333,
              "#9c179e"
             ],
             [
              0.4444444444444444,
              "#bd3786"
             ],
             [
              0.5555555555555556,
              "#d8576b"
             ],
             [
              0.6666666666666666,
              "#ed7953"
             ],
             [
              0.7777777777777778,
              "#fb9f3a"
             ],
             [
              0.8888888888888888,
              "#fdca26"
             ],
             [
              1,
              "#f0f921"
             ]
            ],
            "type": "histogram2dcontour"
           }
          ],
          "mesh3d": [
           {
            "colorbar": {
             "outlinewidth": 0,
             "ticks": ""
            },
            "type": "mesh3d"
           }
          ],
          "parcoords": [
           {
            "line": {
             "colorbar": {
              "outlinewidth": 0,
              "ticks": ""
             }
            },
            "type": "parcoords"
           }
          ],
          "pie": [
           {
            "automargin": true,
            "type": "pie"
           }
          ],
          "scatter": [
           {
            "fillpattern": {
             "fillmode": "overlay",
             "size": 10,
             "solidity": 0.2
            },
            "type": "scatter"
           }
          ],
          "scatter3d": [
           {
            "line": {
             "colorbar": {
              "outlinewidth": 0,
              "ticks": ""
             }
            },
            "marker": {
             "colorbar": {
              "outlinewidth": 0,
              "ticks": ""
             }
            },
            "type": "scatter3d"
           }
          ],
          "scattercarpet": [
           {
            "marker": {
             "colorbar": {
              "outlinewidth": 0,
              "ticks": ""
             }
            },
            "type": "scattercarpet"
           }
          ],
          "scattergeo": [
           {
            "marker": {
             "colorbar": {
              "outlinewidth": 0,
              "ticks": ""
             }
            },
            "type": "scattergeo"
           }
          ],
          "scattergl": [
           {
            "marker": {
             "colorbar": {
              "outlinewidth": 0,
              "ticks": ""
             }
            },
            "type": "scattergl"
           }
          ],
          "scattermapbox": [
           {
            "marker": {
             "colorbar": {
              "outlinewidth": 0,
              "ticks": ""
             }
            },
            "type": "scattermapbox"
           }
          ],
          "scatterpolar": [
           {
            "marker": {
             "colorbar": {
              "outlinewidth": 0,
              "ticks": ""
             }
            },
            "type": "scatterpolar"
           }
          ],
          "scatterpolargl": [
           {
            "marker": {
             "colorbar": {
              "outlinewidth": 0,
              "ticks": ""
             }
            },
            "type": "scatterpolargl"
           }
          ],
          "scatterternary": [
           {
            "marker": {
             "colorbar": {
              "outlinewidth": 0,
              "ticks": ""
             }
            },
            "type": "scatterternary"
           }
          ],
          "surface": [
           {
            "colorbar": {
             "outlinewidth": 0,
             "ticks": ""
            },
            "colorscale": [
             [
              0,
              "#0d0887"
             ],
             [
              0.1111111111111111,
              "#46039f"
             ],
             [
              0.2222222222222222,
              "#7201a8"
             ],
             [
              0.3333333333333333,
              "#9c179e"
             ],
             [
              0.4444444444444444,
              "#bd3786"
             ],
             [
              0.5555555555555556,
              "#d8576b"
             ],
             [
              0.6666666666666666,
              "#ed7953"
             ],
             [
              0.7777777777777778,
              "#fb9f3a"
             ],
             [
              0.8888888888888888,
              "#fdca26"
             ],
             [
              1,
              "#f0f921"
             ]
            ],
            "type": "surface"
           }
          ],
          "table": [
           {
            "cells": {
             "fill": {
              "color": "#EBF0F8"
             },
             "line": {
              "color": "white"
             }
            },
            "header": {
             "fill": {
              "color": "#C8D4E3"
             },
             "line": {
              "color": "white"
             }
            },
            "type": "table"
           }
          ]
         },
         "layout": {
          "annotationdefaults": {
           "arrowcolor": "#2a3f5f",
           "arrowhead": 0,
           "arrowwidth": 1
          },
          "autotypenumbers": "strict",
          "coloraxis": {
           "colorbar": {
            "outlinewidth": 0,
            "ticks": ""
           }
          },
          "colorscale": {
           "diverging": [
            [
             0,
             "#8e0152"
            ],
            [
             0.1,
             "#c51b7d"
            ],
            [
             0.2,
             "#de77ae"
            ],
            [
             0.3,
             "#f1b6da"
            ],
            [
             0.4,
             "#fde0ef"
            ],
            [
             0.5,
             "#f7f7f7"
            ],
            [
             0.6,
             "#e6f5d0"
            ],
            [
             0.7,
             "#b8e186"
            ],
            [
             0.8,
             "#7fbc41"
            ],
            [
             0.9,
             "#4d9221"
            ],
            [
             1,
             "#276419"
            ]
           ],
           "sequential": [
            [
             0,
             "#0d0887"
            ],
            [
             0.1111111111111111,
             "#46039f"
            ],
            [
             0.2222222222222222,
             "#7201a8"
            ],
            [
             0.3333333333333333,
             "#9c179e"
            ],
            [
             0.4444444444444444,
             "#bd3786"
            ],
            [
             0.5555555555555556,
             "#d8576b"
            ],
            [
             0.6666666666666666,
             "#ed7953"
            ],
            [
             0.7777777777777778,
             "#fb9f3a"
            ],
            [
             0.8888888888888888,
             "#fdca26"
            ],
            [
             1,
             "#f0f921"
            ]
           ],
           "sequentialminus": [
            [
             0,
             "#0d0887"
            ],
            [
             0.1111111111111111,
             "#46039f"
            ],
            [
             0.2222222222222222,
             "#7201a8"
            ],
            [
             0.3333333333333333,
             "#9c179e"
            ],
            [
             0.4444444444444444,
             "#bd3786"
            ],
            [
             0.5555555555555556,
             "#d8576b"
            ],
            [
             0.6666666666666666,
             "#ed7953"
            ],
            [
             0.7777777777777778,
             "#fb9f3a"
            ],
            [
             0.8888888888888888,
             "#fdca26"
            ],
            [
             1,
             "#f0f921"
            ]
           ]
          },
          "colorway": [
           "#636efa",
           "#EF553B",
           "#00cc96",
           "#ab63fa",
           "#FFA15A",
           "#19d3f3",
           "#FF6692",
           "#B6E880",
           "#FF97FF",
           "#FECB52"
          ],
          "font": {
           "color": "#2a3f5f"
          },
          "geo": {
           "bgcolor": "white",
           "lakecolor": "white",
           "landcolor": "#E5ECF6",
           "showlakes": true,
           "showland": true,
           "subunitcolor": "white"
          },
          "hoverlabel": {
           "align": "left"
          },
          "hovermode": "closest",
          "mapbox": {
           "style": "light"
          },
          "paper_bgcolor": "white",
          "plot_bgcolor": "#E5ECF6",
          "polar": {
           "angularaxis": {
            "gridcolor": "white",
            "linecolor": "white",
            "ticks": ""
           },
           "bgcolor": "#E5ECF6",
           "radialaxis": {
            "gridcolor": "white",
            "linecolor": "white",
            "ticks": ""
           }
          },
          "scene": {
           "xaxis": {
            "backgroundcolor": "#E5ECF6",
            "gridcolor": "white",
            "gridwidth": 2,
            "linecolor": "white",
            "showbackground": true,
            "ticks": "",
            "zerolinecolor": "white"
           },
           "yaxis": {
            "backgroundcolor": "#E5ECF6",
            "gridcolor": "white",
            "gridwidth": 2,
            "linecolor": "white",
            "showbackground": true,
            "ticks": "",
            "zerolinecolor": "white"
           },
           "zaxis": {
            "backgroundcolor": "#E5ECF6",
            "gridcolor": "white",
            "gridwidth": 2,
            "linecolor": "white",
            "showbackground": true,
            "ticks": "",
            "zerolinecolor": "white"
           }
          },
          "shapedefaults": {
           "line": {
            "color": "#2a3f5f"
           }
          },
          "ternary": {
           "aaxis": {
            "gridcolor": "white",
            "linecolor": "white",
            "ticks": ""
           },
           "baxis": {
            "gridcolor": "white",
            "linecolor": "white",
            "ticks": ""
           },
           "bgcolor": "#E5ECF6",
           "caxis": {
            "gridcolor": "white",
            "linecolor": "white",
            "ticks": ""
           }
          },
          "title": {
           "x": 0.05
          },
          "xaxis": {
           "automargin": true,
           "gridcolor": "white",
           "linecolor": "white",
           "ticks": "",
           "title": {
            "standoff": 15
           },
           "zerolinecolor": "white",
           "zerolinewidth": 2
          },
          "yaxis": {
           "automargin": true,
           "gridcolor": "white",
           "linecolor": "white",
           "ticks": "",
           "title": {
            "standoff": 15
           },
           "zerolinecolor": "white",
           "zerolinewidth": 2
          }
         }
        },
        "title": {
         "text": "Scatter Plot Example"
        },
        "xaxis": {
         "title": {
          "text": "X-axis"
         }
        },
        "yaxis": {
         "title": {
          "text": "Y-axis"
         }
        }
       }
      },
      "image/png": "[encoded data removed]",
      "text/html": [
       "<div>                            <div id=\"23275d61-3366-4fd8-bd51-fc4a9799f8ea\" class=\"plotly-graph-div\" style=\"height:525px; width:100%;\"></div>            <script type=\"text/javascript\">                require([\"plotly\"], function(Plotly) {                    window.PLOTLYENV=window.PLOTLYENV || {};                                    if (document.getElementById(\"23275d61-3366-4fd8-bd51-fc4a9799f8ea\")) {                    Plotly.newPlot(                        \"23275d61-3366-4fd8-bd51-fc4a9799f8ea\",                        [{\"marker\":{\"color\":\"blue\",\"size\":10},\"mode\":\"markers\",\"x\":[-0.980436876532622,-1.21907436696347,0.124243429629132,1.22778856509831,1.06734785845038,1.36030655540526,-0.904431315604597,1.80652113934048,-0.472316555213183,-0.978247816441581,1.01782506948803,-0.365699166315608,1.22583324485458,-0.119456493644975,0.875075037707575,1.21538764960133,-0.842458345927298,-1.3981996338116,-1.02500171028078,0.880574623472057,1.7718803382013,0.42672929528635,0.606181823997758,-0.810519291553646,0.373328136978671,-0.871554912533611,0.0816027304390445,-0.390313268755563,-1.09338865359314,-0.848642451339401,1.05405533825979,-0.0584477507509291,-0.050826113903895,0.181085451506078,-0.003769370377995,-1.02228373952676,1.38637792225927,0.573064848897047,1.28038942173589,1.19161348999478,1.71319746039808,1.5192042196868,-0.390586667694151,-0.592587984050624,1.09793258178979,1.1157639088342,1.71266411908437,1.27616923220921,-1.03334633610211,-0.492875867406838,-0.818633496644907,1.24438283930067,-1.04894743394107,-1.04818750766572,-1.24711411050521,-1.31404680781998,0.3615605274681,-1.10692115419079,1.10115701903123,1.05960417049937,1.59791190468241,0.309888694435358,1.48175844748039,0.0497869389364496,-0.947419648524374,0.0481362359132618,1.88706783531234,0.196057753055356,-0.616395461955108,-0.591085069347173,0.397055793087929,0.774565431638621,-0.322533036931418,-1.28667588799726,0.079587975749746,1.43564261705615,0.511230670148507,-0.263273679069243,0.415991273825057,1.62451507837977,0.214966997038573,-0.899287603911944,0.400608479045331,1.86513693560846,-0.402106622816063,1.3718009183649,-0.425309598445892,-0.850912465946749,-1.33078628138173,-0.64014048455283,-0.271125772502273,-0.943421663832851,-0.435657011228614,-1.43858086329419,1.98793437727727,1.31537659431342,-1.19696789386217,1.54476644389797,0.441050521796569,-0.0251755235949531],\"y\":[-43.4869178021461,3.75280809686433,-128.610721317459,5.6718284527546,-27.4691694155257,36.5390532210669,-56.3803595818364,163.716676419561,-109.92253645044,-43.8728088664552,-36.7628915129525,-117.963770778046,5.24004297716473,-128.715713151344,-61.0819310542978,2.94504249230906,-66.1237541839697,45.9465994391804,-35.4434344529336,-60.212949924734,152.560393961392,-113.611189768997,-96.9289236629276,-70.8752630217438,-117.456349192603,-61.6352830994677,-129.40068949464,-116.288999701001,-22.4051126974407,-65.1825390806187,-30.0070609497443,-129.692547438894,-129.767503553089,-127.048725332756,-129.998721266226,-35.9442360309272,42.983936899514,-100.443701106274,17.5457364163851,-2.2051561416216,134.154098448298,77.7183315002758,-116.269784951762,-98.3955533042936,-21.5089641259962,-17.9563809768731,133.989654631912,16.5747118313707,-33.8975814697905,-108.136604139516,-69.685527835384,9.36397856713967,-30.9738352745607,-31.1172653896181,9.97642441590773,25.4047111827685,-118.234658647929,-19.7253002564444,-20.8707897494422,-28.9515101674309,99.7990209613177,-121.357209735503,67.6047287011541,-129.77691346402,-49.2156408630957,-129.791461251289,190.492251356335,-126.54052217202,-95.8050971033034,-98.5556596715363,-115.811202745778,-76.0043552899429,-120.637519607902,18.9981356678189,-129.429917870445,55.4962751517039,-106.477888170956,-123.761827291841,-114.425613409127,107.514431589491,-125.84102711658,-57.2153624905283,-115.556156186529,183.086220971383,-115.447923749871,39.3653983664098,-113.720057092281,-64.8353177766781,29.3892914042441,-93.1198144032821,-123.384173393654,-49.896000778977,-112.918267171062,56.2563410212636,225.669477952469,25.7194026380815,-1.05410749568546,84.7673029573862,-112.492699350068,-129.942957371055],\"type\":\"scatter\"},{\"marker\":{\"color\":\"red\",\"size\":10},\"mode\":\"markers\",\"x\":[-0.980436876532622,-1.21907436696347,0.124243429629132,1.22778856509831,1.06734785845038,1.36030655540526,-0.904431315604597,1.80652113934048,-0.472316555213183,-0.978247816441581,1.01782506948803,-0.365699166315608,1.22583324485458,-0.119456493644975,0.875075037707575,1.21538764960133,-0.842458345927298,-1.3981996338116,-1.02500171028078,0.880574623472057,1.7718803382013,0.42672929528635,0.606181823997758,-0.810519291553646,0.373328136978671,-0.871554912533611,0.0816027304390445,-0.390313268755563,-1.09338865359314,-0.848642451339401,1.05405533825979,-0.0584477507509291,-0.050826113903895,0.181085451506078,-0.003769370377995,-1.02228373952676,1.38637792225927,0.573064848897047,1.28038942173589,1.19161348999478,1.71319746039808,1.5192042196868,-0.390586667694151,-0.592587984050624,1.09793258178979,1.1157639088342,1.71266411908437,1.27616923220921,-1.03334633610211,-0.492875867406838,-0.818633496644907,1.24438283930067,-1.04894743394107,-1.04818750766572,-1.24711411050521,-1.31404680781998,0.3615605274681,-1.10692115419079,1.10115701903123,1.05960417049937,1.59791190468241,0.309888694435358,1.48175844748039,0.0497869389364496,-0.947419648524374,0.0481362359132618,1.88706783531234,0.196057753055356,-0.616395461955108,-0.591085069347173,0.397055793087929,0.774565431638621,-0.322533036931418,-1.28667588799726,0.079587975749746,1.43564261705615,0.511230670148507,-0.263273679069243,0.415991273825057,1.62451507837977,0.214966997038573,-0.899287603911944,0.400608479045331,1.86513693560846,-0.402106622816063,1.3718009183649,-0.425309598445892,-0.850912465946749,-1.33078628138173,-0.64014048455283,-0.271125772502273,-0.943421663832851,-0.435657011228614,-1.43858086329419,1.98793437727727,1.31537659431342,-1.19696789386217,1.54476644389797,0.441050521796569,-0.0251755235949531],\"y\":[null,null,null,null,null,null,null,null,null,null,null,null,null,null,null,null,null,null,null,null,null,null,null,null,null,null,null,null,null,null,null,null,null,null,null,null,null,null,null,null,null,null,null,null,null,null,null,null,null,null,null,null,null,null,null,null,null,null,null,null,null,null,null,null,null,null,null,null,null,null,null,null,null,null,null,null,null,null,null,null,null,null,null,null,null,null,null,null,null,null,null,null,null,null,null,null,null,null,null,null],\"type\":\"scatter\"},{\"marker\":{\"color\":\"green\",\"size\":10},\"mode\":\"markers\",\"x\":[-0.980436876532622,-1.21907436696347,0.124243429629132,1.22778856509831,1.06734785845038,1.36030655540526,-0.904431315604597,1.80652113934048,-0.472316555213183,-0.978247816441581,1.01782506948803,-0.365699166315608,1.22583324485458,-0.119456493644975,0.875075037707575,1.21538764960133,-0.842458345927298,-1.3981996338116,-1.02500171028078,0.880574623472057,1.7718803382013,0.42672929528635,0.606181823997758,-0.810519291553646,0.373328136978671,-0.871554912533611,0.0816027304390445,-0.390313268755563,-1.09338865359314,-0.848642451339401,1.05405533825979,-0.0584477507509291,-0.050826113903895,0.181085451506078,-0.003769370377995,-1.02228373952676,1.38637792225927,0.573064848897047,1.28038942173589,1.19161348999478,1.71319746039808,1.5192042196868,-0.390586667694151,-0.592587984050624,1.09793258178979,1.1157639088342,1.71266411908437,1.27616923220921,-1.03334633610211,-0.492875867406838,-0.818633496644907,1.24438283930067,-1.04894743394107,-1.04818750766572,-1.24711411050521,-1.31404680781998,0.3615605274681,-1.10692115419079,1.10115701903123,1.05960417049937,1.59791190468241,0.309888694435358,1.48175844748039,0.0497869389364496,-0.947419648524374,0.0481362359132618,1.88706783531234,0.196057753055356,-0.616395461955108,-0.591085069347173,0.397055793087929,0.774565431638621,-0.322533036931418,-1.28667588799726,0.079587975749746,1.43564261705615,0.511230670148507,-0.263273679069243,0.415991273825057,1.62451507837977,0.214966997038573,-0.899287603911944,0.400608479045331,1.86513693560846,-0.402106622816063,1.3718009183649,-0.425309598445892,-0.850912465946749,-1.33078628138173,-0.64014048455283,-0.271125772502273,-0.943421663832851,-0.435657011228614,-1.43858086329419,1.98793437727727,1.31537659431342,-1.19696789386217,1.54476644389797,0.441050521796569,-0.0251755235949531],\"y\":[1517.638408599397,1502.361932038927,1588.3549702487212,1658.9988634818378,1648.7281860202738,1667.4820568355299,1522.5039356709656,1696.0466659425033,1550.1659388064936,1517.7785421765227,1645.5579644284085,1556.9910945667707,1658.8736928566457,1572.7544199790893,1636.41976275455,1658.2050138039183,1526.4711606738294,1490.8951548135508,1514.7855725385343,1636.7718209867737,1693.8291208883584,1607.7187266653812,1619.206453692796,1528.515752303677,1604.3002296734949,1524.6085320610787,1585.625308448627,1555.4154127311042,1510.4077543898973,1526.0752826363723,1647.8772599031977,1576.6599196100228,1577.1478218102845,1591.9937355294198,1580.1601784948423,1514.9595645480917,1669.1510260487312,1617.0864569857983,1662.366128834963,1656.6831012522962,1690.0725124625683,1677.6539558088552,1555.3979109862212,1542.4667140945162,1650.686079594998,1651.8275592893422,1690.0383704002172,1662.0959716762172,1514.251387903357,1548.8498260269853,1527.9963181457845,1660.061152732503,1513.2526772438366,1513.3013242351876,1500.5669563869308,1496.2822323906632,1603.5469213373385,1509.5414658289033,1650.892493263909,1648.2324706686682,1682.6924604578664,1600.2391278102773,1675.2568493845158,1583.588607541889,1519.752019955472,1583.4829371126682,1701.2028956313752,1592.9521935372582,1540.942668658423,1542.5629237939986,1605.8191652847165,1629.9855992103294,1559.754391995659,1498.034393018716,1585.4963331030908,1672.3047256370253,1613.1281167410086,1563.5479040282216,1607.031327829335,1684.3954735036712,1594.1626765253432,1522.8332124789167,1606.0465919294443,1699.7989801163762,1554.6604563470537,1668.2178731819617,1553.1751083713343,1525.9299667227726,1495.2106481436151,1539.4226213243392,1563.045249055343,1520.0079525808057,1552.5127145096178,1488.3101338909792,1707.6599085729754,1664.605846998412,1503.7770869567776,1679.2903320475186,1608.6355058382828,1578.789854840842],\"type\":\"scatter\"}],                        {\"template\":{\"data\":{\"histogram2dcontour\":[{\"type\":\"histogram2dcontour\",\"colorbar\":{\"outlinewidth\":0,\"ticks\":\"\"},\"colorscale\":[[0.0,\"#0d0887\"],[0.1111111111111111,\"#46039f\"],[0.2222222222222222,\"#7201a8\"],[0.3333333333333333,\"#9c179e\"],[0.4444444444444444,\"#bd3786\"],[0.5555555555555556,\"#d8576b\"],[0.6666666666666666,\"#ed7953\"],[0.7777777777777778,\"#fb9f3a\"],[0.8888888888888888,\"#fdca26\"],[1.0,\"#f0f921\"]]}],\"choropleth\":[{\"type\":\"choropleth\",\"colorbar\":{\"outlinewidth\":0,\"ticks\":\"\"}}],\"histogram2d\":[{\"type\":\"histogram2d\",\"colorbar\":{\"outlinewidth\":0,\"ticks\":\"\"},\"colorscale\":[[0.0,\"#0d0887\"],[0.1111111111111111,\"#46039f\"],[0.2222222222222222,\"#7201a8\"],[0.3333333333333333,\"#9c179e\"],[0.4444444444444444,\"#bd3786\"],[0.5555555555555556,\"#d8576b\"],[0.6666666666666666,\"#ed7953\"],[0.7777777777777778,\"#fb9f3a\"],[0.8888888888888888,\"#fdca26\"],[1.0,\"#f0f921\"]]}],\"heatmap\":[{\"type\":\"heatmap\",\"colorbar\":{\"outlinewidth\":0,\"ticks\":\"\"},\"colorscale\":[[0.0,\"#0d0887\"],[0.1111111111111111,\"#46039f\"],[0.2222222222222222,\"#7201a8\"],[0.3333333333333333,\"#9c179e\"],[0.4444444444444444,\"#bd3786\"],[0.5555555555555556,\"#d8576b\"],[0.6666666666666666,\"#ed7953\"],[0.7777777777777778,\"#fb9f3a\"],[0.8888888888888888,\"#fdca26\"],[1.0,\"#f0f921\"]]}],\"heatmapgl\":[{\"type\":\"heatmapgl\",\"colorbar\":{\"outlinewidth\":0,\"ticks\":\"\"},\"colorscale\":[[0.0,\"#0d0887\"],[0.1111111111111111,\"#46039f\"],[0.2222222222222222,\"#7201a8\"],[0.3333333333333333,\"#9c179e\"],[0.4444444444444444,\"#bd3786\"],[0.5555555555555556,\"#d8576b\"],[0.6666666666666666,\"#ed7953\"],[0.7777777777777778,\"#fb9f3a\"],[0.8888888888888888,\"#fdca26\"],[1.0,\"#f0f921\"]]}],\"contourcarpet\":[{\"type\":\"contourcarpet\",\"colorbar\":{\"outlinewidth\":0,\"ticks\":\"\"}}],\"contour\":[{\"type\":\"contour\",\"colorbar\":{\"outlinewidth\":0,\"ticks\":\"\"},\"colorscale\":[[0.0,\"#0d0887\"],[0.1111111111111111,\"#46039f\"],[0.2222222222222222,\"#7201a8\"],[0.3333333333333333,\"#9c179e\"],[0.4444444444444444,\"#bd3786\"],[0.5555555555555556,\"#d8576b\"],[0.6666666666666666,\"#ed7953\"],[0.7777777777777778,\"#fb9f3a\"],[0.8888888888888888,\"#fdca26\"],[1.0,\"#f0f921\"]]}],\"surface\":[{\"type\":\"surface\",\"colorbar\":{\"outlinewidth\":0,\"ticks\":\"\"},\"colorscale\":[[0.0,\"#0d0887\"],[0.1111111111111111,\"#46039f\"],[0.2222222222222222,\"#7201a8\"],[0.3333333333333333,\"#9c179e\"],[0.4444444444444444,\"#bd3786\"],[0.5555555555555556,\"#d8576b\"],[0.6666666666666666,\"#ed7953\"],[0.7777777777777778,\"#fb9f3a\"],[0.8888888888888888,\"#fdca26\"],[1.0,\"#f0f921\"]]}],\"mesh3d\":[{\"type\":\"mesh3d\",\"colorbar\":{\"outlinewidth\":0,\"ticks\":\"\"}}],\"scatter\":[{\"fillpattern\":{\"fillmode\":\"overlay\",\"size\":10,\"solidity\":0.2},\"type\":\"scatter\"}],\"parcoords\":[{\"type\":\"parcoords\",\"line\":{\"colorbar\":{\"outlinewidth\":0,\"ticks\":\"\"}}}],\"scatterpolargl\":[{\"type\":\"scatterpolargl\",\"marker\":{\"colorbar\":{\"outlinewidth\":0,\"ticks\":\"\"}}}],\"bar\":[{\"error_x\":{\"color\":\"#2a3f5f\"},\"error_y\":{\"color\":\"#2a3f5f\"},\"marker\":{\"line\":{\"color\":\"#E5ECF6\",\"width\":0.5},\"pattern\":{\"fillmode\":\"overlay\",\"size\":10,\"solidity\":0.2}},\"type\":\"bar\"}],\"scattergeo\":[{\"type\":\"scattergeo\",\"marker\":{\"colorbar\":{\"outlinewidth\":0,\"ticks\":\"\"}}}],\"scatterpolar\":[{\"type\":\"scatterpolar\",\"marker\":{\"colorbar\":{\"outlinewidth\":0,\"ticks\":\"\"}}}],\"histogram\":[{\"marker\":{\"pattern\":{\"fillmode\":\"overlay\",\"size\":10,\"solidity\":0.2}},\"type\":\"histogram\"}],\"scattergl\":[{\"type\":\"scattergl\",\"marker\":{\"colorbar\":{\"outlinewidth\":0,\"ticks\":\"\"}}}],\"scatter3d\":[{\"type\":\"scatter3d\",\"line\":{\"colorbar\":{\"outlinewidth\":0,\"ticks\":\"\"}},\"marker\":{\"colorbar\":{\"outlinewidth\":0,\"ticks\":\"\"}}}],\"scattermapbox\":[{\"type\":\"scattermapbox\",\"marker\":{\"colorbar\":{\"outlinewidth\":0,\"ticks\":\"\"}}}],\"scatterternary\":[{\"type\":\"scatterternary\",\"marker\":{\"colorbar\":{\"outlinewidth\":0,\"ticks\":\"\"}}}],\"scattercarpet\":[{\"type\":\"scattercarpet\",\"marker\":{\"colorbar\":{\"outlinewidth\":0,\"ticks\":\"\"}}}],\"carpet\":[{\"aaxis\":{\"endlinecolor\":\"#2a3f5f\",\"gridcolor\":\"white\",\"linecolor\":\"white\",\"minorgridcolor\":\"white\",\"startlinecolor\":\"#2a3f5f\"},\"baxis\":{\"endlinecolor\":\"#2a3f5f\",\"gridcolor\":\"white\",\"linecolor\":\"white\",\"minorgridcolor\":\"white\",\"startlinecolor\":\"#2a3f5f\"},\"type\":\"carpet\"}],\"table\":[{\"cells\":{\"fill\":{\"color\":\"#EBF0F8\"},\"line\":{\"color\":\"white\"}},\"header\":{\"fill\":{\"color\":\"#C8D4E3\"},\"line\":{\"color\":\"white\"}},\"type\":\"table\"}],\"barpolar\":[{\"marker\":{\"line\":{\"color\":\"#E5ECF6\",\"width\":0.5},\"pattern\":{\"fillmode\":\"overlay\",\"size\":10,\"solidity\":0.2}},\"type\":\"barpolar\"}],\"pie\":[{\"automargin\":true,\"type\":\"pie\"}]},\"layout\":{\"autotypenumbers\":\"strict\",\"colorway\":[\"#636efa\",\"#EF553B\",\"#00cc96\",\"#ab63fa\",\"#FFA15A\",\"#19d3f3\",\"#FF6692\",\"#B6E880\",\"#FF97FF\",\"#FECB52\"],\"font\":{\"color\":\"#2a3f5f\"},\"hovermode\":\"closest\",\"hoverlabel\":{\"align\":\"left\"},\"paper_bgcolor\":\"white\",\"plot_bgcolor\":\"#E5ECF6\",\"polar\":{\"bgcolor\":\"#E5ECF6\",\"angularaxis\":{\"gridcolor\":\"white\",\"linecolor\":\"white\",\"ticks\":\"\"},\"radialaxis\":{\"gridcolor\":\"white\",\"linecolor\":\"white\",\"ticks\":\"\"}},\"ternary\":{\"bgcolor\":\"#E5ECF6\",\"aaxis\":{\"gridcolor\":\"white\",\"linecolor\":\"white\",\"ticks\":\"\"},\"baxis\":{\"gridcolor\":\"white\",\"linecolor\":\"white\",\"ticks\":\"\"},\"caxis\":{\"gridcolor\":\"white\",\"linecolor\":\"white\",\"ticks\":\"\"}},\"coloraxis\":{\"colorbar\":{\"outlinewidth\":0,\"ticks\":\"\"}},\"colorscale\":{\"sequential\":[[0.0,\"#0d0887\"],[0.1111111111111111,\"#46039f\"],[0.2222222222222222,\"#7201a8\"],[0.3333333333333333,\"#9c179e\"],[0.4444444444444444,\"#bd3786\"],[0.5555555555555556,\"#d8576b\"],[0.6666666666666666,\"#ed7953\"],[0.7777777777777778,\"#fb9f3a\"],[0.8888888888888888,\"#fdca26\"],[1.0,\"#f0f921\"]],\"sequentialminus\":[[0.0,\"#0d0887\"],[0.1111111111111111,\"#46039f\"],[0.2222222222222222,\"#7201a8\"],[0.3333333333333333,\"#9c179e\"],[0.4444444444444444,\"#bd3786\"],[0.5555555555555556,\"#d8576b\"],[0.6666666666666666,\"#ed7953\"],[0.7777777777777778,\"#fb9f3a\"],[0.8888888888888888,\"#fdca26\"],[1.0,\"#f0f921\"]],\"diverging\":[[0,\"#8e0152\"],[0.1,\"#c51b7d\"],[0.2,\"#de77ae\"],[0.3,\"#f1b6da\"],[0.4,\"#fde0ef\"],[0.5,\"#f7f7f7\"],[0.6,\"#e6f5d0\"],[0.7,\"#b8e186\"],[0.8,\"#7fbc41\"],[0.9,\"#4d9221\"],[1,\"#276419\"]]},\"xaxis\":{\"gridcolor\":\"white\",\"linecolor\":\"white\",\"ticks\":\"\",\"title\":{\"standoff\":15},\"zerolinecolor\":\"white\",\"automargin\":true,\"zerolinewidth\":2},\"yaxis\":{\"gridcolor\":\"white\",\"linecolor\":\"white\",\"ticks\":\"\",\"title\":{\"standoff\":15},\"zerolinecolor\":\"white\",\"automargin\":true,\"zerolinewidth\":2},\"scene\":{\"xaxis\":{\"backgroundcolor\":\"#E5ECF6\",\"gridcolor\":\"white\",\"linecolor\":\"white\",\"showbackground\":true,\"ticks\":\"\",\"zerolinecolor\":\"white\",\"gridwidth\":2},\"yaxis\":{\"backgroundcolor\":\"#E5ECF6\",\"gridcolor\":\"white\",\"linecolor\":\"white\",\"showbackground\":true,\"ticks\":\"\",\"zerolinecolor\":\"white\",\"gridwidth\":2},\"zaxis\":{\"backgroundcolor\":\"#E5ECF6\",\"gridcolor\":\"white\",\"linecolor\":\"white\",\"showbackground\":true,\"ticks\":\"\",\"zerolinecolor\":\"white\",\"gridwidth\":2}},\"shapedefaults\":{\"line\":{\"color\":\"#2a3f5f\"}},\"annotationdefaults\":{\"arrowcolor\":\"#2a3f5f\",\"arrowhead\":0,\"arrowwidth\":1},\"geo\":{\"bgcolor\":\"white\",\"landcolor\":\"#E5ECF6\",\"subunitcolor\":\"white\",\"showland\":true,\"showlakes\":true,\"lakecolor\":\"white\"},\"title\":{\"x\":0.05},\"mapbox\":{\"style\":\"light\"}}},\"title\":{\"text\":\"Scatter Plot Example\"},\"xaxis\":{\"title\":{\"text\":\"X-axis\"}},\"yaxis\":{\"title\":{\"text\":\"Y-axis\"}}},                        {\"responsive\": true}                    ).then(function(){\n",
       "                            \n",
       "var gd = document.getElementById('23275d61-3366-4fd8-bd51-fc4a9799f8ea');\n",
       "var x = new MutationObserver(function (mutations, observer) {{\n",
       "        var display = window.getComputedStyle(gd).display;\n",
       "        if (!display || display === 'none') {{\n",
       "            console.log([gd, 'removed!']);\n",
       "            Plotly.purge(gd);\n",
       "            observer.disconnect();\n",
       "        }}\n",
       "}});\n",
       "\n",
       "// Listen for the removal of the full notebook cells\n",
       "var notebookContainer = gd.closest('#notebook-container');\n",
       "if (notebookContainer) {{\n",
       "    x.observe(notebookContainer, {childList: true});\n",
       "}}\n",
       "\n",
       "// Listen for the clearing of the current output cell\n",
       "var outputEl = gd.closest('.output');\n",
       "if (outputEl) {{\n",
       "    x.observe(outputEl, {childList: true});\n",
       "}}\n",
       "\n",
       "                        })                };                });            </script>        </div>"
      ]
     },
     "metadata": {},
     "output_type": "display_data"
    }
   ],
   "source": [
    "fig = go.Figure(data=go.Scatter(x=X_test, y=Y_test, mode='markers', marker=dict(color='blue', size=10)))\n",
    "\n",
    "fig.add_trace(go.Scatter(x=X_test, y=pred1.reshape(-1), mode='markers', marker=dict(color='red', size=10)))\n",
    "fig.add_trace(go.Scatter(x=X_test, y=pred0.reshape(-1), mode='markers', marker=dict(color='green', size=10)))\n",
    "\n",
    "fig.update_layout(title=\"Scatter Plot Example\", xaxis_title=\"X-axis\", yaxis_title=\"Y-axis\")\n",
    "\n",
    "fig.show()"
   ]
  },
  {
   "cell_type": "code",
   "execution_count": 150,
   "id": "a1ff9fcc-16b7-4e9f-9f4a-5e33d90fc546",
   "metadata": {},
   "outputs": [
    {
     "name": "stdout",
     "output_type": "stream",
     "text": [
      "[-0.47281368  2.6941238  -0.75494902 -1.11110316 -0.09680387] + [ 0.81893917 -0.58106128 -0.24249267 -0.56237396 -1.28480126]\n",
      "[-1.50452024] + [-0.36423103]\n"
     ]
    },
    {
     "data": {
      "text/plain": [
       "([0,\n",
       "  array([[-0.49614689],\n",
       "         [ 4.84981966],\n",
       "         [ 5.09489298],\n",
       "         [-8.459342  ],\n",
       "         [ 1.36545646]]),\n",
       "  array([[ -1.9858959 , -12.12370167,   5.72282427,   9.60157933,\n",
       "            7.92696302]])],\n",
       " [0,\n",
       "  array([-0.24807344,  2.42490983,  2.54744649, -4.229671  ,  0.68272823]),\n",
       "  array([-5.73750257])])"
      ]
     },
     "execution_count": 150,
     "metadata": {},
     "output_type": "execute_result"
    }
   ],
   "source": [
    "network = MLP_with_backpropagation([1,5,1])\n",
    "network.derivative([2], [1])"
   ]
  },
  {
   "cell_type": "code",
   "execution_count": 198,
   "id": "758553f6-e724-495f-92fb-811ef3b7fdfe",
   "metadata": {},
   "outputs": [
    {
     "name": "stdout",
     "output_type": "stream",
     "text": [
      "[-0.48955938 -0.58603476 -0.0429638   0.40317287  0.33831056  0.45674669\n",
      " -0.45883217  0.63714048 -0.2841386  -0.4886744   0.3182897  -0.24103576\n",
      "  0.40238238 -0.14148579  0.2605793   0.39815948 -0.43377799 -0.65845078\n",
      " -0.50757587  0.26280265  0.62313604  0.07932394  0.15187227 -0.4208658\n",
      "  0.05773514 -0.44554103 -0.0602024  -0.25098665 -0.53522306 -0.43627808\n",
      "  0.33293672 -0.11682143 -0.11374019 -0.01998394 -0.09471628 -0.50647706\n",
      "  0.46728672  0.13848387  0.42443813  0.38854816  0.59941197  0.52098518\n",
      " -0.25109718 -0.33276143  0.35067523  0.357884    0.59919635  0.422732\n",
      " -0.5109494  -0.29245023 -0.42414618  0.40988153 -0.51725655 -0.51694933\n",
      " -0.59737055 -0.62442982  0.05297778 -0.54069392  0.35197879  0.33517998\n",
      "  0.5528048   0.0320881   0.50584676 -0.07306476 -0.47621131 -0.0737321\n",
      "  0.66970357 -0.013931   -0.34238622 -0.33215384  0.06732766  0.21994569\n",
      " -0.22358474 -0.61336442 -0.06101692  0.48720325  0.11348581 -0.19962761\n",
      "  0.07498282  0.56355982 -0.00628645 -0.45675269  0.06876392  0.66083743\n",
      " -0.25575442  0.46139359 -0.26513482 -0.43719579 -0.63119719 -0.35198576\n",
      " -0.20280202 -0.47459502 -0.26931803 -0.67477594  0.71048147  0.4385826\n",
      " -0.57709765  0.53131937  0.08511367 -0.10337027]\n"
     ]
    }
   ],
   "source": [
    "print(network.predict_multiple(X_test.reshape(-1,1)).reshape(-1))"
   ]
  },
  {
   "cell_type": "code",
   "execution_count": null,
   "id": "fce74986-fe41-475b-a1de-95bfe59a62ab",
   "metadata": {},
   "outputs": [],
   "source": []
  }
 ],
 "metadata": {
  "kernelspec": {
   "display_name": "Python 3 (ipykernel)",
   "language": "python",
   "name": "python3"
  },
  "language_info": {
   "codemirror_mode": {
    "name": "ipython",
    "version": 3
   },
   "file_extension": ".py",
   "mimetype": "text/x-python",
   "name": "python",
   "nbconvert_exporter": "python",
   "pygments_lexer": "ipython3",
   "version": "3.12.6"
  }
 },
 "nbformat": 4,
 "nbformat_minor": 5
}
