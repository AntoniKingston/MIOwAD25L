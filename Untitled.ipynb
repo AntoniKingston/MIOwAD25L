{
 "cells": [
  {
   "cell_type": "code",
   "execution_count": null,
   "id": "82453283-10ab-45f3-9b91-e90ff7423e25",
   "metadata": {},
   "outputs": [],
   "source": [
    "def add_2_lists_of_np_arrays(l1, l2):\n",
    "        for i in range(len(l1)):\n",
    "            l1[i] += l2[i]\n",
    "        return l1\n",
    "        \n",
    "    def create_0filled_list_of_np_arrays(lista):\n",
    "        listr = [0]\n",
    "        for i in range(1, len(lista)):\n",
    "            listr.append(np.zeros(lista[i].shape))\n",
    "        return listr\n",
    "\n",
    "    def multiply_list_elementwise(lista, factor):\n",
    "        for i in range(len(lista)):\n",
    "            lista[i] = lista[i] * factor\n",
    "        return lista\n",
    "\n",
    "def learn(self, x, y, lr=0.01, batch_size = max(1,int(len(x)/100))):\n",
    "        idx = 0\n",
    "        while(idx + batch_size < len(x)):\n",
    "            batchx = x[idx:idx+batch_size]\n",
    "            batchy = y[idx:idx+batch_size]\n",
    "            for i in range(batch_size):\n",
    "                local_weight_gradient, local_bias_gradient = self.derivative(batchx[i], batchy[i])\n",
    "                if i==0:\n",
    "                    avg_weight_gradient = MLP_with_backpropagation.create_0filled_list_of_np_arrays(local_weight_gradient)\n",
    "                    avg_bias_gradient = MLP_with_backpropagation.create_0filled_list_of_np_arrays(local_bias_gradient)\n",
    "                avg_weight_gradient = MLP_with_backpropagation.add_2_lists_of_np_arrays(avg_weight_gradient, local_weight_gradient)\n",
    "                avg_bias_gradient = MLP_with_backpropagation.add_2_lists_of_np_arrays(avg_bias_gradient, local_bias_gradient)\n",
    "            avg_weight_gradient = MLP_with_backpropagation.multiply_list_elementwise(avg_weight_gradient, 1/batch_size)\n",
    "            avg_bias_gradient = MLP_with_backpropagation.multiply_list_elementwise(avg_bias_gradient, 1/batch_size)\n",
    "            self.weights = MLP_with_backpropagation.add_2_lists_of_np_arrays(self.weights, MLP_with_backpropagation.multiply_list_elementwise(avg_weight_gradient, lr))\n",
    "            self.biases = MLP_with_backpropagation.add_2_lists_of_np_arrays(self.biases, MLP_with_backpropagation.multiply_list_elementwise(avg_bias_gradient, lr))\n",
    "            idx += batch_size"
   ]
  },
  {
   "cell_type": "code",
   "execution_count": null,
   "id": "f4084ada-a32d-497b-894c-e65fef1108df",
   "metadata": {},
   "outputs": [],
   "source": [
    "def MSE0_learn_MSE1(network, X_train, Y_train, X_test, Y_test):\n",
    "    max_x = max(X_train)\n",
    "    min_x = min(X_train)\n",
    "    max_y = max(Y_train)\n",
    "    min_y = min(Y_train)\n",
    "    x_scl = max_x - min_x\n",
    "    y_scl = max_y - min_y\n",
    "    X_tr_scl = X_train / x_scl\n",
    "    Y_tr_scl = Y_train / y_scl\n",
    "    X_ts_scl = X_test / x_scl\n",
    "    Y_ts_scl = Y_test / y_scl\n",
    "    pred0 = network.predict(X_ts_scl.reshape(-1,1)) * y_scl\n",
    "    MSE0 = sum((Y_test - pred0)**2)\n",
    "    network.learn(X_tr_scl.reshape(-1,1), Y_tr_scl.reshape(-1,1))\n",
    "    pred1 = network.predict(X_ts_scl.reshape(-1,1))* y_scl\n",
    "    MSE1 = sum((Y_test - pred1)**2)\n",
    "    return MSE0, MSE1\n",
    "    \n",
    "network = MLP_with_backpropagation([1,5,1])\n",
    "train = pd.read_csv(\"data/regression/square-simple-training.csv\")\n",
    "test = pd.read_csv(\"data/regression/square-simple-test.csv\")\n",
    "\n",
    "X_train = train['x'].values\n",
    "Y_train = train['y'].values\n",
    "X_test = test['x'].values\n",
    "Y_test = test['y'].values\n",
    "\n",
    "MSE0, MSE1 = MSE0_learn_MSE1(network, X_train, Y_train, X_test, Y_test)"
   ]
  }
 ],
 "metadata": {
  "kernelspec": {
   "display_name": "Python 3 (ipykernel)",
   "language": "python",
   "name": "python3"
  },
  "language_info": {
   "codemirror_mode": {
    "name": "ipython",
    "version": 3
   },
   "file_extension": ".py",
   "mimetype": "text/x-python",
   "name": "python",
   "nbconvert_exporter": "python",
   "pygments_lexer": "ipython3",
   "version": "3.12.6"
  }
 },
 "nbformat": 4,
 "nbformat_minor": 5
}
