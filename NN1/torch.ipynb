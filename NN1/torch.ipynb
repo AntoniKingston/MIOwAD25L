{
 "cells": [
  {
   "cell_type": "code",
   "execution_count": 23,
   "id": "31cd0c7f-e368-4855-8e16-efec731a2820",
   "metadata": {},
   "outputs": [
    {
     "name": "stdout",
     "output_type": "stream",
     "text": [
      "Epoch 0, Loss: 0.3815\n",
      "Epoch 1000, Loss: 0.0000\n",
      "Epoch 2000, Loss: 0.0000\n",
      "Epoch 3000, Loss: 0.0000\n",
      "Epoch 4000, Loss: 0.0000\n",
      "Epoch 5000, Loss: 0.0000\n",
      "Epoch 6000, Loss: 0.0000\n",
      "Epoch 7000, Loss: 0.0000\n",
      "Epoch 8000, Loss: 0.0003\n",
      "Epoch 9000, Loss: 0.0000\n",
      "Epoch 10000, Loss: 0.0000\n",
      "Epoch 11000, Loss: 0.0000\n",
      "Epoch 12000, Loss: 0.0000\n",
      "Epoch 13000, Loss: 0.0001\n",
      "Epoch 14000, Loss: 0.0000\n",
      "Epoch 15000, Loss: 0.0000\n",
      "Epoch 16000, Loss: 0.0000\n",
      "Epoch 17000, Loss: 0.0000\n",
      "Epoch 18000, Loss: 0.0000\n",
      "Epoch 19000, Loss: 0.0000\n",
      "Epoch 20000, Loss: 0.0000\n",
      "Epoch 21000, Loss: 0.0000\n",
      "Epoch 22000, Loss: 0.0000\n",
      "Epoch 23000, Loss: 0.0000\n",
      "Epoch 24000, Loss: 0.0000\n",
      "Epoch 25000, Loss: 0.0000\n",
      "Epoch 26000, Loss: 0.0000\n",
      "Epoch 27000, Loss: 0.0000\n",
      "Epoch 28000, Loss: 0.0000\n",
      "Epoch 29000, Loss: 0.0000\n",
      "0.weight: tensor([[-6.2809],\n",
      "        [ 0.1259],\n",
      "        [ 7.7633],\n",
      "        [-8.5528],\n",
      "        [-7.8649]])\n",
      "0.bias: tensor([-2.5135, -3.7897, -3.9574,  5.3898,  1.5087])\n",
      "2.weight: tensor([[ 4.4524, -0.3013,  0.9354, -2.0774, -1.8017],\n",
      "        [ 3.2192, -1.4413,  0.0539, -1.5115, -1.4595],\n",
      "        [-3.8797, -0.3979, -1.6702,  0.4372,  0.4961],\n",
      "        [ 3.1689, -0.4960,  0.5100, -1.6897, -1.8446],\n",
      "        [-1.9521, -0.1455, -1.9039,  0.5249,  1.3781]])\n",
      "2.bias: tensor([-0.1595, -1.4147, -0.8072,  0.1027, -0.2372])\n",
      "4.weight: tensor([[ 1.0611,  0.2838, -0.7706,  0.7969, -0.5539]])\n",
      "4.bias: tensor([0.3074])\n"
     ]
    }
   ],
   "source": [
    "import torch\n",
    "import torch.nn as nn\n",
    "import torch.optim as optim\n",
    "import pandas as pd\n",
    "import numpy as np\n",
    "\n",
    "\n",
    "data = pd.read_csv(\"../data/regression/square-simple-test.csv\")\n",
    "X = data['x'].values\n",
    "Y = data['y'].values\n",
    "x_scaling_factor = max(X)-min(X)\n",
    "y_scaling_factor = max(Y)-min(Y)\n",
    "X_scaled = X/x_scaling_factor\n",
    "Y_scaled = Y/y_scaling_factor\n",
    "\n",
    "\n",
    "\n",
    "\n",
    "model = nn.Sequential(\n",
    "    nn.Linear(1, 5),\n",
    "    nn.Sigmoid(),\n",
    "    nn.Linear(5, 5),\n",
    "    nn.Sigmoid(),\n",
    "    nn.Linear(5, 1),\n",
    ")\n",
    "\n",
    "\n",
    "\n",
    "\n",
    "\n",
    "x_tensor = torch.tensor(X_scaled, dtype=torch.float32).view(-1, 1) \n",
    "target = torch.tensor(Y_scaled, dtype=torch.float32).view(-1, 1)  \n",
    "\n",
    "criterion = nn.MSELoss()\n",
    "optimizer = optim.Adam(model.parameters(), lr=3e-2)\n",
    "scheduler = optim.lr_scheduler.StepLR(optimizer, step_size=500, gamma=0.99)\n",
    "\n",
    "for epoch in range(30000):\n",
    "    optimizer.zero_grad()\n",
    "    output = model(x_tensor)\n",
    "    loss = criterion(output, target)\n",
    "    loss.backward()\n",
    "    optimizer.step()\n",
    "    scheduler.step()\n",
    "\n",
    "    if epoch % 1000 == 0:\n",
    "        print(f\"Epoch {epoch}, Loss: {loss.item():.4f}\")\n",
    "\n",
    "for name, param in model.named_parameters():\n",
    "    print(f\"{name}: {param.data}\")\n",
    "\n",
    "\n"
   ]
  },
  {
   "cell_type": "code",
   "execution_count": 31,
   "id": "7108a63a-d14b-4976-beb7-22ed537acb0c",
   "metadata": {},
   "outputs": [],
   "source": [
    "pred_scaled = np.squeeze(model(x_tensor).detach().numpy())\n",
    "pred_descaled = pred_scaled*y_scaling_factor"
   ]
  },
  {
   "cell_type": "code",
   "execution_count": 32,
   "id": "a9bc72e9-5a5e-4ada-bcbe-3232d9d2cc28",
   "metadata": {},
   "outputs": [
    {
     "data": {
      "text/plain": [
       "array([ -43.48402736,    3.96473673, -128.54936545,    5.67173979,\n",
       "        -27.28418227,   36.37571563,  -56.46690486,  164.00017971,\n",
       "       -109.97554996,  -43.87265617,  -36.55187268, -117.89870597,\n",
       "          5.24271538, -128.49594277,  -60.9052061 ,    2.96225587,\n",
       "        -66.2687797 ,   45.75780903,  -35.3845765 ,  -60.03212685,\n",
       "        152.81125492, -113.81053529,  -97.05217938,  -71.04317744,\n",
       "       -117.63735882,  -61.75496592, -129.29393347, -116.25093424,\n",
       "        -22.26591635,  -65.32256226,  -29.81323743, -129.48447436,\n",
       "       -129.56242484, -127.05215241, -129.8191505 ,  -35.88879545,\n",
       "         42.80013224, -100.5959263 ,   17.47337185,   -2.155266  ,\n",
       "        134.30220383,   77.53865469, -116.23202431,  -98.55681224,\n",
       "        -21.34918738,  -17.81413224,  134.13667832,   16.50794769,\n",
       "        -33.82837592, -108.21126591,  -69.84818414,    9.34073322,\n",
       "        -30.88550696,  -31.0298542 ,   10.17861073,   25.51891244,\n",
       "       -118.40929536,  -19.57222604,  -20.71400866,  -28.7611922 ,\n",
       "         99.71809837, -121.49485799,   67.40339689, -129.63965453,\n",
       "        -49.25318934, -129.65269221,  190.68339921, -126.56119373,\n",
       "        -95.98069423,  -98.71589311, -116.00260357,  -75.92961441,\n",
       "       -120.52767427,   19.16108339, -129.32111119,   55.29105469,\n",
       "       -106.66726563, -123.59956324, -114.62272964,  107.48083794,\n",
       "       -125.88312846,  -57.30735812, -115.74878224,  183.33375265,\n",
       "       -115.42300988,   39.1923417 , -113.72115829,  -64.97338568,\n",
       "         29.46329767,  -93.30667704, -123.22812721,  -49.93834583,\n",
       "       -112.930969  ,   55.81136405,  225.10963217,   25.60301077,\n",
       "         -0.84302899,   84.61208268, -112.69378926, -129.750337  ])"
      ]
     },
     "execution_count": 32,
     "metadata": {},
     "output_type": "execute_result"
    }
   ],
   "source": [
    "pred_descaled"
   ]
  },
  {
   "cell_type": "code",
   "execution_count": 34,
   "id": "e6184e8a-3bd8-4dfb-95d5-625bd5779c11",
   "metadata": {},
   "outputs": [
    {
     "data": {
      "text/plain": [
       "np.float64(2.596632287882184)"
      ]
     },
     "execution_count": 34,
     "metadata": {},
     "output_type": "execute_result"
    }
   ],
   "source": [
    "sum((Y-pred_descaled)**2)"
   ]
  },
  {
   "cell_type": "code",
   "execution_count": 35,
   "id": "3b08bc1e-d418-4cf2-8fea-872aa2d7b826",
   "metadata": {},
   "outputs": [
    {
     "name": "stdout",
     "output_type": "stream",
     "text": [
      "<bound method Module.named_parameters of Sequential(\n",
      "  (0): Linear(in_features=1, out_features=5, bias=True)\n",
      "  (1): Sigmoid()\n",
      "  (2): Linear(in_features=5, out_features=5, bias=True)\n",
      "  (3): Sigmoid()\n",
      "  (4): Linear(in_features=5, out_features=1, bias=True)\n",
      ")>\n"
     ]
    }
   ],
   "source": [
    "print(model.named_parameters)"
   ]
  },
  {
   "cell_type": "code",
   "execution_count": 37,
   "id": "bb6115a7-80ee-4afd-a9d2-202726a8309e",
   "metadata": {},
   "outputs": [
    {
     "name": "stdout",
     "output_type": "stream",
     "text": [
      "tensor([[-6.2809],\n",
      "        [ 0.1259],\n",
      "        [ 7.7633],\n",
      "        [-8.5528],\n",
      "        [-7.8649]])\n",
      "tensor([-2.5135, -3.7897, -3.9574,  5.3898,  1.5087])\n",
      "tensor([[ 4.4524, -0.3013,  0.9354, -2.0774, -1.8017],\n",
      "        [ 3.2192, -1.4413,  0.0539, -1.5115, -1.4595],\n",
      "        [-3.8797, -0.3979, -1.6702,  0.4372,  0.4961],\n",
      "        [ 3.1689, -0.4960,  0.5100, -1.6897, -1.8446],\n",
      "        [-1.9521, -0.1455, -1.9039,  0.5249,  1.3781]])\n",
      "tensor([-0.1595, -1.4147, -0.8072,  0.1027, -0.2372])\n",
      "tensor([[ 1.0611,  0.2838, -0.7706,  0.7969, -0.5539]])\n",
      "tensor([0.3074])\n"
     ]
    }
   ],
   "source": [
    "for name, param in model.named_parameters():\n",
    "    print(f\"{param.data}\")"
   ]
  },
  {
   "cell_type": "code",
   "execution_count": null,
   "id": "6b4ff5ca-20b6-41fc-ba9f-9e58b354c3b5",
   "metadata": {},
   "outputs": [],
   "source": []
  }
 ],
 "metadata": {
  "kernelspec": {
   "display_name": "Python 3 (ipykernel)",
   "language": "python",
   "name": "python3"
  },
  "language_info": {
   "codemirror_mode": {
    "name": "ipython",
    "version": 3
   },
   "file_extension": ".py",
   "mimetype": "text/x-python",
   "name": "python",
   "nbconvert_exporter": "python",
   "pygments_lexer": "ipython3",
   "version": "3.12.5"
  }
 },
 "nbformat": 4,
 "nbformat_minor": 5
}
