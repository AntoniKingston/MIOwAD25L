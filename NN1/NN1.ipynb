{
 "cells": [
  {
   "cell_type": "markdown",
   "id": "92a40a82-d23a-4234-ba0d-ff57341f267f",
   "metadata": {},
   "source": [
    "## 1. Imports"
   ]
  },
  {
   "cell_type": "code",
   "execution_count": 182,
   "id": "387d299f-d49c-4787-81ad-5f2cc1d7f10c",
   "metadata": {},
   "outputs": [],
   "source": [
    "import numpy as np\n",
    "import pandas as pd\n",
    "import matplotlib.pyplot as plt\n",
    "import ipywidgets as widgets\n",
    "from ipywidgets import interact, interactive, VBox, HBox\n",
    "import math\n",
    "import plotly.graph_objects as go\n",
    "from IPython.display import display, clear_output"
   ]
  },
  {
   "cell_type": "markdown",
   "id": "cf70a26d-a1ab-450c-a223-c8623792b4bb",
   "metadata": {},
   "source": [
    "## 2. NN class"
   ]
  },
  {
   "cell_type": "code",
   "execution_count": 146,
   "id": "0f08bfad-9d09-4384-813f-f505354a1e3f",
   "metadata": {},
   "outputs": [
    {
     "name": "stdout",
     "output_type": "stream",
     "text": [
      "[0.99999999]\n"
     ]
    }
   ],
   "source": [
    "class DomowaMLP:\n",
    "    def __init__(self, n_nodes):\n",
    "        self.values = [np.zeros(n) for n in n_nodes]\n",
    "        self.weights = [np.zeros((second,first)) for first, second in zip(n_nodes, n_nodes[1:])]\n",
    "        self.biases = [np.zeros(n) for n in n_nodes[1:]]\n",
    "\n",
    "    #returns False if dimensions are improper, changes first layer values  and returns True otherwise\n",
    "    def set_first_layer_values(self, values):\n",
    "        if len(values) != len(self.values[0]):\n",
    "            return False\n",
    "        self.values[0] = values\n",
    "        return True\n",
    "\n",
    "    #returns False if dimensions are improper, changes weights and returns True otherwise\n",
    "    def set_weights(self, weights):\n",
    "        if len(self.weights) != len(weights):\n",
    "            return False\n",
    "        for curr_weight, prop_weight in zip(self.weights, weights): \n",
    "            if curr_weight.shape != prop_weight.shape:\n",
    "                return False\n",
    "        self.weights = weights\n",
    "        return True\n",
    "        \n",
    "    #returns False if dimensions are improper, changes weights and returns True otherwise\n",
    "    def set_biases(self, biases):\n",
    "        if len(biases) != len(self.biases):\n",
    "            return False\n",
    "        self.biases = biases\n",
    "        return True\n",
    "        \n",
    "    #updates nodes values\n",
    "    def update_nodes(self):\n",
    "        for i in range(1, len(self.values)):  \n",
    "            self.values[i] = self.activation_function(\n",
    "                np.dot(self.weights[i-1], self.values[i-1]) + self.biases[i-1]\n",
    "            )\n",
    "            \n",
    "    def activation_function(self, x):\n",
    "        return 1 / (1 + np.exp(-x))  \n",
    "\n",
    "    def get_final_layer_values(self):\n",
    "        return self.values[-1]\n",
    "    #length on elements of X must equal length of the first layer\n",
    "    def predict(self, X):\n",
    "        prediction = []\n",
    "        for x in X:\n",
    "            self.set_first_layer_values(x)\n",
    "            self.update_nodes()\n",
    "            prediction.append(self.get_final_layer_values())\n",
    "        return prediction"
   ]
  },
  {
   "cell_type": "markdown",
   "id": "a207f8af-824e-43f1-8299-28c65ad6bc86",
   "metadata": {},
   "source": [
    "## 3. Network configuration and action"
   ]
  },
  {
   "cell_type": "code",
   "execution_count": 167,
   "id": "ea21183f-fec7-411e-8a8d-143482496bc6",
   "metadata": {},
   "outputs": [
    {
     "name": "stderr",
     "output_type": "stream",
     "text": [
      "/tmp/ipykernel_5185/2622789044.py:10: RuntimeWarning:\n",
      "\n",
      "divide by zero encountered in scalar divide\n",
      "\n"
     ]
    }
   ],
   "source": [
    "network = DomowaMLP([1, 5, 1])\n",
    "network.set_weights([np.array([[1], [1], [1], [1],[1]]), np.array([[1, 1, 1, -1, -1]])])\n",
    "\n",
    "data = pd.read_csv(\"../data/regression/square-simple-test.csv\")\n",
    "\n",
    "X_original = data['x'].values\n",
    "X = np.expand_dims(X_original, axis=1)\n",
    "Y = data['y'].values\n",
    "Y_pred = objekt.predict(X)\n",
    "Y_pred = [math.log(y[0]/(1-y[0])) for y in Y_pred]\n",
    "Y_pred = np.array(Y_pred)"
   ]
  },
  {
   "cell_type": "markdown",
   "id": "e743499f-4cbb-4a97-b45a-2fb258f5b60d",
   "metadata": {},
   "source": [
    "## 4. Plotting"
   ]
  },
  {
   "cell_type": "code",
   "execution_count": 166,
   "id": "d29879f2-8b08-4e6d-8ba3-1d0b81073a71",
   "metadata": {},
   "outputs": [
    {
     "data": {
      "application/vnd.plotly.v1+json": {
       "config": {
        "plotlyServerURL": "https://plot.ly"
       },
       "data": [
        {
         "marker": {
          "color": "blue",
          "size": 10
         },
         "mode": "markers",
         "type": "scatter",
         "x": [
          -0.980436876532622,
          -1.21907436696347,
          0.124243429629132,
          1.22778856509831,
          1.06734785845038,
          1.36030655540526,
          -0.904431315604597,
          1.80652113934048,
          -0.472316555213183,
          -0.978247816441581,
          1.01782506948803,
          -0.365699166315608,
          1.22583324485458,
          -0.119456493644975,
          0.875075037707575,
          1.21538764960133,
          -0.842458345927298,
          -1.3981996338116,
          -1.02500171028078,
          0.880574623472057,
          1.7718803382013,
          0.42672929528635,
          0.606181823997758,
          -0.810519291553646,
          0.373328136978671,
          -0.871554912533611,
          0.0816027304390445,
          -0.390313268755563,
          -1.09338865359314,
          -0.848642451339401,
          1.05405533825979,
          -0.0584477507509291,
          -0.050826113903895,
          0.181085451506078,
          -0.003769370377995,
          -1.02228373952676,
          1.38637792225927,
          0.573064848897047,
          1.28038942173589,
          1.19161348999478,
          1.71319746039808,
          1.5192042196868,
          -0.390586667694151,
          -0.592587984050624,
          1.09793258178979,
          1.1157639088342,
          1.71266411908437,
          1.27616923220921,
          -1.03334633610211,
          -0.492875867406838,
          -0.818633496644907,
          1.24438283930067,
          -1.04894743394107,
          -1.04818750766572,
          -1.24711411050521,
          -1.31404680781998,
          0.3615605274681,
          -1.10692115419079,
          1.10115701903123,
          1.05960417049937,
          1.59791190468241,
          0.309888694435358,
          1.48175844748039,
          0.0497869389364496,
          -0.947419648524374,
          0.0481362359132618,
          1.88706783531234,
          0.196057753055356,
          -0.616395461955108,
          -0.591085069347173,
          0.397055793087929,
          0.774565431638621,
          -0.322533036931418,
          -1.28667588799726,
          0.079587975749746,
          1.43564261705615,
          0.511230670148507,
          -0.263273679069243,
          0.415991273825057,
          1.62451507837977,
          0.214966997038573,
          -0.899287603911944,
          0.400608479045331,
          1.86513693560846,
          -0.402106622816063,
          1.3718009183649,
          -0.425309598445892,
          -0.850912465946749,
          -1.33078628138173,
          -0.64014048455283,
          -0.271125772502273,
          -0.943421663832851,
          -0.435657011228614,
          -1.43858086329419,
          1.98793437727727,
          1.31537659431342,
          -1.19696789386217,
          1.54476644389797,
          0.441050521796569,
          -0.0251755235949531
         ],
         "y": [
          -43.4869178021461,
          3.75280809686433,
          -128.610721317459,
          5.6718284527546,
          -27.4691694155257,
          36.5390532210669,
          -56.3803595818364,
          163.716676419561,
          -109.92253645044,
          -43.8728088664552,
          -36.7628915129525,
          -117.963770778046,
          5.24004297716473,
          -128.715713151344,
          -61.0819310542978,
          2.94504249230906,
          -66.1237541839697,
          45.9465994391804,
          -35.4434344529336,
          -60.212949924734,
          152.560393961392,
          -113.611189768997,
          -96.9289236629276,
          -70.8752630217438,
          -117.456349192603,
          -61.6352830994677,
          -129.40068949464,
          -116.288999701001,
          -22.4051126974407,
          -65.1825390806187,
          -30.0070609497443,
          -129.692547438894,
          -129.767503553089,
          -127.048725332756,
          -129.998721266226,
          -35.9442360309272,
          42.983936899514,
          -100.443701106274,
          17.5457364163851,
          -2.2051561416216,
          134.154098448298,
          77.7183315002758,
          -116.269784951762,
          -98.3955533042936,
          -21.5089641259962,
          -17.9563809768731,
          133.989654631912,
          16.5747118313707,
          -33.8975814697905,
          -108.136604139516,
          -69.685527835384,
          9.36397856713967,
          -30.9738352745607,
          -31.1172653896181,
          9.97642441590773,
          25.4047111827685,
          -118.234658647929,
          -19.7253002564444,
          -20.8707897494422,
          -28.9515101674309,
          99.7990209613177,
          -121.357209735503,
          67.6047287011541,
          -129.77691346402,
          -49.2156408630957,
          -129.791461251289,
          190.492251356335,
          -126.54052217202,
          -95.8050971033034,
          -98.5556596715363,
          -115.811202745778,
          -76.0043552899429,
          -120.637519607902,
          18.9981356678189,
          -129.429917870445,
          55.4962751517039,
          -106.477888170956,
          -123.761827291841,
          -114.425613409127,
          107.514431589491,
          -125.84102711658,
          -57.2153624905283,
          -115.556156186529,
          183.086220971383,
          -115.447923749871,
          39.3653983664098,
          -113.720057092281,
          -64.8353177766781,
          29.3892914042441,
          -93.1198144032821,
          -123.384173393654,
          -49.896000778977,
          -112.918267171062,
          56.2563410212636,
          225.669477952469,
          25.7194026380815,
          -1.05410749568546,
          84.7673029573862,
          -112.492699350068,
          -129.942957371055
         ]
        },
        {
         "marker": {
          "color": "red",
          "size": 10
         },
         "mode": "markers",
         "type": "scatter",
         "x": [
          -0.980436876532622,
          -1.21907436696347,
          0.124243429629132,
          1.22778856509831,
          1.06734785845038,
          1.36030655540526,
          -0.904431315604597,
          1.80652113934048,
          -0.472316555213183,
          -0.978247816441581,
          1.01782506948803,
          -0.365699166315608,
          1.22583324485458,
          -0.119456493644975,
          0.875075037707575,
          1.21538764960133,
          -0.842458345927298,
          -1.3981996338116,
          -1.02500171028078,
          0.880574623472057,
          1.7718803382013,
          0.42672929528635,
          0.606181823997758,
          -0.810519291553646,
          0.373328136978671,
          -0.871554912533611,
          0.0816027304390445,
          -0.390313268755563,
          -1.09338865359314,
          -0.848642451339401,
          1.05405533825979,
          -0.0584477507509291,
          -0.050826113903895,
          0.181085451506078,
          -0.003769370377995,
          -1.02228373952676,
          1.38637792225927,
          0.573064848897047,
          1.28038942173589,
          1.19161348999478,
          1.71319746039808,
          1.5192042196868,
          -0.390586667694151,
          -0.592587984050624,
          1.09793258178979,
          1.1157639088342,
          1.71266411908437,
          1.27616923220921,
          -1.03334633610211,
          -0.492875867406838,
          -0.818633496644907,
          1.24438283930067,
          -1.04894743394107,
          -1.04818750766572,
          -1.24711411050521,
          -1.31404680781998,
          0.3615605274681,
          -1.10692115419079,
          1.10115701903123,
          1.05960417049937,
          1.59791190468241,
          0.309888694435358,
          1.48175844748039,
          0.0497869389364496,
          -0.947419648524374,
          0.0481362359132618,
          1.88706783531234,
          0.196057753055356,
          -0.616395461955108,
          -0.591085069347173,
          0.397055793087929,
          0.774565431638621,
          -0.322533036931418,
          -1.28667588799726,
          0.079587975749746,
          1.43564261705615,
          0.511230670148507,
          -0.263273679069243,
          0.415991273825057,
          1.62451507837977,
          0.214966997038573,
          -0.899287603911944,
          0.400608479045331,
          1.86513693560846,
          -0.402106622816063,
          1.3718009183649,
          -0.425309598445892,
          -0.850912465946749,
          -1.33078628138173,
          -0.64014048455283,
          -0.271125772502273,
          -0.943421663832851,
          -0.435657011228614,
          -1.43858086329419,
          1.98793437727727,
          1.31537659431342,
          -1.19696789386217,
          1.54476644389797,
          0.441050521796569,
          -0.0251755235949531
         ],
         "y": [
          0.0008264136044427423,
          0.00011861334145187544,
          34.945041100449046,
          null,
          null,
          null,
          0.0015463484785635693,
          null,
          0.06593409146690048,
          0.0008413999317852455,
          null,
          0.18097548718260503,
          null,
          2.0490807136584186,
          null,
          null,
          0.0025893737509267863,
          2.801256275917593e-05,
          0.0005736648143060146,
          null,
          null,
          36.04365338911715,
          null,
          0.003384115718146546,
          36.04365338911715,
          0.0020315255239951274,
          33.74106829612311,
          0.14282673799291518,
          0.0003284814269307736,
          0.0024590004116828925,
          null,
          4.114033468908822,
          4.6526313454165065,
          36.04365338911715,
          16.539754663544773,
          0.0005865554366566439,
          null,
          null,
          null,
          null,
          null,
          null,
          0.14245337594538693,
          0.02213881904041428,
          null,
          null,
          null,
          null,
          0.0005358489268685463,
          0.0545251131205651,
          0.003161184861474867,
          null,
          0.00047176630454876694,
          0.00047470054701985356,
          9.457807840885996e-05,
          5.513405358847851e-05,
          36.04365338911715,
          0.00029426111617804595,
          null,
          null,
          null,
          36.04365338911715,
          null,
          32.092409670535716,
          0.0010842027268825316,
          31.94930882689504,
          null,
          36.04365338911715,
          0.017933236323215345,
          0.0224364462755237,
          36.04365338911715,
          null,
          0.275437154852488,
          6.873887312275372e-05,
          33.74106829612311,
          null,
          null,
          0.4941932879356913,
          36.04365338911715,
          null,
          36.04365338911715,
          0.0016136675336006297,
          36.04365338911715,
          null,
          0.1276083419198056,
          null,
          0.10238746304260789,
          0.0024128400970757206,
          4.818117519805069e-05,
          0.014557231376852643,
          0.4571871753366607,
          0.0011205142697182466,
          0.09286960654129654,
          2.0250059600417494e-05,
          null,
          null,
          0.00014182228567317256,
          null,
          36.04365338911715,
          8.41034803615974
         ]
        }
       ],
       "layout": {
        "template": {
         "data": {
          "bar": [
           {
            "error_x": {
             "color": "#2a3f5f"
            },
            "error_y": {
             "color": "#2a3f5f"
            },
            "marker": {
             "line": {
              "color": "#E5ECF6",
              "width": 0.5
             },
             "pattern": {
              "fillmode": "overlay",
              "size": 10,
              "solidity": 0.2
             }
            },
            "type": "bar"
           }
          ],
          "barpolar": [
           {
            "marker": {
             "line": {
              "color": "#E5ECF6",
              "width": 0.5
             },
             "pattern": {
              "fillmode": "overlay",
              "size": 10,
              "solidity": 0.2
             }
            },
            "type": "barpolar"
           }
          ],
          "carpet": [
           {
            "aaxis": {
             "endlinecolor": "#2a3f5f",
             "gridcolor": "white",
             "linecolor": "white",
             "minorgridcolor": "white",
             "startlinecolor": "#2a3f5f"
            },
            "baxis": {
             "endlinecolor": "#2a3f5f",
             "gridcolor": "white",
             "linecolor": "white",
             "minorgridcolor": "white",
             "startlinecolor": "#2a3f5f"
            },
            "type": "carpet"
           }
          ],
          "choropleth": [
           {
            "colorbar": {
             "outlinewidth": 0,
             "ticks": ""
            },
            "type": "choropleth"
           }
          ],
          "contour": [
           {
            "colorbar": {
             "outlinewidth": 0,
             "ticks": ""
            },
            "colorscale": [
             [
              0,
              "#0d0887"
             ],
             [
              0.1111111111111111,
              "#46039f"
             ],
             [
              0.2222222222222222,
              "#7201a8"
             ],
             [
              0.3333333333333333,
              "#9c179e"
             ],
             [
              0.4444444444444444,
              "#bd3786"
             ],
             [
              0.5555555555555556,
              "#d8576b"
             ],
             [
              0.6666666666666666,
              "#ed7953"
             ],
             [
              0.7777777777777778,
              "#fb9f3a"
             ],
             [
              0.8888888888888888,
              "#fdca26"
             ],
             [
              1,
              "#f0f921"
             ]
            ],
            "type": "contour"
           }
          ],
          "contourcarpet": [
           {
            "colorbar": {
             "outlinewidth": 0,
             "ticks": ""
            },
            "type": "contourcarpet"
           }
          ],
          "heatmap": [
           {
            "colorbar": {
             "outlinewidth": 0,
             "ticks": ""
            },
            "colorscale": [
             [
              0,
              "#0d0887"
             ],
             [
              0.1111111111111111,
              "#46039f"
             ],
             [
              0.2222222222222222,
              "#7201a8"
             ],
             [
              0.3333333333333333,
              "#9c179e"
             ],
             [
              0.4444444444444444,
              "#bd3786"
             ],
             [
              0.5555555555555556,
              "#d8576b"
             ],
             [
              0.6666666666666666,
              "#ed7953"
             ],
             [
              0.7777777777777778,
              "#fb9f3a"
             ],
             [
              0.8888888888888888,
              "#fdca26"
             ],
             [
              1,
              "#f0f921"
             ]
            ],
            "type": "heatmap"
           }
          ],
          "heatmapgl": [
           {
            "colorbar": {
             "outlinewidth": 0,
             "ticks": ""
            },
            "colorscale": [
             [
              0,
              "#0d0887"
             ],
             [
              0.1111111111111111,
              "#46039f"
             ],
             [
              0.2222222222222222,
              "#7201a8"
             ],
             [
              0.3333333333333333,
              "#9c179e"
             ],
             [
              0.4444444444444444,
              "#bd3786"
             ],
             [
              0.5555555555555556,
              "#d8576b"
             ],
             [
              0.6666666666666666,
              "#ed7953"
             ],
             [
              0.7777777777777778,
              "#fb9f3a"
             ],
             [
              0.8888888888888888,
              "#fdca26"
             ],
             [
              1,
              "#f0f921"
             ]
            ],
            "type": "heatmapgl"
           }
          ],
          "histogram": [
           {
            "marker": {
             "pattern": {
              "fillmode": "overlay",
              "size": 10,
              "solidity": 0.2
             }
            },
            "type": "histogram"
           }
          ],
          "histogram2d": [
           {
            "colorbar": {
             "outlinewidth": 0,
             "ticks": ""
            },
            "colorscale": [
             [
              0,
              "#0d0887"
             ],
             [
              0.1111111111111111,
              "#46039f"
             ],
             [
              0.2222222222222222,
              "#7201a8"
             ],
             [
              0.3333333333333333,
              "#9c179e"
             ],
             [
              0.4444444444444444,
              "#bd3786"
             ],
             [
              0.5555555555555556,
              "#d8576b"
             ],
             [
              0.6666666666666666,
              "#ed7953"
             ],
             [
              0.7777777777777778,
              "#fb9f3a"
             ],
             [
              0.8888888888888888,
              "#fdca26"
             ],
             [
              1,
              "#f0f921"
             ]
            ],
            "type": "histogram2d"
           }
          ],
          "histogram2dcontour": [
           {
            "colorbar": {
             "outlinewidth": 0,
             "ticks": ""
            },
            "colorscale": [
             [
              0,
              "#0d0887"
             ],
             [
              0.1111111111111111,
              "#46039f"
             ],
             [
              0.2222222222222222,
              "#7201a8"
             ],
             [
              0.3333333333333333,
              "#9c179e"
             ],
             [
              0.4444444444444444,
              "#bd3786"
             ],
             [
              0.5555555555555556,
              "#d8576b"
             ],
             [
              0.6666666666666666,
              "#ed7953"
             ],
             [
              0.7777777777777778,
              "#fb9f3a"
             ],
             [
              0.8888888888888888,
              "#fdca26"
             ],
             [
              1,
              "#f0f921"
             ]
            ],
            "type": "histogram2dcontour"
           }
          ],
          "mesh3d": [
           {
            "colorbar": {
             "outlinewidth": 0,
             "ticks": ""
            },
            "type": "mesh3d"
           }
          ],
          "parcoords": [
           {
            "line": {
             "colorbar": {
              "outlinewidth": 0,
              "ticks": ""
             }
            },
            "type": "parcoords"
           }
          ],
          "pie": [
           {
            "automargin": true,
            "type": "pie"
           }
          ],
          "scatter": [
           {
            "fillpattern": {
             "fillmode": "overlay",
             "size": 10,
             "solidity": 0.2
            },
            "type": "scatter"
           }
          ],
          "scatter3d": [
           {
            "line": {
             "colorbar": {
              "outlinewidth": 0,
              "ticks": ""
             }
            },
            "marker": {
             "colorbar": {
              "outlinewidth": 0,
              "ticks": ""
             }
            },
            "type": "scatter3d"
           }
          ],
          "scattercarpet": [
           {
            "marker": {
             "colorbar": {
              "outlinewidth": 0,
              "ticks": ""
             }
            },
            "type": "scattercarpet"
           }
          ],
          "scattergeo": [
           {
            "marker": {
             "colorbar": {
              "outlinewidth": 0,
              "ticks": ""
             }
            },
            "type": "scattergeo"
           }
          ],
          "scattergl": [
           {
            "marker": {
             "colorbar": {
              "outlinewidth": 0,
              "ticks": ""
             }
            },
            "type": "scattergl"
           }
          ],
          "scattermapbox": [
           {
            "marker": {
             "colorbar": {
              "outlinewidth": 0,
              "ticks": ""
             }
            },
            "type": "scattermapbox"
           }
          ],
          "scatterpolar": [
           {
            "marker": {
             "colorbar": {
              "outlinewidth": 0,
              "ticks": ""
             }
            },
            "type": "scatterpolar"
           }
          ],
          "scatterpolargl": [
           {
            "marker": {
             "colorbar": {
              "outlinewidth": 0,
              "ticks": ""
             }
            },
            "type": "scatterpolargl"
           }
          ],
          "scatterternary": [
           {
            "marker": {
             "colorbar": {
              "outlinewidth": 0,
              "ticks": ""
             }
            },
            "type": "scatterternary"
           }
          ],
          "surface": [
           {
            "colorbar": {
             "outlinewidth": 0,
             "ticks": ""
            },
            "colorscale": [
             [
              0,
              "#0d0887"
             ],
             [
              0.1111111111111111,
              "#46039f"
             ],
             [
              0.2222222222222222,
              "#7201a8"
             ],
             [
              0.3333333333333333,
              "#9c179e"
             ],
             [
              0.4444444444444444,
              "#bd3786"
             ],
             [
              0.5555555555555556,
              "#d8576b"
             ],
             [
              0.6666666666666666,
              "#ed7953"
             ],
             [
              0.7777777777777778,
              "#fb9f3a"
             ],
             [
              0.8888888888888888,
              "#fdca26"
             ],
             [
              1,
              "#f0f921"
             ]
            ],
            "type": "surface"
           }
          ],
          "table": [
           {
            "cells": {
             "fill": {
              "color": "#EBF0F8"
             },
             "line": {
              "color": "white"
             }
            },
            "header": {
             "fill": {
              "color": "#C8D4E3"
             },
             "line": {
              "color": "white"
             }
            },
            "type": "table"
           }
          ]
         },
         "layout": {
          "annotationdefaults": {
           "arrowcolor": "#2a3f5f",
           "arrowhead": 0,
           "arrowwidth": 1
          },
          "autotypenumbers": "strict",
          "coloraxis": {
           "colorbar": {
            "outlinewidth": 0,
            "ticks": ""
           }
          },
          "colorscale": {
           "diverging": [
            [
             0,
             "#8e0152"
            ],
            [
             0.1,
             "#c51b7d"
            ],
            [
             0.2,
             "#de77ae"
            ],
            [
             0.3,
             "#f1b6da"
            ],
            [
             0.4,
             "#fde0ef"
            ],
            [
             0.5,
             "#f7f7f7"
            ],
            [
             0.6,
             "#e6f5d0"
            ],
            [
             0.7,
             "#b8e186"
            ],
            [
             0.8,
             "#7fbc41"
            ],
            [
             0.9,
             "#4d9221"
            ],
            [
             1,
             "#276419"
            ]
           ],
           "sequential": [
            [
             0,
             "#0d0887"
            ],
            [
             0.1111111111111111,
             "#46039f"
            ],
            [
             0.2222222222222222,
             "#7201a8"
            ],
            [
             0.3333333333333333,
             "#9c179e"
            ],
            [
             0.4444444444444444,
             "#bd3786"
            ],
            [
             0.5555555555555556,
             "#d8576b"
            ],
            [
             0.6666666666666666,
             "#ed7953"
            ],
            [
             0.7777777777777778,
             "#fb9f3a"
            ],
            [
             0.8888888888888888,
             "#fdca26"
            ],
            [
             1,
             "#f0f921"
            ]
           ],
           "sequentialminus": [
            [
             0,
             "#0d0887"
            ],
            [
             0.1111111111111111,
             "#46039f"
            ],
            [
             0.2222222222222222,
             "#7201a8"
            ],
            [
             0.3333333333333333,
             "#9c179e"
            ],
            [
             0.4444444444444444,
             "#bd3786"
            ],
            [
             0.5555555555555556,
             "#d8576b"
            ],
            [
             0.6666666666666666,
             "#ed7953"
            ],
            [
             0.7777777777777778,
             "#fb9f3a"
            ],
            [
             0.8888888888888888,
             "#fdca26"
            ],
            [
             1,
             "#f0f921"
            ]
           ]
          },
          "colorway": [
           "#636efa",
           "#EF553B",
           "#00cc96",
           "#ab63fa",
           "#FFA15A",
           "#19d3f3",
           "#FF6692",
           "#B6E880",
           "#FF97FF",
           "#FECB52"
          ],
          "font": {
           "color": "#2a3f5f"
          },
          "geo": {
           "bgcolor": "white",
           "lakecolor": "white",
           "landcolor": "#E5ECF6",
           "showlakes": true,
           "showland": true,
           "subunitcolor": "white"
          },
          "hoverlabel": {
           "align": "left"
          },
          "hovermode": "closest",
          "mapbox": {
           "style": "light"
          },
          "paper_bgcolor": "white",
          "plot_bgcolor": "#E5ECF6",
          "polar": {
           "angularaxis": {
            "gridcolor": "white",
            "linecolor": "white",
            "ticks": ""
           },
           "bgcolor": "#E5ECF6",
           "radialaxis": {
            "gridcolor": "white",
            "linecolor": "white",
            "ticks": ""
           }
          },
          "scene": {
           "xaxis": {
            "backgroundcolor": "#E5ECF6",
            "gridcolor": "white",
            "gridwidth": 2,
            "linecolor": "white",
            "showbackground": true,
            "ticks": "",
            "zerolinecolor": "white"
           },
           "yaxis": {
            "backgroundcolor": "#E5ECF6",
            "gridcolor": "white",
            "gridwidth": 2,
            "linecolor": "white",
            "showbackground": true,
            "ticks": "",
            "zerolinecolor": "white"
           },
           "zaxis": {
            "backgroundcolor": "#E5ECF6",
            "gridcolor": "white",
            "gridwidth": 2,
            "linecolor": "white",
            "showbackground": true,
            "ticks": "",
            "zerolinecolor": "white"
           }
          },
          "shapedefaults": {
           "line": {
            "color": "#2a3f5f"
           }
          },
          "ternary": {
           "aaxis": {
            "gridcolor": "white",
            "linecolor": "white",
            "ticks": ""
           },
           "baxis": {
            "gridcolor": "white",
            "linecolor": "white",
            "ticks": ""
           },
           "bgcolor": "#E5ECF6",
           "caxis": {
            "gridcolor": "white",
            "linecolor": "white",
            "ticks": ""
           }
          },
          "title": {
           "x": 0.05
          },
          "xaxis": {
           "automargin": true,
           "gridcolor": "white",
           "linecolor": "white",
           "ticks": "",
           "title": {
            "standoff": 15
           },
           "zerolinecolor": "white",
           "zerolinewidth": 2
          },
          "yaxis": {
           "automargin": true,
           "gridcolor": "white",
           "linecolor": "white",
           "ticks": "",
           "title": {
            "standoff": 15
           },
           "zerolinecolor": "white",
           "zerolinewidth": 2
          }
         }
        },
        "title": {
         "text": "Scatter Plot Example"
        },
        "xaxis": {
         "title": {
          "text": "X-axis"
         }
        },
        "yaxis": {
         "title": {
          "text": "Y-axis"
         }
        }
       }
      },
      "image/png": "[encoded data removed]",
      "text/html": [
       "<div>                            <div id=\"17d7d833-6270-41ab-a9c9-0bf9320e829a\" class=\"plotly-graph-div\" style=\"height:525px; width:100%;\"></div>            <script type=\"text/javascript\">                require([\"plotly\"], function(Plotly) {                    window.PLOTLYENV=window.PLOTLYENV || {};                                    if (document.getElementById(\"17d7d833-6270-41ab-a9c9-0bf9320e829a\")) {                    Plotly.newPlot(                        \"17d7d833-6270-41ab-a9c9-0bf9320e829a\",                        [{\"marker\":{\"color\":\"blue\",\"size\":10},\"mode\":\"markers\",\"x\":[-0.980436876532622,-1.21907436696347,0.124243429629132,1.22778856509831,1.06734785845038,1.36030655540526,-0.904431315604597,1.80652113934048,-0.472316555213183,-0.978247816441581,1.01782506948803,-0.365699166315608,1.22583324485458,-0.119456493644975,0.875075037707575,1.21538764960133,-0.842458345927298,-1.3981996338116,-1.02500171028078,0.880574623472057,1.7718803382013,0.42672929528635,0.606181823997758,-0.810519291553646,0.373328136978671,-0.871554912533611,0.0816027304390445,-0.390313268755563,-1.09338865359314,-0.848642451339401,1.05405533825979,-0.0584477507509291,-0.050826113903895,0.181085451506078,-0.003769370377995,-1.02228373952676,1.38637792225927,0.573064848897047,1.28038942173589,1.19161348999478,1.71319746039808,1.5192042196868,-0.390586667694151,-0.592587984050624,1.09793258178979,1.1157639088342,1.71266411908437,1.27616923220921,-1.03334633610211,-0.492875867406838,-0.818633496644907,1.24438283930067,-1.04894743394107,-1.04818750766572,-1.24711411050521,-1.31404680781998,0.3615605274681,-1.10692115419079,1.10115701903123,1.05960417049937,1.59791190468241,0.309888694435358,1.48175844748039,0.0497869389364496,-0.947419648524374,0.0481362359132618,1.88706783531234,0.196057753055356,-0.616395461955108,-0.591085069347173,0.397055793087929,0.774565431638621,-0.322533036931418,-1.28667588799726,0.079587975749746,1.43564261705615,0.511230670148507,-0.263273679069243,0.415991273825057,1.62451507837977,0.214966997038573,-0.899287603911944,0.400608479045331,1.86513693560846,-0.402106622816063,1.3718009183649,-0.425309598445892,-0.850912465946749,-1.33078628138173,-0.64014048455283,-0.271125772502273,-0.943421663832851,-0.435657011228614,-1.43858086329419,1.98793437727727,1.31537659431342,-1.19696789386217,1.54476644389797,0.441050521796569,-0.0251755235949531],\"y\":[-43.4869178021461,3.75280809686433,-128.610721317459,5.6718284527546,-27.4691694155257,36.5390532210669,-56.3803595818364,163.716676419561,-109.92253645044,-43.8728088664552,-36.7628915129525,-117.963770778046,5.24004297716473,-128.715713151344,-61.0819310542978,2.94504249230906,-66.1237541839697,45.9465994391804,-35.4434344529336,-60.212949924734,152.560393961392,-113.611189768997,-96.9289236629276,-70.8752630217438,-117.456349192603,-61.6352830994677,-129.40068949464,-116.288999701001,-22.4051126974407,-65.1825390806187,-30.0070609497443,-129.692547438894,-129.767503553089,-127.048725332756,-129.998721266226,-35.9442360309272,42.983936899514,-100.443701106274,17.5457364163851,-2.2051561416216,134.154098448298,77.7183315002758,-116.269784951762,-98.3955533042936,-21.5089641259962,-17.9563809768731,133.989654631912,16.5747118313707,-33.8975814697905,-108.136604139516,-69.685527835384,9.36397856713967,-30.9738352745607,-31.1172653896181,9.97642441590773,25.4047111827685,-118.234658647929,-19.7253002564444,-20.8707897494422,-28.9515101674309,99.7990209613177,-121.357209735503,67.6047287011541,-129.77691346402,-49.2156408630957,-129.791461251289,190.492251356335,-126.54052217202,-95.8050971033034,-98.5556596715363,-115.811202745778,-76.0043552899429,-120.637519607902,18.9981356678189,-129.429917870445,55.4962751517039,-106.477888170956,-123.761827291841,-114.425613409127,107.514431589491,-125.84102711658,-57.2153624905283,-115.556156186529,183.086220971383,-115.447923749871,39.3653983664098,-113.720057092281,-64.8353177766781,29.3892914042441,-93.1198144032821,-123.384173393654,-49.896000778977,-112.918267171062,56.2563410212636,225.669477952469,25.7194026380815,-1.05410749568546,84.7673029573862,-112.492699350068,-129.942957371055],\"type\":\"scatter\"},{\"marker\":{\"color\":\"red\",\"size\":10},\"mode\":\"markers\",\"x\":[-0.980436876532622,-1.21907436696347,0.124243429629132,1.22778856509831,1.06734785845038,1.36030655540526,-0.904431315604597,1.80652113934048,-0.472316555213183,-0.978247816441581,1.01782506948803,-0.365699166315608,1.22583324485458,-0.119456493644975,0.875075037707575,1.21538764960133,-0.842458345927298,-1.3981996338116,-1.02500171028078,0.880574623472057,1.7718803382013,0.42672929528635,0.606181823997758,-0.810519291553646,0.373328136978671,-0.871554912533611,0.0816027304390445,-0.390313268755563,-1.09338865359314,-0.848642451339401,1.05405533825979,-0.0584477507509291,-0.050826113903895,0.181085451506078,-0.003769370377995,-1.02228373952676,1.38637792225927,0.573064848897047,1.28038942173589,1.19161348999478,1.71319746039808,1.5192042196868,-0.390586667694151,-0.592587984050624,1.09793258178979,1.1157639088342,1.71266411908437,1.27616923220921,-1.03334633610211,-0.492875867406838,-0.818633496644907,1.24438283930067,-1.04894743394107,-1.04818750766572,-1.24711411050521,-1.31404680781998,0.3615605274681,-1.10692115419079,1.10115701903123,1.05960417049937,1.59791190468241,0.309888694435358,1.48175844748039,0.0497869389364496,-0.947419648524374,0.0481362359132618,1.88706783531234,0.196057753055356,-0.616395461955108,-0.591085069347173,0.397055793087929,0.774565431638621,-0.322533036931418,-1.28667588799726,0.079587975749746,1.43564261705615,0.511230670148507,-0.263273679069243,0.415991273825057,1.62451507837977,0.214966997038573,-0.899287603911944,0.400608479045331,1.86513693560846,-0.402106622816063,1.3718009183649,-0.425309598445892,-0.850912465946749,-1.33078628138173,-0.64014048455283,-0.271125772502273,-0.943421663832851,-0.435657011228614,-1.43858086329419,1.98793437727727,1.31537659431342,-1.19696789386217,1.54476644389797,0.441050521796569,-0.0251755235949531],\"y\":[0.0008264136044427423,0.00011861334145187544,34.945041100449046,null,null,null,0.0015463484785635693,null,0.06593409146690048,0.0008413999317852455,null,0.18097548718260503,null,2.0490807136584186,null,null,0.0025893737509267863,2.801256275917593e-05,0.0005736648143060146,null,null,36.04365338911715,null,0.003384115718146546,36.04365338911715,0.0020315255239951274,33.74106829612311,0.14282673799291518,0.0003284814269307736,0.0024590004116828925,null,4.114033468908822,4.6526313454165065,36.04365338911715,16.539754663544773,0.0005865554366566439,null,null,null,null,null,null,0.14245337594538693,0.02213881904041428,null,null,null,null,0.0005358489268685463,0.0545251131205651,0.003161184861474867,null,0.00047176630454876694,0.00047470054701985356,9.457807840885996e-05,5.513405358847851e-05,36.04365338911715,0.00029426111617804595,null,null,null,36.04365338911715,null,32.092409670535716,0.0010842027268825316,31.94930882689504,null,36.04365338911715,0.017933236323215345,0.0224364462755237,36.04365338911715,null,0.275437154852488,6.873887312275372e-05,33.74106829612311,null,null,0.4941932879356913,36.04365338911715,null,36.04365338911715,0.0016136675336006297,36.04365338911715,null,0.1276083419198056,null,0.10238746304260789,0.0024128400970757206,4.818117519805069e-05,0.014557231376852643,0.4571871753366607,0.0011205142697182466,0.09286960654129654,2.0250059600417494e-05,null,null,0.00014182228567317256,null,36.04365338911715,8.41034803615974],\"type\":\"scatter\"}],                        {\"template\":{\"data\":{\"histogram2dcontour\":[{\"type\":\"histogram2dcontour\",\"colorbar\":{\"outlinewidth\":0,\"ticks\":\"\"},\"colorscale\":[[0.0,\"#0d0887\"],[0.1111111111111111,\"#46039f\"],[0.2222222222222222,\"#7201a8\"],[0.3333333333333333,\"#9c179e\"],[0.4444444444444444,\"#bd3786\"],[0.5555555555555556,\"#d8576b\"],[0.6666666666666666,\"#ed7953\"],[0.7777777777777778,\"#fb9f3a\"],[0.8888888888888888,\"#fdca26\"],[1.0,\"#f0f921\"]]}],\"choropleth\":[{\"type\":\"choropleth\",\"colorbar\":{\"outlinewidth\":0,\"ticks\":\"\"}}],\"histogram2d\":[{\"type\":\"histogram2d\",\"colorbar\":{\"outlinewidth\":0,\"ticks\":\"\"},\"colorscale\":[[0.0,\"#0d0887\"],[0.1111111111111111,\"#46039f\"],[0.2222222222222222,\"#7201a8\"],[0.3333333333333333,\"#9c179e\"],[0.4444444444444444,\"#bd3786\"],[0.5555555555555556,\"#d8576b\"],[0.6666666666666666,\"#ed7953\"],[0.7777777777777778,\"#fb9f3a\"],[0.8888888888888888,\"#fdca26\"],[1.0,\"#f0f921\"]]}],\"heatmap\":[{\"type\":\"heatmap\",\"colorbar\":{\"outlinewidth\":0,\"ticks\":\"\"},\"colorscale\":[[0.0,\"#0d0887\"],[0.1111111111111111,\"#46039f\"],[0.2222222222222222,\"#7201a8\"],[0.3333333333333333,\"#9c179e\"],[0.4444444444444444,\"#bd3786\"],[0.5555555555555556,\"#d8576b\"],[0.6666666666666666,\"#ed7953\"],[0.7777777777777778,\"#fb9f3a\"],[0.8888888888888888,\"#fdca26\"],[1.0,\"#f0f921\"]]}],\"heatmapgl\":[{\"type\":\"heatmapgl\",\"colorbar\":{\"outlinewidth\":0,\"ticks\":\"\"},\"colorscale\":[[0.0,\"#0d0887\"],[0.1111111111111111,\"#46039f\"],[0.2222222222222222,\"#7201a8\"],[0.3333333333333333,\"#9c179e\"],[0.4444444444444444,\"#bd3786\"],[0.5555555555555556,\"#d8576b\"],[0.6666666666666666,\"#ed7953\"],[0.7777777777777778,\"#fb9f3a\"],[0.8888888888888888,\"#fdca26\"],[1.0,\"#f0f921\"]]}],\"contourcarpet\":[{\"type\":\"contourcarpet\",\"colorbar\":{\"outlinewidth\":0,\"ticks\":\"\"}}],\"contour\":[{\"type\":\"contour\",\"colorbar\":{\"outlinewidth\":0,\"ticks\":\"\"},\"colorscale\":[[0.0,\"#0d0887\"],[0.1111111111111111,\"#46039f\"],[0.2222222222222222,\"#7201a8\"],[0.3333333333333333,\"#9c179e\"],[0.4444444444444444,\"#bd3786\"],[0.5555555555555556,\"#d8576b\"],[0.6666666666666666,\"#ed7953\"],[0.7777777777777778,\"#fb9f3a\"],[0.8888888888888888,\"#fdca26\"],[1.0,\"#f0f921\"]]}],\"surface\":[{\"type\":\"surface\",\"colorbar\":{\"outlinewidth\":0,\"ticks\":\"\"},\"colorscale\":[[0.0,\"#0d0887\"],[0.1111111111111111,\"#46039f\"],[0.2222222222222222,\"#7201a8\"],[0.3333333333333333,\"#9c179e\"],[0.4444444444444444,\"#bd3786\"],[0.5555555555555556,\"#d8576b\"],[0.6666666666666666,\"#ed7953\"],[0.7777777777777778,\"#fb9f3a\"],[0.8888888888888888,\"#fdca26\"],[1.0,\"#f0f921\"]]}],\"mesh3d\":[{\"type\":\"mesh3d\",\"colorbar\":{\"outlinewidth\":0,\"ticks\":\"\"}}],\"scatter\":[{\"fillpattern\":{\"fillmode\":\"overlay\",\"size\":10,\"solidity\":0.2},\"type\":\"scatter\"}],\"parcoords\":[{\"type\":\"parcoords\",\"line\":{\"colorbar\":{\"outlinewidth\":0,\"ticks\":\"\"}}}],\"scatterpolargl\":[{\"type\":\"scatterpolargl\",\"marker\":{\"colorbar\":{\"outlinewidth\":0,\"ticks\":\"\"}}}],\"bar\":[{\"error_x\":{\"color\":\"#2a3f5f\"},\"error_y\":{\"color\":\"#2a3f5f\"},\"marker\":{\"line\":{\"color\":\"#E5ECF6\",\"width\":0.5},\"pattern\":{\"fillmode\":\"overlay\",\"size\":10,\"solidity\":0.2}},\"type\":\"bar\"}],\"scattergeo\":[{\"type\":\"scattergeo\",\"marker\":{\"colorbar\":{\"outlinewidth\":0,\"ticks\":\"\"}}}],\"scatterpolar\":[{\"type\":\"scatterpolar\",\"marker\":{\"colorbar\":{\"outlinewidth\":0,\"ticks\":\"\"}}}],\"histogram\":[{\"marker\":{\"pattern\":{\"fillmode\":\"overlay\",\"size\":10,\"solidity\":0.2}},\"type\":\"histogram\"}],\"scattergl\":[{\"type\":\"scattergl\",\"marker\":{\"colorbar\":{\"outlinewidth\":0,\"ticks\":\"\"}}}],\"scatter3d\":[{\"type\":\"scatter3d\",\"line\":{\"colorbar\":{\"outlinewidth\":0,\"ticks\":\"\"}},\"marker\":{\"colorbar\":{\"outlinewidth\":0,\"ticks\":\"\"}}}],\"scattermapbox\":[{\"type\":\"scattermapbox\",\"marker\":{\"colorbar\":{\"outlinewidth\":0,\"ticks\":\"\"}}}],\"scatterternary\":[{\"type\":\"scatterternary\",\"marker\":{\"colorbar\":{\"outlinewidth\":0,\"ticks\":\"\"}}}],\"scattercarpet\":[{\"type\":\"scattercarpet\",\"marker\":{\"colorbar\":{\"outlinewidth\":0,\"ticks\":\"\"}}}],\"carpet\":[{\"aaxis\":{\"endlinecolor\":\"#2a3f5f\",\"gridcolor\":\"white\",\"linecolor\":\"white\",\"minorgridcolor\":\"white\",\"startlinecolor\":\"#2a3f5f\"},\"baxis\":{\"endlinecolor\":\"#2a3f5f\",\"gridcolor\":\"white\",\"linecolor\":\"white\",\"minorgridcolor\":\"white\",\"startlinecolor\":\"#2a3f5f\"},\"type\":\"carpet\"}],\"table\":[{\"cells\":{\"fill\":{\"color\":\"#EBF0F8\"},\"line\":{\"color\":\"white\"}},\"header\":{\"fill\":{\"color\":\"#C8D4E3\"},\"line\":{\"color\":\"white\"}},\"type\":\"table\"}],\"barpolar\":[{\"marker\":{\"line\":{\"color\":\"#E5ECF6\",\"width\":0.5},\"pattern\":{\"fillmode\":\"overlay\",\"size\":10,\"solidity\":0.2}},\"type\":\"barpolar\"}],\"pie\":[{\"automargin\":true,\"type\":\"pie\"}]},\"layout\":{\"autotypenumbers\":\"strict\",\"colorway\":[\"#636efa\",\"#EF553B\",\"#00cc96\",\"#ab63fa\",\"#FFA15A\",\"#19d3f3\",\"#FF6692\",\"#B6E880\",\"#FF97FF\",\"#FECB52\"],\"font\":{\"color\":\"#2a3f5f\"},\"hovermode\":\"closest\",\"hoverlabel\":{\"align\":\"left\"},\"paper_bgcolor\":\"white\",\"plot_bgcolor\":\"#E5ECF6\",\"polar\":{\"bgcolor\":\"#E5ECF6\",\"angularaxis\":{\"gridcolor\":\"white\",\"linecolor\":\"white\",\"ticks\":\"\"},\"radialaxis\":{\"gridcolor\":\"white\",\"linecolor\":\"white\",\"ticks\":\"\"}},\"ternary\":{\"bgcolor\":\"#E5ECF6\",\"aaxis\":{\"gridcolor\":\"white\",\"linecolor\":\"white\",\"ticks\":\"\"},\"baxis\":{\"gridcolor\":\"white\",\"linecolor\":\"white\",\"ticks\":\"\"},\"caxis\":{\"gridcolor\":\"white\",\"linecolor\":\"white\",\"ticks\":\"\"}},\"coloraxis\":{\"colorbar\":{\"outlinewidth\":0,\"ticks\":\"\"}},\"colorscale\":{\"sequential\":[[0.0,\"#0d0887\"],[0.1111111111111111,\"#46039f\"],[0.2222222222222222,\"#7201a8\"],[0.3333333333333333,\"#9c179e\"],[0.4444444444444444,\"#bd3786\"],[0.5555555555555556,\"#d8576b\"],[0.6666666666666666,\"#ed7953\"],[0.7777777777777778,\"#fb9f3a\"],[0.8888888888888888,\"#fdca26\"],[1.0,\"#f0f921\"]],\"sequentialminus\":[[0.0,\"#0d0887\"],[0.1111111111111111,\"#46039f\"],[0.2222222222222222,\"#7201a8\"],[0.3333333333333333,\"#9c179e\"],[0.4444444444444444,\"#bd3786\"],[0.5555555555555556,\"#d8576b\"],[0.6666666666666666,\"#ed7953\"],[0.7777777777777778,\"#fb9f3a\"],[0.8888888888888888,\"#fdca26\"],[1.0,\"#f0f921\"]],\"diverging\":[[0,\"#8e0152\"],[0.1,\"#c51b7d\"],[0.2,\"#de77ae\"],[0.3,\"#f1b6da\"],[0.4,\"#fde0ef\"],[0.5,\"#f7f7f7\"],[0.6,\"#e6f5d0\"],[0.7,\"#b8e186\"],[0.8,\"#7fbc41\"],[0.9,\"#4d9221\"],[1,\"#276419\"]]},\"xaxis\":{\"gridcolor\":\"white\",\"linecolor\":\"white\",\"ticks\":\"\",\"title\":{\"standoff\":15},\"zerolinecolor\":\"white\",\"automargin\":true,\"zerolinewidth\":2},\"yaxis\":{\"gridcolor\":\"white\",\"linecolor\":\"white\",\"ticks\":\"\",\"title\":{\"standoff\":15},\"zerolinecolor\":\"white\",\"automargin\":true,\"zerolinewidth\":2},\"scene\":{\"xaxis\":{\"backgroundcolor\":\"#E5ECF6\",\"gridcolor\":\"white\",\"linecolor\":\"white\",\"showbackground\":true,\"ticks\":\"\",\"zerolinecolor\":\"white\",\"gridwidth\":2},\"yaxis\":{\"backgroundcolor\":\"#E5ECF6\",\"gridcolor\":\"white\",\"linecolor\":\"white\",\"showbackground\":true,\"ticks\":\"\",\"zerolinecolor\":\"white\",\"gridwidth\":2},\"zaxis\":{\"backgroundcolor\":\"#E5ECF6\",\"gridcolor\":\"white\",\"linecolor\":\"white\",\"showbackground\":true,\"ticks\":\"\",\"zerolinecolor\":\"white\",\"gridwidth\":2}},\"shapedefaults\":{\"line\":{\"color\":\"#2a3f5f\"}},\"annotationdefaults\":{\"arrowcolor\":\"#2a3f5f\",\"arrowhead\":0,\"arrowwidth\":1},\"geo\":{\"bgcolor\":\"white\",\"landcolor\":\"#E5ECF6\",\"subunitcolor\":\"white\",\"showland\":true,\"showlakes\":true,\"lakecolor\":\"white\"},\"title\":{\"x\":0.05},\"mapbox\":{\"style\":\"light\"}}},\"title\":{\"text\":\"Scatter Plot Example\"},\"xaxis\":{\"title\":{\"text\":\"X-axis\"}},\"yaxis\":{\"title\":{\"text\":\"Y-axis\"}}},                        {\"responsive\": true}                    ).then(function(){\n",
       "                            \n",
       "var gd = document.getElementById('17d7d833-6270-41ab-a9c9-0bf9320e829a');\n",
       "var x = new MutationObserver(function (mutations, observer) {{\n",
       "        var display = window.getComputedStyle(gd).display;\n",
       "        if (!display || display === 'none') {{\n",
       "            console.log([gd, 'removed!']);\n",
       "            Plotly.purge(gd);\n",
       "            observer.disconnect();\n",
       "        }}\n",
       "}});\n",
       "\n",
       "// Listen for the removal of the full notebook cells\n",
       "var notebookContainer = gd.closest('#notebook-container');\n",
       "if (notebookContainer) {{\n",
       "    x.observe(notebookContainer, {childList: true});\n",
       "}}\n",
       "\n",
       "// Listen for the clearing of the current output cell\n",
       "var outputEl = gd.closest('.output');\n",
       "if (outputEl) {{\n",
       "    x.observe(outputEl, {childList: true});\n",
       "}}\n",
       "\n",
       "                        })                };                });            </script>        </div>"
      ]
     },
     "metadata": {},
     "output_type": "display_data"
    }
   ],
   "source": [
    "fig = go.Figure(data=go.Scatter(x=X_original, y=Y, mode='markers', marker=dict(color='blue', size=10)))\n",
    "\n",
    "fig.add_trace(go.Scatter(x=X_original, y=Y_pred, mode='markers', marker=dict(color='red', size=10)))\n",
    "\n",
    "fig.update_layout(title=\"Scatter Plot Example\", xaxis_title=\"X-axis\", yaxis_title=\"Y-axis\")\n",
    "\n",
    "fig.show()"
   ]
  },
  {
   "cell_type": "code",
   "execution_count": 189,
   "id": "74644efa-3331-4d4f-b070-5e76f0912d8f",
   "metadata": {},
   "outputs": [],
   "source": [
    "# Define interactive function\n",
    "def interactive_mlp(layer_sizes, X, Y):\n",
    "    # Initialize the network\n",
    "    network = DomowaMLP(layer_sizes)\n",
    "\n",
    "    # Set initial random weights and biases\n",
    "    initial_weights = [np.random.randn(second, first) for first, second in zip(layer_sizes, layer_sizes[1:])]\n",
    "    initial_biases = [np.random.randn(n) for n in layer_sizes[1:]]\n",
    "    network.set_weights(initial_weights)\n",
    "    network.set_biases(initial_biases)\n",
    "\n",
    "    # Define sliders for each weight and bias\n",
    "    weight_sliders = []\n",
    "    bias_sliders = []\n",
    "    \n",
    "    for i in range(len(initial_weights)):\n",
    "        layer_sliders = []\n",
    "        for j in range(initial_weights[i].shape[0]):\n",
    "            for k in range(initial_weights[i].shape[1]):\n",
    "                slider = widgets.FloatSlider(\n",
    "                    value=initial_weights[i][j, k],\n",
    "                    min=-50.0, max=50.0, step=0.01,\n",
    "                    description=f\"W[{i}][{j},{k}]\"\n",
    "                )\n",
    "                layer_sliders.append(slider)\n",
    "        weight_sliders.append(layer_sliders)\n",
    "    \n",
    "    for i in range(len(initial_biases)):\n",
    "        layer_bias_sliders = []\n",
    "        for j in range(len(initial_biases[i])):\n",
    "            slider = widgets.FloatSlider(\n",
    "                value=initial_biases[i][j],\n",
    "                min=-50.0, max=50.0, step=0.01,\n",
    "                description=f\"B[{i}][{j}]\"\n",
    "            )\n",
    "            layer_bias_sliders.append(slider)\n",
    "        bias_sliders.append(layer_bias_sliders)\n",
    "\n",
    "    # Create output widget for dynamic plotting\n",
    "    plot_output = widgets.Output()\n",
    "\n",
    "    # Function to update the network\n",
    "    def update_network(*args):\n",
    "        new_weights = [np.zeros_like(w) for w in initial_weights]\n",
    "        new_biases = [np.zeros_like(b) for b in initial_biases]\n",
    "        \n",
    "        for i, layer_sliders in enumerate(weight_sliders):\n",
    "            index = 0\n",
    "            for j in range(initial_weights[i].shape[0]):\n",
    "                for k in range(initial_weights[i].shape[1]):\n",
    "                    new_weights[i][j, k] = layer_sliders[index].value\n",
    "                    index += 1\n",
    "        \n",
    "        for i, layer_bias_sliders in enumerate(bias_sliders):\n",
    "            for j in range(len(initial_biases[i])):\n",
    "                new_biases[i][j] = layer_bias_sliders[j].value\n",
    "        \n",
    "        network.set_weights(new_weights)\n",
    "        network.set_biases(new_biases)\n",
    "        \n",
    "        # Predict new values\n",
    "        Y_pred = network.predict(X)\n",
    "        Y_pred = [math.log(y[0] / (1 - y[0])) for y in Y_pred]\n",
    "        Y_pred = np.array(Y_pred)\n",
    "\n",
    "        MSE = sum((Y-Y_pred)**2)/len(Y)\n",
    "        # Update the scatter plot\n",
    "        with plot_output:\n",
    "            clear_output(wait=True)\n",
    "            fig = go.Figure(data=go.Scatter(x=X.flatten(), y=Y, mode='markers', marker=dict(color='blue', size=10)))\n",
    "            fig.add_trace(go.Scatter(x=X.flatten(), y=Y_pred, mode='markers', marker=dict(color='red', size=10)))\n",
    "            fig.update_layout(\n",
    "                title=f\"Interactive MLP - MSE: {MSE}\",\n",
    "                xaxis_title=\"X-axis\",\n",
    "                yaxis_title=\"Y-axis\"\n",
    "            )\n",
    "            fig.show()\n",
    "\n",
    "    # Link sliders to update function\n",
    "    for layer_sliders in weight_sliders:\n",
    "        for slider in layer_sliders:\n",
    "            slider.observe(update_network, names='value')\n",
    "    \n",
    "    for layer_bias_sliders in bias_sliders:\n",
    "        for slider in layer_bias_sliders:\n",
    "            slider.observe(update_network, names='value')\n",
    "\n",
    "    # Display widgets and plot\n",
    "    weight_box = VBox([HBox(layer) for layer in weight_sliders])\n",
    "    bias_box = VBox([HBox(layer) for layer in bias_sliders])\n",
    "    display(VBox([weight_box, bias_box, plot_output]))\n",
    "\n",
    "    # Initial plot\n",
    "    update_network()\n"
   ]
  },
  {
   "cell_type": "code",
   "execution_count": 190,
   "id": "ade14292-4e77-4888-93e8-0d1295a4c214",
   "metadata": {},
   "outputs": [
    {
     "data": {
      "application/vnd.jupyter.widget-view+json": {
       "model_id": "c8b243f555c6432a8123169edfe6a012",
       "version_major": 2,
       "version_minor": 0
      },
      "text/plain": [
       "VBox(children=(VBox(children=(HBox(children=(FloatSlider(value=0.27279599289968404, description='W[0][0,0]', m…"
      ]
     },
     "metadata": {},
     "output_type": "display_data"
    }
   ],
   "source": [
    "interactive_mlp([1, 5, 1], X, Y)"
   ]
  },
  {
   "cell_type": "code",
   "execution_count": null,
   "id": "42b5c4e0-09b9-4eaf-956f-2693508f5bca",
   "metadata": {},
   "outputs": [],
   "source": []
  }
 ],
 "metadata": {
  "kernelspec": {
   "display_name": "Python 3 (ipykernel)",
   "language": "python",
   "name": "python3"
  },
  "language_info": {
   "codemirror_mode": {
    "name": "ipython",
    "version": 3
   },
   "file_extension": ".py",
   "mimetype": "text/x-python",
   "name": "python",
   "nbconvert_exporter": "python",
   "pygments_lexer": "ipython3",
   "version": "3.12.6"
  }
 },
 "nbformat": 4,
 "nbformat_minor": 5
}
