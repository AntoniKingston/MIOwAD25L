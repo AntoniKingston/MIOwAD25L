{
 "cells": [
  {
   "cell_type": "markdown",
   "id": "92a40a82-d23a-4234-ba0d-ff57341f267f",
   "metadata": {},
   "source": [
    "## Ustawianie parametrów ręcznie nie pozwalało na zejście z MSE poniżej 2000, poniżej zatem najpierw optymalizacja parametrów backpropagacją a potem widget umożliwiający ręczną zmianę parametrów, ale domyślnie z tymi wcześniej wyznaczonymi. Sieci są uczone a następnie przewidują na danych znormalizowanych, przed obliczaniem MSE cofana jest normalizacja"
   ]
  },
  {
   "cell_type": "code",
   "execution_count": 129,
   "id": "ad40bfa2-217d-4ce8-9d96-4508cd0e4b6c",
   "metadata": {},
   "outputs": [],
   "source": [
    "import torch\n",
    "import torch.nn as nn\n",
    "import torch.optim as optim\n",
    "import pandas as pd\n",
    "import numpy as np\n",
    "\n",
    "\n",
    "data = pd.read_csv(\"../data/regression/square-simple-test.csv\")\n",
    "X = data['x'].values\n",
    "Y = data['y'].values\n",
    "x_scaling_factor = max(X)-min(X)\n",
    "y_scaling_factor = max(Y)-min(Y)\n",
    "X_scaled = X/x_scaling_factor\n",
    "Y_scaled = Y/y_scaling_factor"
   ]
  },
  {
   "cell_type": "code",
   "execution_count": 130,
   "id": "387d299f-d49c-4787-81ad-5f2cc1d7f10c",
   "metadata": {},
   "outputs": [],
   "source": [
    "import matplotlib.pyplot as plt\n",
    "import ipywidgets as widgets\n",
    "from ipywidgets import interact, interactive, VBox, HBox\n",
    "import math\n",
    "import plotly.graph_objects as go\n",
    "from IPython.display import display, clear_output"
   ]
  },
  {
   "cell_type": "markdown",
   "id": "cf70a26d-a1ab-450c-a223-c8623792b4bb",
   "metadata": {},
   "source": [
    "## Sieć neuronowa od 0 używana przez widget"
   ]
  },
  {
   "cell_type": "code",
   "execution_count": 131,
   "id": "0f08bfad-9d09-4384-813f-f505354a1e3f",
   "metadata": {},
   "outputs": [],
   "source": [
    "class DomowaMLP:\n",
    "    def __init__(self, n_nodes):\n",
    "        self.values = [np.zeros(n) for n in n_nodes]\n",
    "        self.weights = [np.zeros((second,first)) for first, second in zip(n_nodes, n_nodes[1:])]\n",
    "        self.biases = [np.zeros(n) for n in n_nodes[1:]]\n",
    "\n",
    "    #returns False if dimensions are improper, changes first layer values  and returns True otherwise\n",
    "    def set_first_layer_values(self, values):\n",
    "        if len(values) != len(self.values[0]):\n",
    "            return False\n",
    "        self.values[0] = values\n",
    "        return True\n",
    "\n",
    "    #returns False if dimensions are improper, changes weights and returns True otherwise\n",
    "    def set_weights(self, weights):\n",
    "        if len(self.weights) != len(weights):\n",
    "            return False\n",
    "        for curr_weight, prop_weight in zip(self.weights, weights): \n",
    "            if curr_weight.shape != prop_weight.shape:\n",
    "                return False\n",
    "        self.weights = weights\n",
    "        return True\n",
    "        \n",
    "    #returns False if dimensions are improper, changes weights and returns True otherwise\n",
    "    def set_biases(self, biases):\n",
    "        if len(biases) != len(self.biases):\n",
    "            return False\n",
    "        self.biases = biases\n",
    "        return True\n",
    "        \n",
    "    #updates nodes values\n",
    "    def update_nodes(self):\n",
    "        for i in range(1, len(self.values)):  \n",
    "            self.values[i] = self.activation_function(\n",
    "                np.dot(self.weights[i-1], self.values[i-1]) + self.biases[i-1]\n",
    "            )\n",
    "            \n",
    "    def activation_function(self, x):\n",
    "        return 1 / (1 + np.exp(-x))  \n",
    "\n",
    "    def get_final_layer_values(self):\n",
    "        return self.values[-1]\n",
    "        \n",
    "    #length on elements of X must equal length of the first layer\n",
    "    def predict(self, X):\n",
    "        prediction = []\n",
    "        for x in X:\n",
    "            self.set_first_layer_values(x)\n",
    "            self.update_nodes()\n",
    "            prediction.append(self.get_final_layer_values())\n",
    "        return prediction\n",
    "\n",
    "#Komentarze w tej komórce to na prawdę ja, nie towarzysz gpt"
   ]
  },
  {
   "cell_type": "markdown",
   "id": "a207f8af-824e-43f1-8299-28c65ad6bc86",
   "metadata": {},
   "source": [
    "## Krótkie testowanie powyższej klasy"
   ]
  },
  {
   "cell_type": "code",
   "execution_count": 132,
   "id": "ea21183f-fec7-411e-8a8d-143482496bc6",
   "metadata": {},
   "outputs": [],
   "source": [
    "network = DomowaMLP([1, 5, 1])\n",
    "network.set_weights([np.array([[1], [1], [1], [1],[1]]), np.array([[1, 1, 1, -1, -1]])])\n",
    "\n",
    "data = pd.read_csv(\"../data/regression/square-simple-test.csv\")\n",
    "\n",
    "X = data['x'].values\n",
    "X_tensored = np.expand_dims(X, axis=1)\n",
    "Y = data['y'].values\n",
    "Y_pred = network.predict(X_tensored)\n",
    "Y_pred = [math.log(y[0]/(1-y[0])) for y in Y_pred]\n",
    "Y_pred = np.array(Y_pred)"
   ]
  },
  {
   "cell_type": "code",
   "execution_count": 133,
   "id": "d29879f2-8b08-4e6d-8ba3-1d0b81073a71",
   "metadata": {},
   "outputs": [
    {
     "data": {
      "application/vnd.plotly.v1+json": {
       "config": {
        "plotlyServerURL": "https://plot.ly"
       },
       "data": [
        {
         "marker": {
          "color": "blue",
          "size": 10
         },
         "mode": "markers",
         "type": "scatter",
         "x": [
          -0.980436876532622,
          -1.21907436696347,
          0.124243429629132,
          1.22778856509831,
          1.06734785845038,
          1.36030655540526,
          -0.904431315604597,
          1.80652113934048,
          -0.472316555213183,
          -0.978247816441581,
          1.01782506948803,
          -0.365699166315608,
          1.22583324485458,
          -0.119456493644975,
          0.875075037707575,
          1.21538764960133,
          -0.842458345927298,
          -1.3981996338116,
          -1.02500171028078,
          0.880574623472057,
          1.7718803382013,
          0.42672929528635,
          0.606181823997758,
          -0.810519291553646,
          0.373328136978671,
          -0.871554912533611,
          0.0816027304390445,
          -0.390313268755563,
          -1.09338865359314,
          -0.848642451339401,
          1.05405533825979,
          -0.0584477507509291,
          -0.050826113903895,
          0.181085451506078,
          -0.003769370377995,
          -1.02228373952676,
          1.38637792225927,
          0.573064848897047,
          1.28038942173589,
          1.19161348999478,
          1.71319746039808,
          1.5192042196868,
          -0.390586667694151,
          -0.592587984050624,
          1.09793258178979,
          1.1157639088342,
          1.71266411908437,
          1.27616923220921,
          -1.03334633610211,
          -0.492875867406838,
          -0.818633496644907,
          1.24438283930067,
          -1.04894743394107,
          -1.04818750766572,
          -1.24711411050521,
          -1.31404680781998,
          0.3615605274681,
          -1.10692115419079,
          1.10115701903123,
          1.05960417049937,
          1.59791190468241,
          0.309888694435358,
          1.48175844748039,
          0.0497869389364496,
          -0.947419648524374,
          0.0481362359132618,
          1.88706783531234,
          0.196057753055356,
          -0.616395461955108,
          -0.591085069347173,
          0.397055793087929,
          0.774565431638621,
          -0.322533036931418,
          -1.28667588799726,
          0.079587975749746,
          1.43564261705615,
          0.511230670148507,
          -0.263273679069243,
          0.415991273825057,
          1.62451507837977,
          0.214966997038573,
          -0.899287603911944,
          0.400608479045331,
          1.86513693560846,
          -0.402106622816063,
          1.3718009183649,
          -0.425309598445892,
          -0.850912465946749,
          -1.33078628138173,
          -0.64014048455283,
          -0.271125772502273,
          -0.943421663832851,
          -0.435657011228614,
          -1.43858086329419,
          1.98793437727727,
          1.31537659431342,
          -1.19696789386217,
          1.54476644389797,
          0.441050521796569,
          -0.0251755235949531
         ],
         "y": [
          -43.4869178021461,
          3.75280809686433,
          -128.610721317459,
          5.6718284527546,
          -27.4691694155257,
          36.5390532210669,
          -56.3803595818364,
          163.716676419561,
          -109.92253645044,
          -43.8728088664552,
          -36.7628915129525,
          -117.963770778046,
          5.24004297716473,
          -128.715713151344,
          -61.0819310542978,
          2.94504249230906,
          -66.1237541839697,
          45.9465994391804,
          -35.4434344529336,
          -60.212949924734,
          152.560393961392,
          -113.611189768997,
          -96.9289236629276,
          -70.8752630217438,
          -117.456349192603,
          -61.6352830994677,
          -129.40068949464,
          -116.288999701001,
          -22.4051126974407,
          -65.1825390806187,
          -30.0070609497443,
          -129.692547438894,
          -129.767503553089,
          -127.048725332756,
          -129.998721266226,
          -35.9442360309272,
          42.983936899514,
          -100.443701106274,
          17.5457364163851,
          -2.2051561416216,
          134.154098448298,
          77.7183315002758,
          -116.269784951762,
          -98.3955533042936,
          -21.5089641259962,
          -17.9563809768731,
          133.989654631912,
          16.5747118313707,
          -33.8975814697905,
          -108.136604139516,
          -69.685527835384,
          9.36397856713967,
          -30.9738352745607,
          -31.1172653896181,
          9.97642441590773,
          25.4047111827685,
          -118.234658647929,
          -19.7253002564444,
          -20.8707897494422,
          -28.9515101674309,
          99.7990209613177,
          -121.357209735503,
          67.6047287011541,
          -129.77691346402,
          -49.2156408630957,
          -129.791461251289,
          190.492251356335,
          -126.54052217202,
          -95.8050971033034,
          -98.5556596715363,
          -115.811202745778,
          -76.0043552899429,
          -120.637519607902,
          18.9981356678189,
          -129.429917870445,
          55.4962751517039,
          -106.477888170956,
          -123.761827291841,
          -114.425613409127,
          107.514431589491,
          -125.84102711658,
          -57.2153624905283,
          -115.556156186529,
          183.086220971383,
          -115.447923749871,
          39.3653983664098,
          -113.720057092281,
          -64.8353177766781,
          29.3892914042441,
          -93.1198144032821,
          -123.384173393654,
          -49.896000778977,
          -112.918267171062,
          56.2563410212636,
          225.669477952469,
          25.7194026380815,
          -1.05410749568546,
          84.7673029573862,
          -112.492699350068,
          -129.942957371055
         ]
        },
        {
         "marker": {
          "color": "red",
          "size": 10
         },
         "mode": "markers",
         "type": "scatter",
         "x": [
          -0.980436876532622,
          -1.21907436696347,
          0.124243429629132,
          1.22778856509831,
          1.06734785845038,
          1.36030655540526,
          -0.904431315604597,
          1.80652113934048,
          -0.472316555213183,
          -0.978247816441581,
          1.01782506948803,
          -0.365699166315608,
          1.22583324485458,
          -0.119456493644975,
          0.875075037707575,
          1.21538764960133,
          -0.842458345927298,
          -1.3981996338116,
          -1.02500171028078,
          0.880574623472057,
          1.7718803382013,
          0.42672929528635,
          0.606181823997758,
          -0.810519291553646,
          0.373328136978671,
          -0.871554912533611,
          0.0816027304390445,
          -0.390313268755563,
          -1.09338865359314,
          -0.848642451339401,
          1.05405533825979,
          -0.0584477507509291,
          -0.050826113903895,
          0.181085451506078,
          -0.003769370377995,
          -1.02228373952676,
          1.38637792225927,
          0.573064848897047,
          1.28038942173589,
          1.19161348999478,
          1.71319746039808,
          1.5192042196868,
          -0.390586667694151,
          -0.592587984050624,
          1.09793258178979,
          1.1157639088342,
          1.71266411908437,
          1.27616923220921,
          -1.03334633610211,
          -0.492875867406838,
          -0.818633496644907,
          1.24438283930067,
          -1.04894743394107,
          -1.04818750766572,
          -1.24711411050521,
          -1.31404680781998,
          0.3615605274681,
          -1.10692115419079,
          1.10115701903123,
          1.05960417049937,
          1.59791190468241,
          0.309888694435358,
          1.48175844748039,
          0.0497869389364496,
          -0.947419648524374,
          0.0481362359132618,
          1.88706783531234,
          0.196057753055356,
          -0.616395461955108,
          -0.591085069347173,
          0.397055793087929,
          0.774565431638621,
          -0.322533036931418,
          -1.28667588799726,
          0.079587975749746,
          1.43564261705615,
          0.511230670148507,
          -0.263273679069243,
          0.415991273825057,
          1.62451507837977,
          0.214966997038573,
          -0.899287603911944,
          0.400608479045331,
          1.86513693560846,
          -0.402106622816063,
          1.3718009183649,
          -0.425309598445892,
          -0.850912465946749,
          -1.33078628138173,
          -0.64014048455283,
          -0.271125772502273,
          -0.943421663832851,
          -0.435657011228614,
          -1.43858086329419,
          1.98793437727727,
          1.31537659431342,
          -1.19696789386217,
          1.54476644389797,
          0.441050521796569,
          -0.0251755235949531
         ],
         "y": [
          0.27280510640686456,
          0.22809938581459235,
          0.5310209632597154,
          0.7734312870828355,
          0.7440922247395907,
          0.7958095164840899,
          0.2881407125971663,
          0.8589408966257019,
          0.38406809281964976,
          0.27323959349303106,
          0.7345487329188609,
          0.40958066195225773,
          0.7730884627118759,
          0.47017133904164277,
          0.7058006093656467,
          0.771250843044895,
          0.30101728068002437,
          0.19810195780059572,
          0.2640542737145131,
          0.7069412830416407,
          0.8546913536510183,
          0.6050923844990453,
          0.647069333313685,
          0.30777984885659876,
          0.5922629282064262,
          0.2949308600838353,
          0.5203893694548,
          0.4036418899030777,
          0.2509807100644295,
          0.2997177118549854,
          0.7415528747387085,
          0.4853922205932883,
          0.48729620620898917,
          0.545148055887539,
          0.49905765852124545,
          0.26458279453432404,
          0.8000133694471433,
          0.6394700718489309,
          0.7825160573268363,
          0.7670295114251797,
          0.8472505497596264,
          0.8204212680048419,
          0.4035760803803481,
          0.3560412711578502,
          0.7498725333052251,
          0.7532021198960259,
          0.8471815135130398,
          0.7817969894771241,
          0.2624358616460248,
          0.37921632118350235,
          0.3060538075930271,
          0.7763259893894175,
          0.2594272736101996,
          0.25957330095532133,
          0.22320009986179817,
          0.2118104546490458,
          0.5894181411944643,
          0.24844532605287736,
          0.7504768333327029,
          0.7426148945045089,
          0.8317263426515574,
          0.5768580924738235,
          0.814838036901105,
          0.5124441643537075,
          0.279404047461627,
          0.5120317358429023,
          0.8684208453850372,
          0.5488580353884794,
          0.35060169057477236,
          0.35638592775987826,
          0.5979800776823206,
          0.68450765980279,
          0.42005855168436046,
          0.21641598268438308,
          0.5198864978815174,
          0.8077789786582295,
          0.6250949279383271,
          0.4345591363352011,
          0.6025236000875492,
          0.8354168733968178,
          0.5535357470141754,
          0.28919691698772937,
          0.5988338449588319,
          0.8658945769375677,
          0.40080630650907006,
          0.7976709632003665,
          0.39524691056371636,
          0.29924148200702605,
          0.20902933479564248,
          0.34521478335899486,
          0.4326307404291201,
          0.2802097008717361,
          0.392776301693493,
          0.19176520621262558,
          0.8795244331922493,
          0.7884114638533796,
          0.23201505044320964,
          0.8241565579333283,
          0.6085093205734686,
          0.49370645150566866
         ]
        }
       ],
       "layout": {
        "autosize": true,
        "template": {
         "data": {
          "bar": [
           {
            "error_x": {
             "color": "#2a3f5f"
            },
            "error_y": {
             "color": "#2a3f5f"
            },
            "marker": {
             "line": {
              "color": "#E5ECF6",
              "width": 0.5
             },
             "pattern": {
              "fillmode": "overlay",
              "size": 10,
              "solidity": 0.2
             }
            },
            "type": "bar"
           }
          ],
          "barpolar": [
           {
            "marker": {
             "line": {
              "color": "#E5ECF6",
              "width": 0.5
             },
             "pattern": {
              "fillmode": "overlay",
              "size": 10,
              "solidity": 0.2
             }
            },
            "type": "barpolar"
           }
          ],
          "carpet": [
           {
            "aaxis": {
             "endlinecolor": "#2a3f5f",
             "gridcolor": "white",
             "linecolor": "white",
             "minorgridcolor": "white",
             "startlinecolor": "#2a3f5f"
            },
            "baxis": {
             "endlinecolor": "#2a3f5f",
             "gridcolor": "white",
             "linecolor": "white",
             "minorgridcolor": "white",
             "startlinecolor": "#2a3f5f"
            },
            "type": "carpet"
           }
          ],
          "choropleth": [
           {
            "colorbar": {
             "outlinewidth": 0,
             "ticks": ""
            },
            "type": "choropleth"
           }
          ],
          "contour": [
           {
            "colorbar": {
             "outlinewidth": 0,
             "ticks": ""
            },
            "colorscale": [
             [
              0,
              "#0d0887"
             ],
             [
              0.1111111111111111,
              "#46039f"
             ],
             [
              0.2222222222222222,
              "#7201a8"
             ],
             [
              0.3333333333333333,
              "#9c179e"
             ],
             [
              0.4444444444444444,
              "#bd3786"
             ],
             [
              0.5555555555555556,
              "#d8576b"
             ],
             [
              0.6666666666666666,
              "#ed7953"
             ],
             [
              0.7777777777777778,
              "#fb9f3a"
             ],
             [
              0.8888888888888888,
              "#fdca26"
             ],
             [
              1,
              "#f0f921"
             ]
            ],
            "type": "contour"
           }
          ],
          "contourcarpet": [
           {
            "colorbar": {
             "outlinewidth": 0,
             "ticks": ""
            },
            "type": "contourcarpet"
           }
          ],
          "heatmap": [
           {
            "colorbar": {
             "outlinewidth": 0,
             "ticks": ""
            },
            "colorscale": [
             [
              0,
              "#0d0887"
             ],
             [
              0.1111111111111111,
              "#46039f"
             ],
             [
              0.2222222222222222,
              "#7201a8"
             ],
             [
              0.3333333333333333,
              "#9c179e"
             ],
             [
              0.4444444444444444,
              "#bd3786"
             ],
             [
              0.5555555555555556,
              "#d8576b"
             ],
             [
              0.6666666666666666,
              "#ed7953"
             ],
             [
              0.7777777777777778,
              "#fb9f3a"
             ],
             [
              0.8888888888888888,
              "#fdca26"
             ],
             [
              1,
              "#f0f921"
             ]
            ],
            "type": "heatmap"
           }
          ],
          "heatmapgl": [
           {
            "colorbar": {
             "outlinewidth": 0,
             "ticks": ""
            },
            "colorscale": [
             [
              0,
              "#0d0887"
             ],
             [
              0.1111111111111111,
              "#46039f"
             ],
             [
              0.2222222222222222,
              "#7201a8"
             ],
             [
              0.3333333333333333,
              "#9c179e"
             ],
             [
              0.4444444444444444,
              "#bd3786"
             ],
             [
              0.5555555555555556,
              "#d8576b"
             ],
             [
              0.6666666666666666,
              "#ed7953"
             ],
             [
              0.7777777777777778,
              "#fb9f3a"
             ],
             [
              0.8888888888888888,
              "#fdca26"
             ],
             [
              1,
              "#f0f921"
             ]
            ],
            "type": "heatmapgl"
           }
          ],
          "histogram": [
           {
            "marker": {
             "pattern": {
              "fillmode": "overlay",
              "size": 10,
              "solidity": 0.2
             }
            },
            "type": "histogram"
           }
          ],
          "histogram2d": [
           {
            "colorbar": {
             "outlinewidth": 0,
             "ticks": ""
            },
            "colorscale": [
             [
              0,
              "#0d0887"
             ],
             [
              0.1111111111111111,
              "#46039f"
             ],
             [
              0.2222222222222222,
              "#7201a8"
             ],
             [
              0.3333333333333333,
              "#9c179e"
             ],
             [
              0.4444444444444444,
              "#bd3786"
             ],
             [
              0.5555555555555556,
              "#d8576b"
             ],
             [
              0.6666666666666666,
              "#ed7953"
             ],
             [
              0.7777777777777778,
              "#fb9f3a"
             ],
             [
              0.8888888888888888,
              "#fdca26"
             ],
             [
              1,
              "#f0f921"
             ]
            ],
            "type": "histogram2d"
           }
          ],
          "histogram2dcontour": [
           {
            "colorbar": {
             "outlinewidth": 0,
             "ticks": ""
            },
            "colorscale": [
             [
              0,
              "#0d0887"
             ],
             [
              0.1111111111111111,
              "#46039f"
             ],
             [
              0.2222222222222222,
              "#7201a8"
             ],
             [
              0.3333333333333333,
              "#9c179e"
             ],
             [
              0.4444444444444444,
              "#bd3786"
             ],
             [
              0.5555555555555556,
              "#d8576b"
             ],
             [
              0.6666666666666666,
              "#ed7953"
             ],
             [
              0.7777777777777778,
              "#fb9f3a"
             ],
             [
              0.8888888888888888,
              "#fdca26"
             ],
             [
              1,
              "#f0f921"
             ]
            ],
            "type": "histogram2dcontour"
           }
          ],
          "mesh3d": [
           {
            "colorbar": {
             "outlinewidth": 0,
             "ticks": ""
            },
            "type": "mesh3d"
           }
          ],
          "parcoords": [
           {
            "line": {
             "colorbar": {
              "outlinewidth": 0,
              "ticks": ""
             }
            },
            "type": "parcoords"
           }
          ],
          "pie": [
           {
            "automargin": true,
            "type": "pie"
           }
          ],
          "scatter": [
           {
            "fillpattern": {
             "fillmode": "overlay",
             "size": 10,
             "solidity": 0.2
            },
            "type": "scatter"
           }
          ],
          "scatter3d": [
           {
            "line": {
             "colorbar": {
              "outlinewidth": 0,
              "ticks": ""
             }
            },
            "marker": {
             "colorbar": {
              "outlinewidth": 0,
              "ticks": ""
             }
            },
            "type": "scatter3d"
           }
          ],
          "scattercarpet": [
           {
            "marker": {
             "colorbar": {
              "outlinewidth": 0,
              "ticks": ""
             }
            },
            "type": "scattercarpet"
           }
          ],
          "scattergeo": [
           {
            "marker": {
             "colorbar": {
              "outlinewidth": 0,
              "ticks": ""
             }
            },
            "type": "scattergeo"
           }
          ],
          "scattergl": [
           {
            "marker": {
             "colorbar": {
              "outlinewidth": 0,
              "ticks": ""
             }
            },
            "type": "scattergl"
           }
          ],
          "scattermapbox": [
           {
            "marker": {
             "colorbar": {
              "outlinewidth": 0,
              "ticks": ""
             }
            },
            "type": "scattermapbox"
           }
          ],
          "scatterpolar": [
           {
            "marker": {
             "colorbar": {
              "outlinewidth": 0,
              "ticks": ""
             }
            },
            "type": "scatterpolar"
           }
          ],
          "scatterpolargl": [
           {
            "marker": {
             "colorbar": {
              "outlinewidth": 0,
              "ticks": ""
             }
            },
            "type": "scatterpolargl"
           }
          ],
          "scatterternary": [
           {
            "marker": {
             "colorbar": {
              "outlinewidth": 0,
              "ticks": ""
             }
            },
            "type": "scatterternary"
           }
          ],
          "surface": [
           {
            "colorbar": {
             "outlinewidth": 0,
             "ticks": ""
            },
            "colorscale": [
             [
              0,
              "#0d0887"
             ],
             [
              0.1111111111111111,
              "#46039f"
             ],
             [
              0.2222222222222222,
              "#7201a8"
             ],
             [
              0.3333333333333333,
              "#9c179e"
             ],
             [
              0.4444444444444444,
              "#bd3786"
             ],
             [
              0.5555555555555556,
              "#d8576b"
             ],
             [
              0.6666666666666666,
              "#ed7953"
             ],
             [
              0.7777777777777778,
              "#fb9f3a"
             ],
             [
              0.8888888888888888,
              "#fdca26"
             ],
             [
              1,
              "#f0f921"
             ]
            ],
            "type": "surface"
           }
          ],
          "table": [
           {
            "cells": {
             "fill": {
              "color": "#EBF0F8"
             },
             "line": {
              "color": "white"
             }
            },
            "header": {
             "fill": {
              "color": "#C8D4E3"
             },
             "line": {
              "color": "white"
             }
            },
            "type": "table"
           }
          ]
         },
         "layout": {
          "annotationdefaults": {
           "arrowcolor": "#2a3f5f",
           "arrowhead": 0,
           "arrowwidth": 1
          },
          "autotypenumbers": "strict",
          "coloraxis": {
           "colorbar": {
            "outlinewidth": 0,
            "ticks": ""
           }
          },
          "colorscale": {
           "diverging": [
            [
             0,
             "#8e0152"
            ],
            [
             0.1,
             "#c51b7d"
            ],
            [
             0.2,
             "#de77ae"
            ],
            [
             0.3,
             "#f1b6da"
            ],
            [
             0.4,
             "#fde0ef"
            ],
            [
             0.5,
             "#f7f7f7"
            ],
            [
             0.6,
             "#e6f5d0"
            ],
            [
             0.7,
             "#b8e186"
            ],
            [
             0.8,
             "#7fbc41"
            ],
            [
             0.9,
             "#4d9221"
            ],
            [
             1,
             "#276419"
            ]
           ],
           "sequential": [
            [
             0,
             "#0d0887"
            ],
            [
             0.1111111111111111,
             "#46039f"
            ],
            [
             0.2222222222222222,
             "#7201a8"
            ],
            [
             0.3333333333333333,
             "#9c179e"
            ],
            [
             0.4444444444444444,
             "#bd3786"
            ],
            [
             0.5555555555555556,
             "#d8576b"
            ],
            [
             0.6666666666666666,
             "#ed7953"
            ],
            [
             0.7777777777777778,
             "#fb9f3a"
            ],
            [
             0.8888888888888888,
             "#fdca26"
            ],
            [
             1,
             "#f0f921"
            ]
           ],
           "sequentialminus": [
            [
             0,
             "#0d0887"
            ],
            [
             0.1111111111111111,
             "#46039f"
            ],
            [
             0.2222222222222222,
             "#7201a8"
            ],
            [
             0.3333333333333333,
             "#9c179e"
            ],
            [
             0.4444444444444444,
             "#bd3786"
            ],
            [
             0.5555555555555556,
             "#d8576b"
            ],
            [
             0.6666666666666666,
             "#ed7953"
            ],
            [
             0.7777777777777778,
             "#fb9f3a"
            ],
            [
             0.8888888888888888,
             "#fdca26"
            ],
            [
             1,
             "#f0f921"
            ]
           ]
          },
          "colorway": [
           "#636efa",
           "#EF553B",
           "#00cc96",
           "#ab63fa",
           "#FFA15A",
           "#19d3f3",
           "#FF6692",
           "#B6E880",
           "#FF97FF",
           "#FECB52"
          ],
          "font": {
           "color": "#2a3f5f"
          },
          "geo": {
           "bgcolor": "white",
           "lakecolor": "white",
           "landcolor": "#E5ECF6",
           "showlakes": true,
           "showland": true,
           "subunitcolor": "white"
          },
          "hoverlabel": {
           "align": "left"
          },
          "hovermode": "closest",
          "mapbox": {
           "style": "light"
          },
          "paper_bgcolor": "white",
          "plot_bgcolor": "#E5ECF6",
          "polar": {
           "angularaxis": {
            "gridcolor": "white",
            "linecolor": "white",
            "ticks": ""
           },
           "bgcolor": "#E5ECF6",
           "radialaxis": {
            "gridcolor": "white",
            "linecolor": "white",
            "ticks": ""
           }
          },
          "scene": {
           "xaxis": {
            "backgroundcolor": "#E5ECF6",
            "gridcolor": "white",
            "gridwidth": 2,
            "linecolor": "white",
            "showbackground": true,
            "ticks": "",
            "zerolinecolor": "white"
           },
           "yaxis": {
            "backgroundcolor": "#E5ECF6",
            "gridcolor": "white",
            "gridwidth": 2,
            "linecolor": "white",
            "showbackground": true,
            "ticks": "",
            "zerolinecolor": "white"
           },
           "zaxis": {
            "backgroundcolor": "#E5ECF6",
            "gridcolor": "white",
            "gridwidth": 2,
            "linecolor": "white",
            "showbackground": true,
            "ticks": "",
            "zerolinecolor": "white"
           }
          },
          "shapedefaults": {
           "line": {
            "color": "#2a3f5f"
           }
          },
          "ternary": {
           "aaxis": {
            "gridcolor": "white",
            "linecolor": "white",
            "ticks": ""
           },
           "baxis": {
            "gridcolor": "white",
            "linecolor": "white",
            "ticks": ""
           },
           "bgcolor": "#E5ECF6",
           "caxis": {
            "gridcolor": "white",
            "linecolor": "white",
            "ticks": ""
           }
          },
          "title": {
           "x": 0.05
          },
          "xaxis": {
           "automargin": true,
           "gridcolor": "white",
           "linecolor": "white",
           "ticks": "",
           "title": {
            "standoff": 15
           },
           "zerolinecolor": "white",
           "zerolinewidth": 2
          },
          "yaxis": {
           "automargin": true,
           "gridcolor": "white",
           "linecolor": "white",
           "ticks": "",
           "title": {
            "standoff": 15
           },
           "zerolinecolor": "white",
           "zerolinewidth": 2
          }
         }
        },
        "title": {
         "text": "Scatter Plot Example"
        },
        "xaxis": {
         "autorange": true,
         "range": [
          -1.6580252517150462,
          2.207378765698126
         ],
         "title": {
          "text": "X-axis"
         },
         "type": "linear"
        },
        "yaxis": {
         "autorange": true,
         "range": [
          -166.27925663803268,
          261.9500133242757
         ],
         "title": {
          "text": "Y-axis"
         },
         "type": "linear"
        }
       }
      },
      "image/png": "[encoded data removed]",
      "text/html": [
       "<div>                            <div id=\"ff905f86-8a9d-4d2c-bacf-644521f31e54\" class=\"plotly-graph-div\" style=\"height:525px; width:100%;\"></div>            <script type=\"text/javascript\">                require([\"plotly\"], function(Plotly) {                    window.PLOTLYENV=window.PLOTLYENV || {};                                    if (document.getElementById(\"ff905f86-8a9d-4d2c-bacf-644521f31e54\")) {                    Plotly.newPlot(                        \"ff905f86-8a9d-4d2c-bacf-644521f31e54\",                        [{\"marker\":{\"color\":\"blue\",\"size\":10},\"mode\":\"markers\",\"x\":[-0.980436876532622,-1.21907436696347,0.124243429629132,1.22778856509831,1.06734785845038,1.36030655540526,-0.904431315604597,1.80652113934048,-0.472316555213183,-0.978247816441581,1.01782506948803,-0.365699166315608,1.22583324485458,-0.119456493644975,0.875075037707575,1.21538764960133,-0.842458345927298,-1.3981996338116,-1.02500171028078,0.880574623472057,1.7718803382013,0.42672929528635,0.606181823997758,-0.810519291553646,0.373328136978671,-0.871554912533611,0.0816027304390445,-0.390313268755563,-1.09338865359314,-0.848642451339401,1.05405533825979,-0.0584477507509291,-0.050826113903895,0.181085451506078,-0.003769370377995,-1.02228373952676,1.38637792225927,0.573064848897047,1.28038942173589,1.19161348999478,1.71319746039808,1.5192042196868,-0.390586667694151,-0.592587984050624,1.09793258178979,1.1157639088342,1.71266411908437,1.27616923220921,-1.03334633610211,-0.492875867406838,-0.818633496644907,1.24438283930067,-1.04894743394107,-1.04818750766572,-1.24711411050521,-1.31404680781998,0.3615605274681,-1.10692115419079,1.10115701903123,1.05960417049937,1.59791190468241,0.309888694435358,1.48175844748039,0.0497869389364496,-0.947419648524374,0.0481362359132618,1.88706783531234,0.196057753055356,-0.616395461955108,-0.591085069347173,0.397055793087929,0.774565431638621,-0.322533036931418,-1.28667588799726,0.079587975749746,1.43564261705615,0.511230670148507,-0.263273679069243,0.415991273825057,1.62451507837977,0.214966997038573,-0.899287603911944,0.400608479045331,1.86513693560846,-0.402106622816063,1.3718009183649,-0.425309598445892,-0.850912465946749,-1.33078628138173,-0.64014048455283,-0.271125772502273,-0.943421663832851,-0.435657011228614,-1.43858086329419,1.98793437727727,1.31537659431342,-1.19696789386217,1.54476644389797,0.441050521796569,-0.0251755235949531],\"y\":[-43.4869178021461,3.75280809686433,-128.610721317459,5.6718284527546,-27.4691694155257,36.5390532210669,-56.3803595818364,163.716676419561,-109.92253645044,-43.8728088664552,-36.7628915129525,-117.963770778046,5.24004297716473,-128.715713151344,-61.0819310542978,2.94504249230906,-66.1237541839697,45.9465994391804,-35.4434344529336,-60.212949924734,152.560393961392,-113.611189768997,-96.9289236629276,-70.8752630217438,-117.456349192603,-61.6352830994677,-129.40068949464,-116.288999701001,-22.4051126974407,-65.1825390806187,-30.0070609497443,-129.692547438894,-129.767503553089,-127.048725332756,-129.998721266226,-35.9442360309272,42.983936899514,-100.443701106274,17.5457364163851,-2.2051561416216,134.154098448298,77.7183315002758,-116.269784951762,-98.3955533042936,-21.5089641259962,-17.9563809768731,133.989654631912,16.5747118313707,-33.8975814697905,-108.136604139516,-69.685527835384,9.36397856713967,-30.9738352745607,-31.1172653896181,9.97642441590773,25.4047111827685,-118.234658647929,-19.7253002564444,-20.8707897494422,-28.9515101674309,99.7990209613177,-121.357209735503,67.6047287011541,-129.77691346402,-49.2156408630957,-129.791461251289,190.492251356335,-126.54052217202,-95.8050971033034,-98.5556596715363,-115.811202745778,-76.0043552899429,-120.637519607902,18.9981356678189,-129.429917870445,55.4962751517039,-106.477888170956,-123.761827291841,-114.425613409127,107.514431589491,-125.84102711658,-57.2153624905283,-115.556156186529,183.086220971383,-115.447923749871,39.3653983664098,-113.720057092281,-64.8353177766781,29.3892914042441,-93.1198144032821,-123.384173393654,-49.896000778977,-112.918267171062,56.2563410212636,225.669477952469,25.7194026380815,-1.05410749568546,84.7673029573862,-112.492699350068,-129.942957371055],\"type\":\"scatter\"},{\"marker\":{\"color\":\"red\",\"size\":10},\"mode\":\"markers\",\"x\":[-0.980436876532622,-1.21907436696347,0.124243429629132,1.22778856509831,1.06734785845038,1.36030655540526,-0.904431315604597,1.80652113934048,-0.472316555213183,-0.978247816441581,1.01782506948803,-0.365699166315608,1.22583324485458,-0.119456493644975,0.875075037707575,1.21538764960133,-0.842458345927298,-1.3981996338116,-1.02500171028078,0.880574623472057,1.7718803382013,0.42672929528635,0.606181823997758,-0.810519291553646,0.373328136978671,-0.871554912533611,0.0816027304390445,-0.390313268755563,-1.09338865359314,-0.848642451339401,1.05405533825979,-0.0584477507509291,-0.050826113903895,0.181085451506078,-0.003769370377995,-1.02228373952676,1.38637792225927,0.573064848897047,1.28038942173589,1.19161348999478,1.71319746039808,1.5192042196868,-0.390586667694151,-0.592587984050624,1.09793258178979,1.1157639088342,1.71266411908437,1.27616923220921,-1.03334633610211,-0.492875867406838,-0.818633496644907,1.24438283930067,-1.04894743394107,-1.04818750766572,-1.24711411050521,-1.31404680781998,0.3615605274681,-1.10692115419079,1.10115701903123,1.05960417049937,1.59791190468241,0.309888694435358,1.48175844748039,0.0497869389364496,-0.947419648524374,0.0481362359132618,1.88706783531234,0.196057753055356,-0.616395461955108,-0.591085069347173,0.397055793087929,0.774565431638621,-0.322533036931418,-1.28667588799726,0.079587975749746,1.43564261705615,0.511230670148507,-0.263273679069243,0.415991273825057,1.62451507837977,0.214966997038573,-0.899287603911944,0.400608479045331,1.86513693560846,-0.402106622816063,1.3718009183649,-0.425309598445892,-0.850912465946749,-1.33078628138173,-0.64014048455283,-0.271125772502273,-0.943421663832851,-0.435657011228614,-1.43858086329419,1.98793437727727,1.31537659431342,-1.19696789386217,1.54476644389797,0.441050521796569,-0.0251755235949531],\"y\":[0.27280510640686456,0.22809938581459235,0.5310209632597154,0.7734312870828355,0.7440922247395907,0.7958095164840899,0.2881407125971663,0.8589408966257019,0.38406809281964976,0.27323959349303106,0.7345487329188609,0.40958066195225773,0.7730884627118759,0.47017133904164277,0.7058006093656467,0.771250843044895,0.30101728068002437,0.19810195780059572,0.2640542737145131,0.7069412830416407,0.8546913536510183,0.6050923844990453,0.647069333313685,0.30777984885659876,0.5922629282064262,0.2949308600838353,0.5203893694548,0.4036418899030777,0.2509807100644295,0.2997177118549854,0.7415528747387085,0.4853922205932883,0.48729620620898917,0.545148055887539,0.49905765852124545,0.26458279453432404,0.8000133694471433,0.6394700718489309,0.7825160573268363,0.7670295114251797,0.8472505497596264,0.8204212680048419,0.4035760803803481,0.3560412711578502,0.7498725333052251,0.7532021198960259,0.8471815135130398,0.7817969894771241,0.2624358616460248,0.37921632118350235,0.3060538075930271,0.7763259893894175,0.2594272736101996,0.25957330095532133,0.22320009986179817,0.2118104546490458,0.5894181411944643,0.24844532605287736,0.7504768333327029,0.7426148945045089,0.8317263426515574,0.5768580924738235,0.814838036901105,0.5124441643537075,0.279404047461627,0.5120317358429023,0.8684208453850372,0.5488580353884794,0.35060169057477236,0.35638592775987826,0.5979800776823206,0.68450765980279,0.42005855168436046,0.21641598268438308,0.5198864978815174,0.8077789786582295,0.6250949279383271,0.4345591363352011,0.6025236000875492,0.8354168733968178,0.5535357470141754,0.28919691698772937,0.5988338449588319,0.8658945769375677,0.40080630650907006,0.7976709632003665,0.39524691056371636,0.29924148200702605,0.20902933479564248,0.34521478335899486,0.4326307404291201,0.2802097008717361,0.392776301693493,0.19176520621262558,0.8795244331922493,0.7884114638533796,0.23201505044320964,0.8241565579333283,0.6085093205734686,0.49370645150566866],\"type\":\"scatter\"}],                        {\"template\":{\"data\":{\"histogram2dcontour\":[{\"type\":\"histogram2dcontour\",\"colorbar\":{\"outlinewidth\":0,\"ticks\":\"\"},\"colorscale\":[[0.0,\"#0d0887\"],[0.1111111111111111,\"#46039f\"],[0.2222222222222222,\"#7201a8\"],[0.3333333333333333,\"#9c179e\"],[0.4444444444444444,\"#bd3786\"],[0.5555555555555556,\"#d8576b\"],[0.6666666666666666,\"#ed7953\"],[0.7777777777777778,\"#fb9f3a\"],[0.8888888888888888,\"#fdca26\"],[1.0,\"#f0f921\"]]}],\"choropleth\":[{\"type\":\"choropleth\",\"colorbar\":{\"outlinewidth\":0,\"ticks\":\"\"}}],\"histogram2d\":[{\"type\":\"histogram2d\",\"colorbar\":{\"outlinewidth\":0,\"ticks\":\"\"},\"colorscale\":[[0.0,\"#0d0887\"],[0.1111111111111111,\"#46039f\"],[0.2222222222222222,\"#7201a8\"],[0.3333333333333333,\"#9c179e\"],[0.4444444444444444,\"#bd3786\"],[0.5555555555555556,\"#d8576b\"],[0.6666666666666666,\"#ed7953\"],[0.7777777777777778,\"#fb9f3a\"],[0.8888888888888888,\"#fdca26\"],[1.0,\"#f0f921\"]]}],\"heatmap\":[{\"type\":\"heatmap\",\"colorbar\":{\"outlinewidth\":0,\"ticks\":\"\"},\"colorscale\":[[0.0,\"#0d0887\"],[0.1111111111111111,\"#46039f\"],[0.2222222222222222,\"#7201a8\"],[0.3333333333333333,\"#9c179e\"],[0.4444444444444444,\"#bd3786\"],[0.5555555555555556,\"#d8576b\"],[0.6666666666666666,\"#ed7953\"],[0.7777777777777778,\"#fb9f3a\"],[0.8888888888888888,\"#fdca26\"],[1.0,\"#f0f921\"]]}],\"heatmapgl\":[{\"type\":\"heatmapgl\",\"colorbar\":{\"outlinewidth\":0,\"ticks\":\"\"},\"colorscale\":[[0.0,\"#0d0887\"],[0.1111111111111111,\"#46039f\"],[0.2222222222222222,\"#7201a8\"],[0.3333333333333333,\"#9c179e\"],[0.4444444444444444,\"#bd3786\"],[0.5555555555555556,\"#d8576b\"],[0.6666666666666666,\"#ed7953\"],[0.7777777777777778,\"#fb9f3a\"],[0.8888888888888888,\"#fdca26\"],[1.0,\"#f0f921\"]]}],\"contourcarpet\":[{\"type\":\"contourcarpet\",\"colorbar\":{\"outlinewidth\":0,\"ticks\":\"\"}}],\"contour\":[{\"type\":\"contour\",\"colorbar\":{\"outlinewidth\":0,\"ticks\":\"\"},\"colorscale\":[[0.0,\"#0d0887\"],[0.1111111111111111,\"#46039f\"],[0.2222222222222222,\"#7201a8\"],[0.3333333333333333,\"#9c179e\"],[0.4444444444444444,\"#bd3786\"],[0.5555555555555556,\"#d8576b\"],[0.6666666666666666,\"#ed7953\"],[0.7777777777777778,\"#fb9f3a\"],[0.8888888888888888,\"#fdca26\"],[1.0,\"#f0f921\"]]}],\"surface\":[{\"type\":\"surface\",\"colorbar\":{\"outlinewidth\":0,\"ticks\":\"\"},\"colorscale\":[[0.0,\"#0d0887\"],[0.1111111111111111,\"#46039f\"],[0.2222222222222222,\"#7201a8\"],[0.3333333333333333,\"#9c179e\"],[0.4444444444444444,\"#bd3786\"],[0.5555555555555556,\"#d8576b\"],[0.6666666666666666,\"#ed7953\"],[0.7777777777777778,\"#fb9f3a\"],[0.8888888888888888,\"#fdca26\"],[1.0,\"#f0f921\"]]}],\"mesh3d\":[{\"type\":\"mesh3d\",\"colorbar\":{\"outlinewidth\":0,\"ticks\":\"\"}}],\"scatter\":[{\"fillpattern\":{\"fillmode\":\"overlay\",\"size\":10,\"solidity\":0.2},\"type\":\"scatter\"}],\"parcoords\":[{\"type\":\"parcoords\",\"line\":{\"colorbar\":{\"outlinewidth\":0,\"ticks\":\"\"}}}],\"scatterpolargl\":[{\"type\":\"scatterpolargl\",\"marker\":{\"colorbar\":{\"outlinewidth\":0,\"ticks\":\"\"}}}],\"bar\":[{\"error_x\":{\"color\":\"#2a3f5f\"},\"error_y\":{\"color\":\"#2a3f5f\"},\"marker\":{\"line\":{\"color\":\"#E5ECF6\",\"width\":0.5},\"pattern\":{\"fillmode\":\"overlay\",\"size\":10,\"solidity\":0.2}},\"type\":\"bar\"}],\"scattergeo\":[{\"type\":\"scattergeo\",\"marker\":{\"colorbar\":{\"outlinewidth\":0,\"ticks\":\"\"}}}],\"scatterpolar\":[{\"type\":\"scatterpolar\",\"marker\":{\"colorbar\":{\"outlinewidth\":0,\"ticks\":\"\"}}}],\"histogram\":[{\"marker\":{\"pattern\":{\"fillmode\":\"overlay\",\"size\":10,\"solidity\":0.2}},\"type\":\"histogram\"}],\"scattergl\":[{\"type\":\"scattergl\",\"marker\":{\"colorbar\":{\"outlinewidth\":0,\"ticks\":\"\"}}}],\"scatter3d\":[{\"type\":\"scatter3d\",\"line\":{\"colorbar\":{\"outlinewidth\":0,\"ticks\":\"\"}},\"marker\":{\"colorbar\":{\"outlinewidth\":0,\"ticks\":\"\"}}}],\"scattermapbox\":[{\"type\":\"scattermapbox\",\"marker\":{\"colorbar\":{\"outlinewidth\":0,\"ticks\":\"\"}}}],\"scatterternary\":[{\"type\":\"scatterternary\",\"marker\":{\"colorbar\":{\"outlinewidth\":0,\"ticks\":\"\"}}}],\"scattercarpet\":[{\"type\":\"scattercarpet\",\"marker\":{\"colorbar\":{\"outlinewidth\":0,\"ticks\":\"\"}}}],\"carpet\":[{\"aaxis\":{\"endlinecolor\":\"#2a3f5f\",\"gridcolor\":\"white\",\"linecolor\":\"white\",\"minorgridcolor\":\"white\",\"startlinecolor\":\"#2a3f5f\"},\"baxis\":{\"endlinecolor\":\"#2a3f5f\",\"gridcolor\":\"white\",\"linecolor\":\"white\",\"minorgridcolor\":\"white\",\"startlinecolor\":\"#2a3f5f\"},\"type\":\"carpet\"}],\"table\":[{\"cells\":{\"fill\":{\"color\":\"#EBF0F8\"},\"line\":{\"color\":\"white\"}},\"header\":{\"fill\":{\"color\":\"#C8D4E3\"},\"line\":{\"color\":\"white\"}},\"type\":\"table\"}],\"barpolar\":[{\"marker\":{\"line\":{\"color\":\"#E5ECF6\",\"width\":0.5},\"pattern\":{\"fillmode\":\"overlay\",\"size\":10,\"solidity\":0.2}},\"type\":\"barpolar\"}],\"pie\":[{\"automargin\":true,\"type\":\"pie\"}]},\"layout\":{\"autotypenumbers\":\"strict\",\"colorway\":[\"#636efa\",\"#EF553B\",\"#00cc96\",\"#ab63fa\",\"#FFA15A\",\"#19d3f3\",\"#FF6692\",\"#B6E880\",\"#FF97FF\",\"#FECB52\"],\"font\":{\"color\":\"#2a3f5f\"},\"hovermode\":\"closest\",\"hoverlabel\":{\"align\":\"left\"},\"paper_bgcolor\":\"white\",\"plot_bgcolor\":\"#E5ECF6\",\"polar\":{\"bgcolor\":\"#E5ECF6\",\"angularaxis\":{\"gridcolor\":\"white\",\"linecolor\":\"white\",\"ticks\":\"\"},\"radialaxis\":{\"gridcolor\":\"white\",\"linecolor\":\"white\",\"ticks\":\"\"}},\"ternary\":{\"bgcolor\":\"#E5ECF6\",\"aaxis\":{\"gridcolor\":\"white\",\"linecolor\":\"white\",\"ticks\":\"\"},\"baxis\":{\"gridcolor\":\"white\",\"linecolor\":\"white\",\"ticks\":\"\"},\"caxis\":{\"gridcolor\":\"white\",\"linecolor\":\"white\",\"ticks\":\"\"}},\"coloraxis\":{\"colorbar\":{\"outlinewidth\":0,\"ticks\":\"\"}},\"colorscale\":{\"sequential\":[[0.0,\"#0d0887\"],[0.1111111111111111,\"#46039f\"],[0.2222222222222222,\"#7201a8\"],[0.3333333333333333,\"#9c179e\"],[0.4444444444444444,\"#bd3786\"],[0.5555555555555556,\"#d8576b\"],[0.6666666666666666,\"#ed7953\"],[0.7777777777777778,\"#fb9f3a\"],[0.8888888888888888,\"#fdca26\"],[1.0,\"#f0f921\"]],\"sequentialminus\":[[0.0,\"#0d0887\"],[0.1111111111111111,\"#46039f\"],[0.2222222222222222,\"#7201a8\"],[0.3333333333333333,\"#9c179e\"],[0.4444444444444444,\"#bd3786\"],[0.5555555555555556,\"#d8576b\"],[0.6666666666666666,\"#ed7953\"],[0.7777777777777778,\"#fb9f3a\"],[0.8888888888888888,\"#fdca26\"],[1.0,\"#f0f921\"]],\"diverging\":[[0,\"#8e0152\"],[0.1,\"#c51b7d\"],[0.2,\"#de77ae\"],[0.3,\"#f1b6da\"],[0.4,\"#fde0ef\"],[0.5,\"#f7f7f7\"],[0.6,\"#e6f5d0\"],[0.7,\"#b8e186\"],[0.8,\"#7fbc41\"],[0.9,\"#4d9221\"],[1,\"#276419\"]]},\"xaxis\":{\"gridcolor\":\"white\",\"linecolor\":\"white\",\"ticks\":\"\",\"title\":{\"standoff\":15},\"zerolinecolor\":\"white\",\"automargin\":true,\"zerolinewidth\":2},\"yaxis\":{\"gridcolor\":\"white\",\"linecolor\":\"white\",\"ticks\":\"\",\"title\":{\"standoff\":15},\"zerolinecolor\":\"white\",\"automargin\":true,\"zerolinewidth\":2},\"scene\":{\"xaxis\":{\"backgroundcolor\":\"#E5ECF6\",\"gridcolor\":\"white\",\"linecolor\":\"white\",\"showbackground\":true,\"ticks\":\"\",\"zerolinecolor\":\"white\",\"gridwidth\":2},\"yaxis\":{\"backgroundcolor\":\"#E5ECF6\",\"gridcolor\":\"white\",\"linecolor\":\"white\",\"showbackground\":true,\"ticks\":\"\",\"zerolinecolor\":\"white\",\"gridwidth\":2},\"zaxis\":{\"backgroundcolor\":\"#E5ECF6\",\"gridcolor\":\"white\",\"linecolor\":\"white\",\"showbackground\":true,\"ticks\":\"\",\"zerolinecolor\":\"white\",\"gridwidth\":2}},\"shapedefaults\":{\"line\":{\"color\":\"#2a3f5f\"}},\"annotationdefaults\":{\"arrowcolor\":\"#2a3f5f\",\"arrowhead\":0,\"arrowwidth\":1},\"geo\":{\"bgcolor\":\"white\",\"landcolor\":\"#E5ECF6\",\"subunitcolor\":\"white\",\"showland\":true,\"showlakes\":true,\"lakecolor\":\"white\"},\"title\":{\"x\":0.05},\"mapbox\":{\"style\":\"light\"}}},\"title\":{\"text\":\"Scatter Plot Example\"},\"xaxis\":{\"title\":{\"text\":\"X-axis\"}},\"yaxis\":{\"title\":{\"text\":\"Y-axis\"}}},                        {\"responsive\": true}                    ).then(function(){\n",
       "                            \n",
       "var gd = document.getElementById('ff905f86-8a9d-4d2c-bacf-644521f31e54');\n",
       "var x = new MutationObserver(function (mutations, observer) {{\n",
       "        var display = window.getComputedStyle(gd).display;\n",
       "        if (!display || display === 'none') {{\n",
       "            console.log([gd, 'removed!']);\n",
       "            Plotly.purge(gd);\n",
       "            observer.disconnect();\n",
       "        }}\n",
       "}});\n",
       "\n",
       "// Listen for the removal of the full notebook cells\n",
       "var notebookContainer = gd.closest('#notebook-container');\n",
       "if (notebookContainer) {{\n",
       "    x.observe(notebookContainer, {childList: true});\n",
       "}}\n",
       "\n",
       "// Listen for the clearing of the current output cell\n",
       "var outputEl = gd.closest('.output');\n",
       "if (outputEl) {{\n",
       "    x.observe(outputEl, {childList: true});\n",
       "}}\n",
       "\n",
       "                        })                };                });            </script>        </div>"
      ]
     },
     "metadata": {},
     "output_type": "display_data"
    }
   ],
   "source": [
    "fig = go.Figure(data=go.Scatter(x=X, y=Y, mode='markers', marker=dict(color='blue', size=10)))\n",
    "\n",
    "fig.add_trace(go.Scatter(x=X, y=Y_pred, mode='markers', marker=dict(color='red', size=10)))\n",
    "\n",
    "fig.update_layout(title=\"Scatter Plot Example\", xaxis_title=\"X-axis\", yaxis_title=\"Y-axis\")\n",
    "\n",
    "fig.show()"
   ]
  },
  {
   "cell_type": "markdown",
   "id": "2e862f00-4cfa-4d80-acbe-fbee8f1f43a4",
   "metadata": {},
   "source": [
    "## Funkcja wyświetlająca widgeta z suwakami "
   ]
  },
  {
   "cell_type": "code",
   "execution_count": 134,
   "id": "74644efa-3331-4d4f-b070-5e76f0912d8f",
   "metadata": {},
   "outputs": [],
   "source": [
    "#brak komentarzy tutaj wcale nie implikuje braku wsparcia pewnych narzędzi\n",
    "def interactive_mlp(layer_sizes, X, Y, max_sl = 10, min_sl=-10, weights = None, biases = None):\n",
    "    \n",
    "    network = DomowaMLP(layer_sizes)\n",
    "\n",
    "    \n",
    "    if weights:\n",
    "        network.set_weights(weights)\n",
    "    if biases:\n",
    "        network.set_biases(biases)\n",
    "\n",
    "    \n",
    "    weight_sliders = []\n",
    "    bias_sliders = []\n",
    "    \n",
    "    for i in range(len(network.weights)):\n",
    "        layer_sliders = []\n",
    "        for j in range(network.weights[i].shape[0]):\n",
    "            for k in range(network.weights[i].shape[1]):\n",
    "                slider = widgets.FloatSlider(\n",
    "                    value=network.weights[i][j, k],\n",
    "                    #ZAKRES\n",
    "                    min=min_sl, max=max_sl, step=0.01,\n",
    "                    description=f\"W[{i}][{j},{k}]\"\n",
    "                )\n",
    "                layer_sliders.append(slider)\n",
    "        weight_sliders.append(layer_sliders)\n",
    "    \n",
    "    for i in range(len(network.biases)):\n",
    "        layer_bias_sliders = []\n",
    "        for j in range(len(network.biases[i])):\n",
    "            slider = widgets.FloatSlider(\n",
    "                value=network.biases[i][j],\n",
    "                min=min_sl, max=max_sl, step=0.01,\n",
    "                description=f\"B[{i}][{j}]\"\n",
    "            )\n",
    "            layer_bias_sliders.append(slider)\n",
    "        bias_sliders.append(layer_bias_sliders)\n",
    "\n",
    "    \n",
    "    plot_output = widgets.Output()\n",
    "\n",
    "    \n",
    "    def update_network(*args):\n",
    "        new_weights = [np.zeros_like(w) for w in network.weights]\n",
    "        new_biases = [np.zeros_like(b) for b in network.biases]\n",
    "        \n",
    "        for i, layer_sliders in enumerate(weight_sliders):\n",
    "            index = 0\n",
    "            for j in range(network.weights[i].shape[0]):\n",
    "                for k in range(network.weights[i].shape[1]):\n",
    "                    new_weights[i][j, k] = layer_sliders[index].value\n",
    "                    index += 1\n",
    "        \n",
    "        for i, layer_bias_sliders in enumerate(bias_sliders):\n",
    "            for j in range(len(network.biases[i])):\n",
    "                new_biases[i][j] = layer_bias_sliders[j].value\n",
    "        \n",
    "        network.set_weights(new_weights)\n",
    "        network.set_biases(new_biases)\n",
    "\n",
    "        #nienormalność\n",
    "        x_scaling_factor = max(X) - min(X)\n",
    "        y_scaling_factor = max(Y) - min(Y)\n",
    "        X_scaled = X / x_scaling_factor\n",
    "        Y_scaled = Y / y_scaling_factor\n",
    "        X_scaled_tensor = np.expand_dims(X_scaled, axis=1)\n",
    "        \n",
    "        \n",
    "        Y_pred_scaled = network.predict(X_scaled_tensor)\n",
    "        Y_pred_scaled = [math.log(y[0] / (1 - y[0])) for y in Y_pred_scaled]\n",
    "        Y_pred_scaled = np.array(Y_pred_scaled)\n",
    "        Y_pred = Y_pred_scaled * y_scaling_factor\n",
    "\n",
    "        MSE = sum((Y-Y_pred)**2)/len(Y)\n",
    "        \n",
    "        with plot_output:\n",
    "            clear_output(wait=True)\n",
    "            fig = go.Figure(data=go.Scatter(x=X.flatten(), y=Y, mode='markers', marker=dict(color='blue', size=10), name = \"data\"))\n",
    "            fig.add_trace(go.Scatter(x=X.flatten(), y=Y_pred, mode='markers', marker=dict(color='red', size=10), name = \"prediction\"))\n",
    "            fig.update_layout(\n",
    "                title=f\"Interactive MLP - MSE: {MSE}\",\n",
    "                xaxis_title=\"X-axis\",\n",
    "                yaxis_title=\"Y-axis\"\n",
    "            )\n",
    "            fig.show()\n",
    "\n",
    "    \n",
    "    for layer_sliders in weight_sliders:\n",
    "        for slider in layer_sliders:\n",
    "            slider.observe(update_network, names='value')\n",
    "    \n",
    "    for layer_bias_sliders in bias_sliders:\n",
    "        for slider in layer_bias_sliders:\n",
    "            slider.observe(update_network, names='value')\n",
    "\n",
    "    \n",
    "    weight_box = VBox([HBox(layer) for layer in weight_sliders])\n",
    "    bias_box = VBox([HBox(layer) for layer in bias_sliders])\n",
    "    display(VBox([weight_box, bias_box, plot_output]))\n",
    "\n",
    "    \n",
    "    update_network()\n"
   ]
  },
  {
   "cell_type": "markdown",
   "id": "27af2f09-4d36-4260-a5b0-8bcfe618ecc2",
   "metadata": {},
   "source": [
    "## 1.1 Dane square-simple sieć 2x5"
   ]
  },
  {
   "cell_type": "code",
   "execution_count": 81,
   "id": "d560d748-5591-473e-a52c-d85ad8ea6e71",
   "metadata": {},
   "outputs": [
    {
     "name": "stdout",
     "output_type": "stream",
     "text": [
      "Epoch 0, Loss: 0.2846\n",
      "Epoch 1000, Loss: 0.0000\n",
      "Epoch 2000, Loss: 0.0000\n",
      "Epoch 3000, Loss: 0.0000\n",
      "Epoch 4000, Loss: 0.0000\n",
      "Epoch 5000, Loss: 0.0000\n",
      "Epoch 6000, Loss: 0.0000\n",
      "Epoch 7000, Loss: 0.0000\n",
      "Epoch 8000, Loss: 0.0000\n",
      "Epoch 9000, Loss: 0.0000\n",
      "Epoch 10000, Loss: 0.0000\n",
      "Epoch 11000, Loss: 0.0000\n",
      "Epoch 12000, Loss: 0.0000\n",
      "Epoch 13000, Loss: 0.0000\n",
      "Epoch 14000, Loss: 0.0000\n",
      "Epoch 15000, Loss: 0.0000\n",
      "Epoch 16000, Loss: 0.0000\n",
      "Epoch 17000, Loss: 0.0000\n",
      "Epoch 18000, Loss: 0.0000\n",
      "Epoch 19000, Loss: 0.0000\n",
      "Epoch 20000, Loss: 0.0000\n",
      "Epoch 21000, Loss: 0.0000\n",
      "Epoch 22000, Loss: 0.0000\n",
      "Epoch 23000, Loss: 0.0000\n",
      "Epoch 24000, Loss: 0.0000\n",
      "Epoch 25000, Loss: 0.0000\n",
      "Epoch 26000, Loss: 0.0000\n",
      "Epoch 27000, Loss: 0.0001\n",
      "Epoch 28000, Loss: 0.0000\n",
      "Epoch 29000, Loss: 0.0000\n",
      "0.weight: tensor([[ 7.5409],\n",
      "        [-5.1742],\n",
      "        [-6.3290],\n",
      "        [-8.0304],\n",
      "        [ 6.7194]])\n",
      "0.bias: tensor([-2.3151,  2.6485, -2.4870,  4.7482, -4.1683])\n",
      "2.weight: tensor([[-1.8026,  0.1761, -3.6799,  0.8072, -2.1121],\n",
      "        [-3.5325, -0.1800, -4.1741, -0.6307, -1.5580],\n",
      "        [ 1.9452, -1.2363,  2.7376, -1.2468,  0.8165],\n",
      "        [-1.7156, -3.3841, -0.7577, -3.2850, -1.0951],\n",
      "        [ 1.0071, -1.6732,  4.9978, -2.0411,  0.7846]])\n",
      "2.bias: tensor([-0.2488, -0.5839, -0.5499, -3.2186, -0.5961])\n",
      "4.weight: tensor([[-0.6241, -0.7064,  0.7135,  0.0753,  1.1664]])\n",
      "4.bias: tensor([-0.0149])\n"
     ]
    }
   ],
   "source": [
    "model = nn.Sequential(\n",
    "    nn.Linear(1, 5),\n",
    "    nn.Sigmoid(),\n",
    "    nn.Linear(5, 5),\n",
    "    nn.Sigmoid(),\n",
    "    nn.Linear(5, 1),\n",
    ")\n",
    "\n",
    "\n",
    "\n",
    "\n",
    "\n",
    "x_tensor = torch.tensor(X_scaled, dtype=torch.float32).view(-1, 1) \n",
    "target = torch.tensor(Y_scaled, dtype=torch.float32).view(-1, 1)  \n",
    "\n",
    "criterion = nn.MSELoss()\n",
    "optimizer = optim.Adam(model.parameters(), lr=3e-2)\n",
    "scheduler = optim.lr_scheduler.StepLR(optimizer, step_size=500, gamma=0.99)\n",
    "\n",
    "for epoch in range(30000):\n",
    "    optimizer.zero_grad()\n",
    "    output = model(x_tensor)\n",
    "    loss = criterion(output, target)\n",
    "    loss.backward()\n",
    "    optimizer.step()\n",
    "    scheduler.step()\n",
    "\n",
    "    if epoch % 1000 == 0:\n",
    "        print(f\"Epoch {epoch}, Loss: {loss.item():.4f}\")\n",
    "\n",
    "for name, param in model.named_parameters():\n",
    "    print(f\"{name}: {param.data}\")"
   ]
  },
  {
   "cell_type": "code",
   "execution_count": 82,
   "id": "3b2da947-a334-4571-91ae-2e8bfb6857a4",
   "metadata": {},
   "outputs": [],
   "source": [
    "#przetwarzanie parametrów wyżej wyznaczonych do postaci strawnej przez widgeta\n",
    "params = []\n",
    "for name, param in model.named_parameters():\n",
    "    params.append(param)\n",
    "for i in range(len(params)):\n",
    "    params[i] = params[i].detach().numpy()\n",
    "weights = [params[0], params[2], params[4]]\n",
    "biases = [params[1], params[3], params[5]]"
   ]
  },
  {
   "cell_type": "code",
   "execution_count": 83,
   "id": "ade14292-4e77-4888-93e8-0d1295a4c214",
   "metadata": {},
   "outputs": [
    {
     "data": {
      "application/vnd.jupyter.widget-view+json": {
       "model_id": "7218d803c7624a49a3c49957d84df404",
       "version_major": 2,
       "version_minor": 0
      },
      "text/plain": [
       "VBox(children=(VBox(children=(HBox(children=(FloatSlider(value=7.540930271148682, description='W[0][0,0]', max…"
      ]
     },
     "metadata": {},
     "output_type": "display_data"
    }
   ],
   "source": [
    "interactive_mlp([1, 5, 5, 1], X, Y, 10, -10, weights, biases)"
   ]
  },
  {
   "cell_type": "markdown",
   "id": "6f3ac90e-66a8-42e4-b423-8741a578e819",
   "metadata": {},
   "source": [
    "## 1.2 Dane square-simple sieć 1x10"
   ]
  },
  {
   "cell_type": "code",
   "execution_count": 48,
   "id": "5bb4cce6-b6ee-44af-acdc-d88537b566bc",
   "metadata": {},
   "outputs": [
    {
     "name": "stdout",
     "output_type": "stream",
     "text": [
      "Epoch 0, Loss: 0.0717\n",
      "Epoch 1000, Loss: 0.0000\n",
      "Epoch 2000, Loss: 0.0000\n",
      "Epoch 3000, Loss: 0.0000\n",
      "Epoch 4000, Loss: 0.0000\n",
      "Epoch 5000, Loss: 0.0000\n",
      "Epoch 6000, Loss: 0.0000\n",
      "Epoch 7000, Loss: 0.0000\n",
      "Epoch 8000, Loss: 0.0000\n",
      "Epoch 9000, Loss: 0.0000\n",
      "0.weight: tensor([[-6.3012],\n",
      "        [-0.1356],\n",
      "        [ 4.3740],\n",
      "        [-0.3694],\n",
      "        [-0.1271],\n",
      "        [-3.4380],\n",
      "        [-0.4723],\n",
      "        [-4.9675],\n",
      "        [ 0.1122],\n",
      "        [ 0.0433]])\n",
      "0.bias: tensor([-2.8847, -0.2351, -2.4516, -0.1696, -1.7421, -1.2782, -0.2544,  3.5699,\n",
      "        -2.4985, -2.6259])\n",
      "2.weight: tensor([[ 1.2809,  0.2199,  1.7653,  0.2901, -0.0182,  0.4578,  0.1190, -1.2599,\n",
      "          0.0079,  0.0088]])\n",
      "2.bias: tensor([0.2735])\n"
     ]
    }
   ],
   "source": [
    "model = nn.Sequential(\n",
    "    nn.Linear(1, 10),\n",
    "    nn.Sigmoid(),\n",
    "    nn.Linear(10, 1),\n",
    ")\n",
    "\n",
    "\n",
    "\n",
    "\n",
    "\n",
    "x_tensor = torch.tensor(X_scaled, dtype=torch.float32).view(-1, 1) \n",
    "target = torch.tensor(Y_scaled, dtype=torch.float32).view(-1, 1)  \n",
    "\n",
    "criterion = nn.MSELoss()\n",
    "optimizer = optim.Adam(model.parameters(), lr=3e-2)\n",
    "scheduler = optim.lr_scheduler.StepLR(optimizer, step_size=500, gamma=0.99)\n",
    "\n",
    "for epoch in range(10000):\n",
    "    optimizer.zero_grad()\n",
    "    output = model(x_tensor)\n",
    "    loss = criterion(output, target)\n",
    "    loss.backward()\n",
    "    optimizer.step()\n",
    "    scheduler.step()\n",
    "\n",
    "    if epoch % 1000 == 0:\n",
    "        print(f\"Epoch {epoch}, Loss: {loss.item():.4f}\")\n",
    "\n",
    "for name, param in model.named_parameters():\n",
    "    print(f\"{name}: {param.data}\")"
   ]
  },
  {
   "cell_type": "code",
   "execution_count": 49,
   "id": "f7ad08de-d3ae-47ed-8d74-f7b7af7162b9",
   "metadata": {},
   "outputs": [],
   "source": [
    "pred_scaled = np.squeeze(model(x_tensor).detach().numpy())\n",
    "pred_descaled = pred_scaled*y_scaling_factor\n"
   ]
  },
  {
   "cell_type": "code",
   "execution_count": 50,
   "id": "3ee02949-f774-4933-9cfe-f417424ef844",
   "metadata": {},
   "outputs": [],
   "source": [
    "params = []\n",
    "for name, param in model.named_parameters():\n",
    "    params.append(param)\n",
    "for i in range(len(params)):\n",
    "    params[i] = params[i].detach().numpy()\n",
    "weights = [params[0], params[2]]\n",
    "biases = [params[1], params[3]]"
   ]
  },
  {
   "cell_type": "code",
   "execution_count": 51,
   "id": "794fe572-f6d3-4d45-b82e-b36097dfd861",
   "metadata": {},
   "outputs": [
    {
     "data": {
      "application/vnd.jupyter.widget-view+json": {
       "model_id": "3765094f46364ee8b0b9194f0b53c0b4",
       "version_major": 2,
       "version_minor": 0
      },
      "text/plain": [
       "VBox(children=(VBox(children=(HBox(children=(FloatSlider(value=-6.30118989944458, description='W[0][0,0]', max…"
      ]
     },
     "metadata": {},
     "output_type": "display_data"
    }
   ],
   "source": [
    "interactive_mlp([1,10,1], X, Y, 10, -10 weights, biases)"
   ]
  },
  {
   "cell_type": "markdown",
   "id": "55e532c1-1b19-4ba2-9c9b-6ddaf02011de",
   "metadata": {},
   "source": [
    "## 1.3 Dane square-simple sieć 1x5"
   ]
  },
  {
   "cell_type": "code",
   "execution_count": 52,
   "id": "ff725df6-a219-478c-a3ce-21564862686d",
   "metadata": {},
   "outputs": [
    {
     "name": "stdout",
     "output_type": "stream",
     "text": [
      "Epoch 0, Loss: 0.0654\n",
      "Epoch 1000, Loss: 0.0001\n",
      "Epoch 2000, Loss: 0.0000\n",
      "Epoch 3000, Loss: 0.0000\n",
      "Epoch 4000, Loss: 0.0000\n",
      "Epoch 5000, Loss: 0.0000\n",
      "Epoch 6000, Loss: 0.0000\n",
      "Epoch 7000, Loss: 0.0000\n",
      "Epoch 8000, Loss: 0.0000\n",
      "Epoch 9000, Loss: 0.0000\n",
      "0.weight: tensor([[ 1.0959],\n",
      "        [ 1.2288],\n",
      "        [-5.0769],\n",
      "        [-3.9969],\n",
      "        [-4.9580]])\n",
      "0.bias: tensor([ 0.7190,  0.5507, -2.3681, -2.4320,  3.1042])\n",
      "2.weight: tensor([[ 0.7369,  1.1094,  1.4535,  1.2967, -2.3759]])\n",
      "2.bias: tensor([0.4807])\n"
     ]
    }
   ],
   "source": [
    "model = nn.Sequential(\n",
    "    nn.Linear(1, 5),\n",
    "    nn.Sigmoid(),\n",
    "    nn.Linear(5, 1),\n",
    ")\n",
    "\n",
    "\n",
    "\n",
    "\n",
    "\n",
    "x_tensor = torch.tensor(X_scaled, dtype=torch.float32).view(-1, 1) \n",
    "target = torch.tensor(Y_scaled, dtype=torch.float32).view(-1, 1)  \n",
    "\n",
    "criterion = nn.MSELoss()\n",
    "optimizer = optim.Adam(model.parameters(), lr=3e-2)\n",
    "scheduler = optim.lr_scheduler.StepLR(optimizer, step_size=500, gamma=0.99)\n",
    "\n",
    "for epoch in range(10000):\n",
    "    optimizer.zero_grad()\n",
    "    output = model(x_tensor)\n",
    "    loss = criterion(output, target)\n",
    "    loss.backward()\n",
    "    optimizer.step()\n",
    "    scheduler.step()\n",
    "\n",
    "    if epoch % 1000 == 0:\n",
    "        print(f\"Epoch {epoch}, Loss: {loss.item():.4f}\")\n",
    "\n",
    "for name, param in model.named_parameters():\n",
    "    print(f\"{name}: {param.data}\")"
   ]
  },
  {
   "cell_type": "code",
   "execution_count": 53,
   "id": "1e1ff163-d015-4eb6-8ee3-51585860fee5",
   "metadata": {},
   "outputs": [],
   "source": [
    "pred_scaled = np.squeeze(model(x_tensor).detach().numpy())\n",
    "pred_descaled = pred_scaled*y_scaling_factor"
   ]
  },
  {
   "cell_type": "code",
   "execution_count": 54,
   "id": "6a0e4c08-eecd-4a8b-b2d0-a18f7274466f",
   "metadata": {},
   "outputs": [],
   "source": [
    "params = []\n",
    "for name, param in model.named_parameters():\n",
    "    params.append(param)\n",
    "for i in range(len(params)):\n",
    "    params[i] = params[i].detach().numpy()\n",
    "weights = [params[0], params[2]]\n",
    "biases = [params[1], params[3]]"
   ]
  },
  {
   "cell_type": "code",
   "execution_count": 55,
   "id": "6a34ce27-098a-401c-8f1e-e10aabe00bd1",
   "metadata": {},
   "outputs": [
    {
     "data": {
      "application/vnd.jupyter.widget-view+json": {
       "model_id": "34a3e595f2a045f7ac3f175f21ac0621",
       "version_major": 2,
       "version_minor": 0
      },
      "text/plain": [
       "VBox(children=(VBox(children=(HBox(children=(FloatSlider(value=1.0958781242370605, description='W[0][0,0]', ma…"
      ]
     },
     "metadata": {},
     "output_type": "display_data"
    }
   ],
   "source": [
    "interactive_mlp([1,5,1], X, Y, 10, -10 weights, biases)"
   ]
  },
  {
   "cell_type": "markdown",
   "id": "fa0a78ae-bab8-4312-92e1-d6427abee398",
   "metadata": {},
   "source": [
    "## 2.1 Dane steps-large sieć 2x5"
   ]
  },
  {
   "cell_type": "code",
   "execution_count": 135,
   "id": "6563d903-d340-45b7-a129-47007f151c9a",
   "metadata": {},
   "outputs": [],
   "source": [
    "data = pd.read_csv(\"../data/regression/steps-large-test.csv\")\n",
    "X = data['x'].values\n",
    "Y = data['y'].values\n",
    "x_scaling_factor = max(X)-min(X)\n",
    "y_scaling_factor = max(Y)-min(Y)\n",
    "X_scaled = X/x_scaling_factor\n",
    "Y_scaled = Y/y_scaling_factor"
   ]
  },
  {
   "cell_type": "code",
   "execution_count": 88,
   "id": "7f86a13d-f5f0-44e5-a24c-083aded3e712",
   "metadata": {},
   "outputs": [
    {
     "name": "stdout",
     "output_type": "stream",
     "text": [
      "Epoch 0, Loss: 53.5891\n",
      "Epoch 10000, Loss: 0.0276\n",
      "0.weight: tensor([[ 94.1106],\n",
      "        [ 31.5545],\n",
      "        [ 97.6504],\n",
      "        [-47.9234],\n",
      "        [-17.6385]])\n",
      "0.bias: tensor([ 13.0856,   3.9980, -13.9510,  20.4229,   2.9140])\n",
      "2.weight: tensor([[-2.5471e+00,  8.7424e-02,  3.6382e+00, -1.0642e+00,  7.8462e-01],\n",
      "        [-5.2164e+01, -1.5440e+01,  1.2454e+00,  8.8857e+00,  1.1939e+01],\n",
      "        [-8.2463e+00, -7.6642e+00,  8.7202e+01, -8.8947e+00, -1.7116e+01],\n",
      "        [-1.6882e+01, -1.6878e+00, -3.8631e-01,  4.7779e+00,  2.2576e+00],\n",
      "        [ 1.0540e+01,  1.5314e+01,  1.6819e+01, -1.0603e+02, -1.3163e+01]])\n",
      "2.bias: tensor([ 0.6390,  8.3325, -7.7213,  1.3366,  7.2629])\n",
      "4.weight: tensor([[-0.0417, -0.4665,  0.3583,  0.1532,  0.3395]])\n",
      "4.bias: tensor([0.0045])\n"
     ]
    }
   ],
   "source": [
    "model = nn.Sequential(\n",
    "    nn.Linear(1, 5),\n",
    "    nn.Sigmoid(),\n",
    "    nn.Linear(5, 5),\n",
    "    nn.Sigmoid(),\n",
    "    nn.Linear(5, 1),\n",
    ")\n",
    "\n",
    "\n",
    "\n",
    "\n",
    "\n",
    "x_tensor = torch.tensor(X_scaled, dtype=torch.float32).view(-1, 1) \n",
    "target = torch.tensor(Y_scaled, dtype=torch.float32).view(-1, 1)  \n",
    "\n",
    "criterion = nn.MSELoss()\n",
    "optimizer = optim.Adam(model.parameters(), lr=3e-2)\n",
    "scheduler = optim.lr_scheduler.StepLR(optimizer, step_size=500, gamma=0.99)\n",
    "\n",
    "for epoch in range(20000):\n",
    "    optimizer.zero_grad()\n",
    "    output = model(x_tensor)\n",
    "    loss = criterion(output, target)\n",
    "    loss.backward()\n",
    "    optimizer.step()\n",
    "    scheduler.step()\n",
    "\n",
    "    if epoch % 10000 == 0:\n",
    "        print(f\"Epoch {epoch}, Loss: {100*loss.item():.4f}\")\n",
    "\n",
    "for name, param in model.named_parameters():\n",
    "    print(f\"{name}: {param.data}\")\n",
    "    "
   ]
  },
  {
   "cell_type": "code",
   "execution_count": 89,
   "id": "eb97737b-f786-4832-9aec-f9bd1f41b609",
   "metadata": {},
   "outputs": [],
   "source": [
    "params = []\n",
    "for name, param in model.named_parameters():\n",
    "    params.append(param)\n",
    "for i in range(len(params)):\n",
    "    params[i] = params[i].detach().numpy()\n",
    "weights = [params[0], params[2], params[4]]\n",
    "biases = [params[1], params[3], params[5]]"
   ]
  },
  {
   "cell_type": "code",
   "execution_count": 90,
   "id": "b25abe2b-e370-4686-8c4d-eae346a45e8a",
   "metadata": {},
   "outputs": [
    {
     "data": {
      "application/vnd.jupyter.widget-view+json": {
       "model_id": "e9dda0a2a2eb4b14a67a257d22d336ec",
       "version_major": 2,
       "version_minor": 0
      },
      "text/plain": [
       "VBox(children=(VBox(children=(HBox(children=(FloatSlider(value=94.11056518554688, description='W[0][0,0]', max…"
      ]
     },
     "metadata": {},
     "output_type": "display_data"
    }
   ],
   "source": [
    "interactive_mlp([1, 5, 5, 1], X, Y, 1000, -1000, weights, biases)"
   ]
  },
  {
   "cell_type": "markdown",
   "id": "a97ad378-2c98-4c71-8d15-2467a4ff2f8f",
   "metadata": {},
   "source": [
    "## 2.2 Dane steps-large sieć 1x10 (zajęło jakieś 15 prób zanim MSE zeszło poniżej 9 i przy ponownym odpaleniu kodu w cale nie musi)"
   ]
  },
  {
   "cell_type": "code",
   "execution_count": 115,
   "id": "2af7ec1a-2aba-45c1-815c-d3ee8ef3e5b8",
   "metadata": {},
   "outputs": [
    {
     "name": "stdout",
     "output_type": "stream",
     "text": [
      "Epoch 0, Loss: 58.6288\n",
      "Epoch 10000, Loss: 0.2527\n",
      "Epoch 20000, Loss: 0.1030\n",
      "Epoch 30000, Loss: 0.0647\n",
      "Epoch 40000, Loss: 0.0471\n",
      "Epoch 50000, Loss: 0.0356\n",
      "Epoch 60000, Loss: 0.0286\n",
      "Epoch 70000, Loss: 0.0242\n",
      "Epoch 80000, Loss: 0.0214\n",
      "Epoch 90000, Loss: 0.0194\n",
      "Epoch 100000, Loss: 0.0179\n",
      "Epoch 110000, Loss: 0.0168\n",
      "Epoch 120000, Loss: 0.0160\n",
      "Epoch 130000, Loss: 0.0153\n",
      "Epoch 140000, Loss: 0.0147\n",
      "Epoch 150000, Loss: 0.0143\n",
      "Epoch 160000, Loss: 0.0139\n",
      "Epoch 170000, Loss: 0.0136\n",
      "Epoch 180000, Loss: 0.0134\n",
      "Epoch 190000, Loss: 0.0132\n",
      "Epoch 200000, Loss: 0.0130\n",
      "Epoch 210000, Loss: 0.0129\n",
      "Epoch 220000, Loss: 0.0127\n",
      "Epoch 230000, Loss: 0.0126\n",
      "Epoch 240000, Loss: 0.0126\n",
      "Epoch 250000, Loss: 0.0125\n",
      "Epoch 260000, Loss: 0.0124\n",
      "Epoch 270000, Loss: 0.0124\n",
      "Epoch 280000, Loss: 0.0124\n",
      "Epoch 290000, Loss: 0.0123\n",
      "Epoch 300000, Loss: 0.0123\n",
      "Epoch 310000, Loss: 0.0123\n",
      "Epoch 320000, Loss: 0.0123\n",
      "Epoch 330000, Loss: 0.0122\n",
      "Epoch 340000, Loss: 0.0122\n",
      "Epoch 350000, Loss: 0.0122\n",
      "Epoch 360000, Loss: 0.0122\n",
      "Epoch 370000, Loss: 0.0122\n",
      "Epoch 380000, Loss: 0.0122\n",
      "Epoch 390000, Loss: 0.0122\n",
      "Epoch 400000, Loss: 0.0122\n",
      "Epoch 410000, Loss: 0.0122\n",
      "Epoch 420000, Loss: 0.0122\n",
      "Epoch 430000, Loss: 0.0122\n",
      "Epoch 440000, Loss: 0.0122\n",
      "Epoch 450000, Loss: 0.0122\n",
      "Epoch 460000, Loss: 0.0122\n",
      "Epoch 470000, Loss: 0.0122\n",
      "Epoch 480000, Loss: 0.0122\n",
      "Epoch 490000, Loss: 0.0122\n",
      "0.weight: tensor([[-883.0369],\n",
      "        [  -8.2172],\n",
      "        [ 149.7426],\n",
      "        [ -10.1439],\n",
      "        [  -1.2856],\n",
      "        [ 400.2364],\n",
      "        [-465.2824],\n",
      "        [ -69.3871],\n",
      "        [  11.9041],\n",
      "        [ -81.8455]])\n",
      "0.bias: tensor([ 125.4862,   -1.3217,  -64.1273,   -1.6235,    0.2911, -171.4108,\n",
      "         -65.6258,   -9.9498,   -5.1613,  -11.7058])\n",
      "2.weight: tensor([[-0.3427, -0.7871, -0.1644,  0.5726,  0.9712,  0.4804, -0.4277, -0.5392,\n",
      "          0.1369,  0.6109]])\n",
      "2.bias: tensor([-0.1423])\n"
     ]
    }
   ],
   "source": [
    "model = nn.Sequential(\n",
    "    nn.Linear(1, 10),\n",
    "    nn.Sigmoid(),\n",
    "    nn.Linear(10, 1),\n",
    ")\n",
    "\n",
    "\n",
    "\n",
    "\n",
    "\n",
    "x_tensor = torch.tensor(X_scaled, dtype=torch.float32).view(-1, 1) \n",
    "target = torch.tensor(Y_scaled, dtype=torch.float32).view(-1, 1)  \n",
    "\n",
    "criterion = nn.MSELoss()\n",
    "optimizer = optim.Adam(model.parameters(), lr=3e-2)\n",
    "scheduler = optim.lr_scheduler.StepLR(optimizer, step_size=500, gamma=0.99)\n",
    "\n",
    "for epoch in range(500000):\n",
    "    optimizer.zero_grad()\n",
    "    output = model(x_tensor)\n",
    "    loss = criterion(output, target)\n",
    "    loss.backward()\n",
    "    optimizer.step()\n",
    "    scheduler.step()\n",
    "\n",
    "    if epoch % 10000 == 0:\n",
    "        print(f\"Epoch {epoch}, Loss: {100*loss.item():.4f}\")\n",
    "\n",
    "for name, param in model.named_parameters():\n",
    "    print(f\"{name}: {param.data}\")\n",
    "    \n"
   ]
  },
  {
   "cell_type": "code",
   "execution_count": 116,
   "id": "16ea540b-398b-4b22-829b-e6faa621fe32",
   "metadata": {},
   "outputs": [],
   "source": [
    "params = []\n",
    "for name, param in model.named_parameters():\n",
    "    params.append(param)\n",
    "for i in range(len(params)):\n",
    "    params[i] = params[i].detach().numpy()\n",
    "weights = [params[0], params[2]]\n",
    "biases = [params[1], params[3]]"
   ]
  },
  {
   "cell_type": "code",
   "execution_count": 117,
   "id": "88f1735a-b62d-4b31-86fd-75d646a65115",
   "metadata": {},
   "outputs": [
    {
     "data": {
      "application/vnd.jupyter.widget-view+json": {
       "model_id": "6a8600520dd84713853f5b63fb4ee392",
       "version_major": 2,
       "version_minor": 0
      },
      "text/plain": [
       "VBox(children=(VBox(children=(HBox(children=(FloatSlider(value=-883.0369262695312, description='W[0][0,0]', ma…"
      ]
     },
     "metadata": {},
     "output_type": "display_data"
    }
   ],
   "source": [
    "interactive_mlp([1, 10, 1], X, Y, 1000, -1000, weights, biases)"
   ]
  },
  {
   "cell_type": "markdown",
   "id": "8e9eca43-3882-4bda-9f76-1fb90763b0ec",
   "metadata": {},
   "source": [
    "## 2.3 Dane steps-large sieć 1x5 (Tutaj w ogóle nie udało się zejść poniżej 9)"
   ]
  },
  {
   "cell_type": "code",
   "execution_count": 151,
   "id": "19b9b180-bb07-42d7-9bac-3b205b836fc8",
   "metadata": {},
   "outputs": [
    {
     "name": "stdout",
     "output_type": "stream",
     "text": [
      "Epoch 0, Loss: 14.8283\n",
      "Epoch 10000, Loss: 0.2929\n",
      "Epoch 20000, Loss: 0.1136\n",
      "Epoch 30000, Loss: 0.0637\n",
      "Epoch 40000, Loss: 0.0472\n",
      "Epoch 50000, Loss: 0.0391\n",
      "Epoch 60000, Loss: 0.0341\n",
      "Epoch 70000, Loss: 0.0304\n",
      "Epoch 80000, Loss: 0.0269\n",
      "Epoch 90000, Loss: 0.0228\n",
      "Epoch 100000, Loss: 0.0213\n",
      "Epoch 110000, Loss: 0.0201\n",
      "Epoch 120000, Loss: 0.0192\n",
      "Epoch 130000, Loss: 0.0185\n",
      "Epoch 140000, Loss: 0.0179\n",
      "Epoch 150000, Loss: 0.0174\n",
      "Epoch 160000, Loss: 0.0169\n",
      "Epoch 170000, Loss: 0.0166\n",
      "Epoch 180000, Loss: 0.0162\n",
      "Epoch 190000, Loss: 0.0159\n",
      "Epoch 200000, Loss: 0.0157\n",
      "Epoch 210000, Loss: 0.0155\n",
      "Epoch 220000, Loss: 0.0153\n",
      "Epoch 230000, Loss: 0.0151\n",
      "Epoch 240000, Loss: 0.0150\n",
      "Epoch 250000, Loss: 0.0148\n",
      "Epoch 260000, Loss: 0.0147\n",
      "Epoch 270000, Loss: 0.0146\n",
      "Epoch 280000, Loss: 0.0146\n",
      "Epoch 290000, Loss: 0.0145\n",
      "Epoch 300000, Loss: 0.0145\n",
      "Epoch 310000, Loss: 0.0144\n",
      "Epoch 320000, Loss: 0.0144\n",
      "Epoch 330000, Loss: 0.0143\n",
      "Epoch 340000, Loss: 0.0143\n",
      "Epoch 350000, Loss: 0.0143\n",
      "Epoch 360000, Loss: 0.0143\n",
      "Epoch 370000, Loss: 0.0143\n",
      "Epoch 380000, Loss: 0.0143\n",
      "Epoch 390000, Loss: 0.0143\n",
      "Epoch 400000, Loss: 0.0143\n",
      "Epoch 410000, Loss: 0.0142\n",
      "Epoch 420000, Loss: 0.0142\n",
      "Epoch 430000, Loss: 0.0142\n",
      "Epoch 440000, Loss: 0.0142\n",
      "Epoch 450000, Loss: 0.0142\n",
      "Epoch 460000, Loss: 0.0142\n",
      "Epoch 470000, Loss: 0.0142\n",
      "Epoch 480000, Loss: 0.0142\n",
      "Epoch 490000, Loss: 0.0142\n",
      "0.weight: tensor([[-196.7325],\n",
      "        [-193.9919],\n",
      "        [-173.1064],\n",
      "        [ 680.4220],\n",
      "        [-763.3205]])\n",
      "0.bias: tensor([  26.8736,   28.4908,   24.5423, -291.5800, -107.8253])\n",
      "2.weight: tensor([[ 2.9272,  2.9764, -6.2376,  0.3339, -0.3334]])\n",
      "2.bias: tensor([0.3337])\n"
     ]
    }
   ],
   "source": [
    "model = nn.Sequential(\n",
    "    nn.Linear(1, 5),\n",
    "    nn.Sigmoid(),\n",
    "    nn.Linear(5, 1),\n",
    ")\n",
    "\n",
    "\n",
    "\n",
    "\n",
    "\n",
    "x_tensor = torch.tensor(X_scaled, dtype=torch.float32).view(-1, 1) \n",
    "target = torch.tensor(Y_scaled, dtype=torch.float32).view(-1, 1)  \n",
    "\n",
    "criterion = nn.MSELoss()\n",
    "optimizer = optim.Adam(model.parameters(), lr=3e-2)\n",
    "scheduler = optim.lr_scheduler.StepLR(optimizer, step_size=500, gamma=0.99)\n",
    "\n",
    "for epoch in range(500000):\n",
    "    optimizer.zero_grad()\n",
    "    output = model(x_tensor)\n",
    "    loss = criterion(output, target)\n",
    "    loss.backward()\n",
    "    optimizer.step()\n",
    "    scheduler.step()\n",
    "\n",
    "    if epoch % 10000 == 0:\n",
    "        print(f\"Epoch {epoch}, Loss: {100*loss.item():.4f}\")\n",
    "\n",
    "for name, param in model.named_parameters():\n",
    "    print(f\"{name}: {param.data}\")"
   ]
  },
  {
   "cell_type": "code",
   "execution_count": 152,
   "id": "46ebf2c3-2dbe-4442-90fb-33a58f57d4bf",
   "metadata": {},
   "outputs": [],
   "source": [
    "params = []\n",
    "for name, param in model.named_parameters():\n",
    "    params.append(param)\n",
    "for i in range(len(params)):\n",
    "    params[i] = params[i].detach().numpy()\n",
    "weights = [params[0], params[2]]\n",
    "biases = [params[1], params[3]]"
   ]
  },
  {
   "cell_type": "code",
   "execution_count": 153,
   "id": "b911969b-f394-4b8c-acf9-4e6de139431c",
   "metadata": {},
   "outputs": [
    {
     "data": {
      "application/vnd.jupyter.widget-view+json": {
       "model_id": "b3d95e8b4900434c942505adeab7a885",
       "version_major": 2,
       "version_minor": 0
      },
      "text/plain": [
       "VBox(children=(VBox(children=(HBox(children=(FloatSlider(value=-196.73245239257812, description='W[0][0,0]', m…"
      ]
     },
     "metadata": {},
     "output_type": "display_data"
    }
   ],
   "source": [
    "interactive_mlp([1, 5, 1], X, Y, 1000, -1000, weights, biases)"
   ]
  },
  {
   "cell_type": "code",
   "execution_count": null,
   "id": "9e700e96-9d04-4a35-8017-1eaa021c20d0",
   "metadata": {},
   "outputs": [],
   "source": []
  }
 ],
 "metadata": {
  "kernelspec": {
   "display_name": "Python 3 (ipykernel)",
   "language": "python",
   "name": "python3"
  },
  "language_info": {
   "codemirror_mode": {
    "name": "ipython",
    "version": 3
   },
   "file_extension": ".py",
   "mimetype": "text/x-python",
   "name": "python",
   "nbconvert_exporter": "python",
   "pygments_lexer": "ipython3",
   "version": "3.12.5"
  }
 },
 "nbformat": 4,
 "nbformat_minor": 5
}
